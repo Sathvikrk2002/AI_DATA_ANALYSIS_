{
 "cells": [
  {
   "cell_type": "code",
   "execution_count": 2,
   "metadata": {},
   "outputs": [
    {
     "name": "stdout",
     "output_type": "stream",
     "text": [
      "[10, 12, 11, 13, 12, 10, 11, 100, 200, 200]\n"
     ]
    }
   ],
   "source": [
    "import numpy as np\n",
    "from scipy.stats.mstats import winsorize\n",
    "\n",
    "def apply_winsorization(data, limits=(0.05, 0.05)):\n",
    "    \"\"\"\n",
    "    Apply Winsorization to handle outliers by limiting extreme values.\n",
    "\n",
    "    Parameters:\n",
    "    - data: list or array of numerical values\n",
    "    - limits: tuple (lower_limit, upper_limit), proportion of data to winsorize on each end\n",
    "\n",
    "    Returns:\n",
    "    - Winsorized data as a list\n",
    "    \"\"\"\n",
    "    data_array = np.array(data)  # Convert list to numpy array\n",
    "    winsorized_data = winsorize(data_array, limits=limits)\n",
    "    return list(winsorized_data)\n",
    "\n",
    "# Example usage\n",
    "dataset = [10, 12, 11, 13, 12, 10, 11, 100, 200, 300]\n",
    "winsorized_dataset = apply_winsorization(dataset, limits=(0.1, 0.1))  # winsorize 10% both ends\n",
    "print(winsorized_dataset)\n"
   ]
  }
 ],
 "metadata": {
  "kernelspec": {
   "display_name": "Python 3",
   "language": "python",
   "name": "python3"
  },
  "language_info": {
   "codemirror_mode": {
    "name": "ipython",
    "version": 3
   },
   "file_extension": ".py",
   "mimetype": "text/x-python",
   "name": "python",
   "nbconvert_exporter": "python",
   "pygments_lexer": "ipython3",
   "version": "3.10.12"
  }
 },
 "nbformat": 4,
 "nbformat_minor": 2
}
