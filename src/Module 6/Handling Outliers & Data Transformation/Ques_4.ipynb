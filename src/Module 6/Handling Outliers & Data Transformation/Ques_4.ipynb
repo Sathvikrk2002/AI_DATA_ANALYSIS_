{
 "cells": [
  {
   "cell_type": "code",
   "execution_count": 1,
   "metadata": {},
   "outputs": [
    {
     "name": "stdout",
     "output_type": "stream",
     "text": [
      "Outlier indices: []\n"
     ]
    }
   ],
   "source": [
    "import numpy as np\n",
    "from scipy.stats import chi2\n",
    "\n",
    "def mahalanobis_outliers(data, threshold=0.01):\n",
    "    \"\"\"\n",
    "    Detect multivariate outliers using Mahalanobis distance.\n",
    "    \n",
    "    Parameters:\n",
    "    - data: list or numpy array of shape (n_samples, n_features)\n",
    "    - threshold: significance level for chi-square distribution (default 0.01)\n",
    "    \n",
    "    Returns:\n",
    "    - List of indices of detected outliers\n",
    "    \"\"\"\n",
    "    data = np.array(data)\n",
    "    mean_vec = np.mean(data, axis=0)\n",
    "    cov_matrix = np.cov(data, rowvar=False)\n",
    "    inv_cov_matrix = np.linalg.inv(cov_matrix)\n",
    "    \n",
    "    # Compute Mahalanobis distance for each point\n",
    "    distances = []\n",
    "    for i in range(len(data)):\n",
    "        diff = data[i] - mean_vec\n",
    "        md = np.sqrt(diff.T @ inv_cov_matrix @ diff)\n",
    "        distances.append(md)\n",
    "    distances = np.array(distances)\n",
    "    \n",
    "    # Determine cutoff distance from Chi-square distribution\n",
    "    dof = data.shape[1]  # degrees of freedom = number of features\n",
    "    cutoff = np.sqrt(chi2.ppf(1 - threshold, dof))\n",
    "    \n",
    "    # Identify outliers\n",
    "    outlier_indices = np.where(distances > cutoff)[0]\n",
    "    return outlier_indices.tolist()\n",
    "\n",
    "# Example usage\n",
    "dataset = [\n",
    "    [2, 3],\n",
    "    [3, 4],\n",
    "    [4, 5],\n",
    "    [5, 6],\n",
    "    [100, 100]  # obvious outlier\n",
    "]\n",
    "\n",
    "outliers = mahalanobis_outliers(dataset, threshold=0.01)\n",
    "print(\"Outlier indices:\", outliers)\n"
   ]
  }
 ],
 "metadata": {
  "kernelspec": {
   "display_name": "Python 3",
   "language": "python",
   "name": "python3"
  },
  "language_info": {
   "codemirror_mode": {
    "name": "ipython",
    "version": 3
   },
   "file_extension": ".py",
   "mimetype": "text/x-python",
   "name": "python",
   "nbconvert_exporter": "python",
   "pygments_lexer": "ipython3",
   "version": "3.10.12"
  }
 },
 "nbformat": 4,
 "nbformat_minor": 2
}
