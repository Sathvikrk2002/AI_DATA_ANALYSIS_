{
 "cells": [
  {
   "cell_type": "code",
   "execution_count": 1,
   "metadata": {},
   "outputs": [
    {
     "name": "stdout",
     "output_type": "stream",
     "text": [
      "Transformed data: [0.         0.89952677 1.67649209 2.38322961 3.04195185 3.66477639\n",
      " 4.25925107 4.83048762 5.38215489 5.91700119]\n",
      "Lambda parameter: 0.7219640405941824\n"
     ]
    }
   ],
   "source": [
    "import numpy as np\n",
    "from scipy.stats import boxcox\n",
    "\n",
    "def apply_boxcox_transformation(data):\n",
    "    \"\"\"\n",
    "    Apply Box-Cox transformation to stabilize variance and make data more normal.\n",
    "\n",
    "    Parameters:\n",
    "    - data: list or array of positive numerical values (must be > 0)\n",
    "\n",
    "    Returns:\n",
    "    - transformed_data: numpy array of transformed values\n",
    "    - lambda_val: the lambda parameter used for transformation\n",
    "    \"\"\"\n",
    "    data_array = np.array(data)\n",
    "    # Box-Cox requires strictly positive values\n",
    "    if np.any(data_array <= 0):\n",
    "        raise ValueError(\"All data values must be positive for Box-Cox transformation.\")\n",
    "    \n",
    "    transformed_data, lambda_val = boxcox(data_array)\n",
    "    return transformed_data, lambda_val\n",
    "\n",
    "# Example usage\n",
    "dataset = [1, 2, 3, 4, 5, 6, 7, 8, 9, 10]\n",
    "transformed_data, lam = apply_boxcox_transformation(dataset)\n",
    "print(\"Transformed data:\", transformed_data)\n",
    "print(\"Lambda parameter:\", lam)\n"
   ]
  }
 ],
 "metadata": {
  "kernelspec": {
   "display_name": "Python 3",
   "language": "python",
   "name": "python3"
  },
  "language_info": {
   "codemirror_mode": {
    "name": "ipython",
    "version": 3
   },
   "file_extension": ".py",
   "mimetype": "text/x-python",
   "name": "python",
   "nbconvert_exporter": "python",
   "pygments_lexer": "ipython3",
   "version": "3.10.12"
  }
 },
 "nbformat": 4,
 "nbformat_minor": 2
}
