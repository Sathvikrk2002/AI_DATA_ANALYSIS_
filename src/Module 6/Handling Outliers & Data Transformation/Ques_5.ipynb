{
 "cells": [
  {
   "cell_type": "code",
   "execution_count": 1,
   "metadata": {},
   "outputs": [
    {
     "name": "stdout",
     "output_type": "stream",
     "text": [
      "Z-score outliers indices: []\n",
      "IQR outliers indices: [8, 9]\n",
      "Boxplot outliers indices: [8, 9]\n"
     ]
    }
   ],
   "source": [
    "import numpy as np\n",
    "import matplotlib.pyplot as plt\n",
    "\n",
    "def detect_outliers_zscore(data, threshold=3):\n",
    "    \"\"\"\n",
    "    Detect outliers using Z-score method.\n",
    "    Returns indices of outliers.\n",
    "    \"\"\"\n",
    "    data = np.array(data)\n",
    "    mean = np.mean(data)\n",
    "    std = np.std(data)\n",
    "    z_scores = (data - mean) / std\n",
    "    outliers = np.where(np.abs(z_scores) > threshold)[0]\n",
    "    return outliers.tolist()\n",
    "\n",
    "def detect_outliers_iqr(data):\n",
    "    \"\"\"\n",
    "    Detect outliers using IQR method.\n",
    "    Returns indices of outliers.\n",
    "    \"\"\"\n",
    "    data = np.array(data)\n",
    "    q1 = np.percentile(data, 25)\n",
    "    q3 = np.percentile(data, 75)\n",
    "    iqr = q3 - q1\n",
    "    lower_bound = q1 - 1.5 * iqr\n",
    "    upper_bound = q3 + 1.5 * iqr\n",
    "    outliers = np.where((data < lower_bound) | (data > upper_bound))[0]\n",
    "    return outliers.tolist()\n",
    "\n",
    "def detect_outliers_boxplot(data):\n",
    "    \"\"\"\n",
    "    Detect outliers using boxplot method (matplotlib).\n",
    "    Returns indices of outliers.\n",
    "    \"\"\"\n",
    "    data = np.array(data)\n",
    "    fig = plt.figure()\n",
    "    ax = fig.add_subplot()\n",
    "    bp = ax.boxplot(data, patch_artist=True)\n",
    "    plt.close(fig)  # Prevent plot from displaying\n",
    "    outliers = bp['fliers'][0].get_ydata()\n",
    "    # Find indices in data that match outliers detected by boxplot\n",
    "    outlier_indices = [i for i, val in enumerate(data) if val in outliers]\n",
    "    return outlier_indices\n",
    "\n",
    "# Example usage\n",
    "dataset = [10, 12, 12, 13, 12, 10, 11, 100, 200, 300]\n",
    "\n",
    "z_outliers = detect_outliers_zscore(dataset)\n",
    "iqr_outliers = detect_outliers_iqr(dataset)\n",
    "boxplot_outliers = detect_outliers_boxplot(dataset)\n",
    "\n",
    "print(\"Z-score outliers indices:\", z_outliers)\n",
    "print(\"IQR outliers indices:\", iqr_outliers)\n",
    "print(\"Boxplot outliers indices:\", boxplot_outliers)\n"
   ]
  }
 ],
 "metadata": {
  "kernelspec": {
   "display_name": "Python 3",
   "language": "python",
   "name": "python3"
  },
  "language_info": {
   "codemirror_mode": {
    "name": "ipython",
    "version": 3
   },
   "file_extension": ".py",
   "mimetype": "text/x-python",
   "name": "python",
   "nbconvert_exporter": "python",
   "pygments_lexer": "ipython3",
   "version": "3.10.12"
  }
 },
 "nbformat": 4,
 "nbformat_minor": 2
}
