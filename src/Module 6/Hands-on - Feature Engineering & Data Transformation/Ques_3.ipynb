{
 "cells": [
  {
   "cell_type": "code",
   "execution_count": 1,
   "metadata": {},
   "outputs": [
    {
     "name": "stdout",
     "output_type": "stream",
     "text": [
      "Original Data:\n",
      "   Mileage  Horsepower Fuel_Type\n",
      "0       20         130    Petrol\n",
      "1       30         165    Diesel\n",
      "2       15         120    Petrol\n",
      "3       25         140    Diesel\n",
      "4       35         200    Petrol\n",
      "5       40         220    Diesel\n",
      "6       18         115    Petrol\n",
      "\n",
      "Data after scaling and encoding:\n",
      "    Mileage  Horsepower  Fuel_Type\n",
      "0 -0.716269   -0.679608          1\n",
      "1  0.449750    0.245414          0\n",
      "2 -1.299278   -0.943900          1\n",
      "3 -0.133259   -0.415316          0\n",
      "4  1.032760    1.170436          1\n",
      "5  1.615769    1.699021          0\n",
      "6 -0.949473   -1.076046          1\n",
      "\n",
      "Summary statistics after scaling:\n",
      "            Mileage    Horsepower\n",
      "count  7.000000e+00  7.000000e+00\n",
      "mean   7.930164e-17 -1.903239e-16\n",
      "std    1.080123e+00  1.080123e+00\n",
      "min   -1.299278e+00 -1.076046e+00\n",
      "25%   -8.328708e-01 -8.117543e-01\n",
      "50%   -1.332593e-01 -4.153162e-01\n",
      "75%    7.412550e-01  7.079253e-01\n",
      "max    1.615769e+00  1.699021e+00\n",
      "\n",
      "Unique classes for Fuel_Type after encoding:\n",
      "{'Diesel': 0, 'Petrol': 1}\n"
     ]
    }
   ],
   "source": [
    "import pandas as pd\n",
    "from sklearn.preprocessing import StandardScaler, LabelEncoder\n",
    "\n",
    "# Step 1: Create sample data similar to car_features.csv\n",
    "data = {\n",
    "    'Mileage': [20, 30, 15, 25, 35, 40, 18],\n",
    "    'Horsepower': [130, 165, 120, 140, 200, 220, 115],\n",
    "    'Fuel_Type': ['Petrol', 'Diesel', 'Petrol', 'Diesel', 'Petrol', 'Diesel', 'Petrol']\n",
    "}\n",
    "df = pd.DataFrame(data)\n",
    "\n",
    "print(\"Original Data:\")\n",
    "print(df)\n",
    "\n",
    "# Step 2: Scale Mileage and Horsepower using StandardScaler\n",
    "scaler = StandardScaler()\n",
    "df[['Mileage', 'Horsepower']] = scaler.fit_transform(df[['Mileage', 'Horsepower']])\n",
    "\n",
    "# Step 3: Encode Fuel_Type using Label Encoding\n",
    "le = LabelEncoder()\n",
    "df['Fuel_Type'] = le.fit_transform(df['Fuel_Type'])\n",
    "\n",
    "# Step 4: Verify the transformations\n",
    "print(\"\\nData after scaling and encoding:\")\n",
    "print(df)\n",
    "\n",
    "print(\"\\nSummary statistics after scaling:\")\n",
    "print(df[['Mileage', 'Horsepower']].describe())\n",
    "\n",
    "print(\"\\nUnique classes for Fuel_Type after encoding:\")\n",
    "print(dict(zip(le.classes_, le.transform(le.classes_))))\n"
   ]
  }
 ],
 "metadata": {
  "kernelspec": {
   "display_name": "Python 3",
   "language": "python",
   "name": "python3"
  },
  "language_info": {
   "codemirror_mode": {
    "name": "ipython",
    "version": 3
   },
   "file_extension": ".py",
   "mimetype": "text/x-python",
   "name": "python",
   "nbconvert_exporter": "python",
   "pygments_lexer": "ipython3",
   "version": "3.10.12"
  }
 },
 "nbformat": 4,
 "nbformat_minor": 2
}
