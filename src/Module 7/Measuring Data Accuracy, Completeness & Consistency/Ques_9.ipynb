{
 "cells": [
  {
   "cell_type": "markdown",
   "metadata": {},
   "source": [
    "# Measuring Completeness\n",
    "\n",
    "**Activity Overview**: Evaluate data completeness by checking missing data rates and handling partially available records.\n",
    "\n",
    "## Title: Customer Profiles\n",
    "\n",
    "**Task**: Calculate the missing data rate for customer profiles.\n",
    "\n",
    "**Steps**:\n",
    "1. List all required fields for a complete customer profile (e.g., name, address, email,\n",
    "phone number).\n",
    "2. Analyze the dataset to count how many profiles have missing fields.\n",
    "3. Calculate the percentage of missing data fields across all profiles."
   ]
  },
  {
   "cell_type": "code",
   "execution_count": 1,
   "metadata": {},
   "outputs": [
    {
     "name": "stdout",
     "output_type": "stream",
     "text": [
      "Number of incomplete profiles: 3\n",
      "\n",
      "Missing Data Percentage per Field:\n",
      "name            20.0\n",
      "address         20.0\n",
      "email           40.0\n",
      "phone_number    40.0\n",
      "dtype: float64\n"
     ]
    }
   ],
   "source": [
    "import pandas as pd\n",
    "\n",
    "# Create sample customer data with missing values\n",
    "data = {\n",
    "    \"name\": [\"Alice\", \"Bob\", None, \"David\", \"Eva\"],\n",
    "    \"address\": [\"123 Lane\", None, \"789 Road\", \"456 Street\", \"101 Blvd\"],\n",
    "    \"email\": [\"alice@example.com\", None, \"charlie@example.com\", \"david@example.com\", None],\n",
    "    \"phone_number\": [\"123-4567\", \"234-5678\", None, \"345-6789\", None]\n",
    "}\n",
    "\n",
    "df = pd.DataFrame(data)\n",
    "\n",
    "# Define required fields for a complete profile\n",
    "required_fields = [\"name\", \"address\", \"email\", \"phone_number\"]\n",
    "\n",
    "# Count missing fields for each profile\n",
    "df[\"missing_fields_count\"] = df[required_fields].isnull().sum(axis=1)\n",
    "\n",
    "# Count incomplete profiles\n",
    "incomplete_profiles = df[df[\"missing_fields_count\"] > 0]\n",
    "num_incomplete_profiles = len(incomplete_profiles)\n",
    "\n",
    "# Calculate percentage of missing data per field\n",
    "missing_percentage_per_field = df[required_fields].isnull().mean() * 100\n",
    "\n",
    "# Output results\n",
    "print(\"Number of incomplete profiles:\", num_incomplete_profiles)\n",
    "print(\"\\nMissing Data Percentage per Field:\")\n",
    "print(missing_percentage_per_field)"
   ]
  }
 ],
 "metadata": {
  "kernelspec": {
   "display_name": "Python 3",
   "language": "python",
   "name": "python3"
  },
  "language_info": {
   "codemirror_mode": {
    "name": "ipython",
    "version": 3
   },
   "file_extension": ".py",
   "mimetype": "text/x-python",
   "name": "python",
   "nbconvert_exporter": "python",
   "pygments_lexer": "ipython3",
   "version": "3.10.12"
  }
 },
 "nbformat": 4,
 "nbformat_minor": 2
}
