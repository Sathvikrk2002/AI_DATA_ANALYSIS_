{
 "cells": [
  {
   "cell_type": "markdown",
   "metadata": {},
   "source": [
    "# Measuring Data Accuracy\n",
    "\n",
    "**Activity Overview**: Assess data accuracy by comparing it to a trusted source and detecting incorrect values or mismatches.\n",
    "\n",
    "## Title: Product Pricing\n",
    "\n",
    "**Task**: Compare a dataset of product prices with the latest official price list.\n",
    "\n",
    "**Steps**:\n",
    "1. Obtain the latest product price list from the official company website.\n",
    "2. Compare the dataset's product prices against the verified list.\n",
    "3. Identify any discrepancies and mark them for correction."
   ]
  },
  {
   "cell_type": "code",
   "execution_count": 1,
   "metadata": {},
   "outputs": [
    {
     "name": "stdout",
     "output_type": "stream",
     "text": [
      "🔍 Merged Price Comparison:\n",
      "\n",
      "   product_id product_name_company  price_company  price_trusted  price_match\n",
      "0         101                    A            100            100         True\n",
      "1         102                    B            200            200         True\n",
      "2         103                    C            150            150         True\n",
      "3         104                    D            390            400        False\n",
      "\n",
      "⚠️ Discrepancies Found:\n",
      "\n",
      "   product_id product_name_company  price_company  price_trusted\n",
      "3         104                    D            390            400\n"
     ]
    }
   ],
   "source": [
    "import pandas as pd\n",
    "\n",
    "# Step 1: Create sample company data and trusted data\n",
    "company_data = {\n",
    "    \"product_id\": [101, 102, 103, 104],\n",
    "    \"product_name\": [\"A\", \"B\", \"C\", \"D\"],\n",
    "    \"price\": [100, 200, 150, 390]  # Let's assume 104 is incorrect (should be 400)\n",
    "}\n",
    "\n",
    "trusted_data = {\n",
    "    \"product_id\": [101, 102, 103, 104],\n",
    "    \"product_name\": [\"A\", \"B\", \"C\", \"D\"],\n",
    "    \"price\": [100, 200, 150, 400]  # Correct price for product_id 104\n",
    "}\n",
    "\n",
    "# Convert to DataFrames\n",
    "company_df = pd.DataFrame(company_data)\n",
    "trusted_df = pd.DataFrame(trusted_data)\n",
    "\n",
    "# Step 2: Merge datasets on product_id\n",
    "merged_df = pd.merge(company_df, trusted_df, on=\"product_id\", suffixes=(\"_company\", \"_trusted\"))\n",
    "\n",
    "# Step 3: Compare prices\n",
    "merged_df[\"price_match\"] = merged_df[\"price_company\"] == merged_df[\"price_trusted\"]\n",
    "\n",
    "# Step 4: Identify discrepancies\n",
    "discrepancies = merged_df[merged_df[\"price_match\"] == False]\n",
    "\n",
    "# Print the results\n",
    "print(\"🔍 Merged Price Comparison:\\n\")\n",
    "print(merged_df[[\"product_id\", \"product_name_company\", \"price_company\", \"price_trusted\", \"price_match\"]])\n",
    "\n",
    "print(\"\\n⚠️ Discrepancies Found:\\n\")\n",
    "print(discrepancies[[\"product_id\", \"product_name_company\", \"price_company\", \"price_trusted\"]])"
   ]
  }
 ],
 "metadata": {
  "kernelspec": {
   "display_name": "Python 3",
   "language": "python",
   "name": "python3"
  },
  "language_info": {
   "codemirror_mode": {
    "name": "ipython",
    "version": 3
   },
   "file_extension": ".py",
   "mimetype": "text/x-python",
   "name": "python",
   "nbconvert_exporter": "python",
   "pygments_lexer": "ipython3",
   "version": "3.10.12"
  }
 },
 "nbformat": 4,
 "nbformat_minor": 2
}
