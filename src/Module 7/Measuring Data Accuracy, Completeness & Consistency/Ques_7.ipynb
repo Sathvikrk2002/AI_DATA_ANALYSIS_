{
 "cells": [
  {
   "cell_type": "markdown",
   "metadata": {},
   "source": [
    "## Advanced Consistency Check with Hierarchical Data\n",
    "\n",
    "**Description**: You have two datasets `orders.csv` and `order_items.csv` . Perform a consistency check to ensure each order in `orders.csv` has corresponding items in `order_items.csv` ."
   ]
  },
  {
   "cell_type": "code",
   "execution_count": 3,
   "metadata": {},
   "outputs": [
    {
     "name": "stdout",
     "output_type": "stream",
     "text": [
      "Current Directory: /workspaces/AI_DATA_ANALYSIS_/src/Module 7/Measuring Data Accuracy, Completeness & Consistency\n",
      "\n",
      "❌ File not found: [Errno 2] No such file or directory: 'orders.csv'\n",
      "Make sure 'orders.csv' and 'order_items.csv' are in the same directory as this script.\n"
     ]
    }
   ],
   "source": [
    "import pandas as pd\n",
    "import os\n",
    "\n",
    "# Step 1: Check working directory\n",
    "print(\"Current Directory:\", os.getcwd())\n",
    "\n",
    "# Step 2: Load datasets\n",
    "try:\n",
    "    orders_df = pd.read_csv(\"orders.csv\")\n",
    "    items_df = pd.read_csv(\"order_items.csv\")\n",
    "\n",
    "    print(\"\\nOrders Dataset Preview:\")\n",
    "    print(orders_df.head())\n",
    "\n",
    "    print(\"\\nOrder Items Dataset Preview:\")\n",
    "    print(items_df.head())\n",
    "\n",
    "    # Step 3: Check consistency - every order must have at least one item\n",
    "    order_ids_with_items = set(items_df['order_id'].unique())\n",
    "    all_order_ids = set(orders_df['order_id'].unique())\n",
    "\n",
    "    # Find orders with no matching items\n",
    "    missing_items_orders = all_order_ids - order_ids_with_items\n",
    "\n",
    "    if missing_items_orders:\n",
    "        print(f\"\\n⚠️ Orders with no items: {len(missing_items_orders)} found\")\n",
    "        print(\"Order IDs missing items:\\n\", missing_items_orders)\n",
    "    else:\n",
    "        print(\"\\n✅ All orders have corresponding order items.\")\n",
    "\n",
    "except FileNotFoundError as e:\n",
    "    print(\"\\n❌ File not found:\", e)\n",
    "    print(\"Make sure 'orders.csv' and 'order_items.csv' are in the same directory as this script.\")"
   ]
  }
 ],
 "metadata": {
  "kernelspec": {
   "display_name": "Python 3",
   "language": "python",
   "name": "python3"
  },
  "language_info": {
   "codemirror_mode": {
    "name": "ipython",
    "version": 3
   },
   "file_extension": ".py",
   "mimetype": "text/x-python",
   "name": "python",
   "nbconvert_exporter": "python",
   "pygments_lexer": "ipython3",
   "version": "3.10.12"
  }
 },
 "nbformat": 4,
 "nbformat_minor": 2
}
