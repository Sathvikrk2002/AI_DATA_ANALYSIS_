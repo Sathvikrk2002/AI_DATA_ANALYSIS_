{
 "cells": [
  {
   "cell_type": "markdown",
   "metadata": {},
   "source": [
    "# Ensuring Consistency\n",
    "\n",
    "**Activity Overview**: Ensure consistency by identifying and resolving conflicting values across datasets.\n",
    "\n",
    "## Title: Customer Address Discrepancies\n",
    "\n",
    "**Task**: Address customer address mismatches between CRM and marketing databases.\n",
    "\n",
    "**Steps**:\n",
    "1. Compare customer addresses in the CRM with those in the marketing database.\n",
    "2. Identify records with conflicting address information.\n",
    "3. Propose a method to consolidate records with verified addresses."
   ]
  },
  {
   "cell_type": "code",
   "execution_count": 1,
   "metadata": {},
   "outputs": [
    {
     "name": "stdout",
     "output_type": "stream",
     "text": [
      "Address Discrepancies Found:\n",
      "   customer_id          address_crm     address_marketing\n",
      "1            2    456 Oak Rd, CityB   456 Oak Road, CityB\n",
      "2            3   789 Pine Ln, CityC  789 Pine Lane, CityC\n",
      "3            4  101 Maple Dr, CityD   102 Maple Dr, CityD\n"
     ]
    }
   ],
   "source": [
    "import pandas as pd\n",
    "\n",
    "# Create sample data files (run this block once)\n",
    "crm_data = {\n",
    "    \"customer_id\": [1, 2, 3, 4],\n",
    "    \"address\": [\n",
    "        \"123 Main St, CityA\",\n",
    "        \"456 Oak Rd, CityB\",\n",
    "        \"789 Pine Ln, CityC\",\n",
    "        \"101 Maple Dr, CityD\"\n",
    "    ]\n",
    "}\n",
    "\n",
    "marketing_data = {\n",
    "    \"customer_id\": [1, 2, 3, 4],\n",
    "    \"address\": [\n",
    "        \"123 Main St, CityA\",\n",
    "        \"456 Oak Road, CityB\",  # formatting difference\n",
    "        \"789 Pine Lane, CityC\", # formatting difference\n",
    "        \"102 Maple Dr, CityD\"   # discrepancy\n",
    "    ]\n",
    "}\n",
    "\n",
    "pd.DataFrame(crm_data).to_csv(\"crm_customers.csv\", index=False)\n",
    "pd.DataFrame(marketing_data).to_csv(\"marketing_customers.csv\", index=False)\n",
    "\n",
    "# Load the datasets\n",
    "crm_df = pd.read_csv(\"crm_customers.csv\")\n",
    "marketing_df = pd.read_csv(\"marketing_customers.csv\")\n",
    "\n",
    "# Merge on customer_id\n",
    "merged_df = pd.merge(crm_df, marketing_df, on=\"customer_id\", how=\"inner\", suffixes=('_crm', '_marketing'))\n",
    "\n",
    "# Identify mismatches\n",
    "merged_df['address_mismatch'] = merged_df['address_crm'] != merged_df['address_marketing']\n",
    "\n",
    "# Filter conflicts\n",
    "conflicts = merged_df[merged_df['address_mismatch']]\n",
    "\n",
    "print(\"Address Discrepancies Found:\")\n",
    "print(conflicts[['customer_id', 'address_crm', 'address_marketing']])"
   ]
  }
 ],
 "metadata": {
  "kernelspec": {
   "display_name": "Python 3",
   "language": "python",
   "name": "python3"
  },
  "language_info": {
   "codemirror_mode": {
    "name": "ipython",
    "version": 3
   },
   "file_extension": ".py",
   "mimetype": "text/x-python",
   "name": "python",
   "nbconvert_exporter": "python",
   "pygments_lexer": "ipython3",
   "version": "3.10.12"
  }
 },
 "nbformat": 4,
 "nbformat_minor": 2
}
