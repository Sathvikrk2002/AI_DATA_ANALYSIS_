{
 "cells": [
  {
   "cell_type": "markdown",
   "metadata": {},
   "source": [
    "## Format Compliance for Email\n",
    "\n",
    "**Description**: Check if emails in a list are valid based on a basic regex pattern."
   ]
  },
  {
   "cell_type": "code",
   "execution_count": 1,
   "metadata": {},
   "outputs": [
    {
     "name": "stdout",
     "output_type": "stream",
     "text": [
      "Address Discrepancies Found:\n",
      "   customer_id          address_crm     address_marketing\n",
      "1            2    456 Oak Rd, CityB   456 Oak Road, CityB\n",
      "2            3   789 Pine Ln, CityC  789 Pine Lane, CityC\n",
      "3            4  101 Maple Dr, CityD   102 Maple Dr, CityD\n"
     ]
    }
   ],
   "source": [
    "import pandas as pd\n",
    "\n",
    "# Create sample data files (run this block once)\n",
    "crm_data = {\n",
    "    \"customer_id\": [1, 2, 3, 4],\n",
    "    \"address\": [\n",
    "        \"123 Main St, CityA\",\n",
    "        \"456 Oak Rd, CityB\",\n",
    "        \"789 Pine Ln, CityC\",\n",
    "        \"101 Maple Dr, CityD\"\n",
    "    ]\n",
    "}\n",
    "\n",
    "marketing_data = {\n",
    "    \"customer_id\": [1, 2, 3, 4],\n",
    "    \"address\": [\n",
    "        \"123 Main St, CityA\",\n",
    "        \"456 Oak Road, CityB\",  # formatting difference\n",
    "        \"789 Pine Lane, CityC\", # formatting difference\n",
    "        \"102 Maple Dr, CityD\"   # discrepancy\n",
    "    ]\n",
    "}\n",
    "\n",
    "pd.DataFrame(crm_data).to_csv(\"crm_customers.csv\", index=False)\n",
    "pd.DataFrame(marketing_data).to_csv(\"marketing_customers.csv\", index=False)\n",
    "\n",
    "# Load the datasets\n",
    "crm_df = pd.read_csv(\"crm_customers.csv\")\n",
    "marketing_df = pd.read_csv(\"marketing_customers.csv\")\n",
    "\n",
    "# Merge on customer_id\n",
    "merged_df = pd.merge(crm_df, marketing_df, on=\"customer_id\", how=\"inner\", suffixes=('_crm', '_marketing'))\n",
    "\n",
    "# Identify mismatches\n",
    "merged_df['address_mismatch'] = merged_df['address_crm'] != merged_df['address_marketing']\n",
    "\n",
    "# Filter conflicts\n",
    "conflicts = merged_df[merged_df['address_mismatch']]\n",
    "\n",
    "print(\"Address Discrepancies Found:\")\n",
    "print(conflicts[['customer_id', 'address_crm', 'address_marketing']])"
   ]
  },
  {
   "cell_type": "markdown",
   "metadata": {},
   "source": [
    "## Format Compliance for Phone Numbers\n",
    "\n",
    "**Description**: Verify if the phone numbers follow a specific pattern."
   ]
  },
  {
   "cell_type": "code",
   "execution_count": 2,
   "metadata": {},
   "outputs": [
    {
     "name": "stdout",
     "output_type": "stream",
     "text": [
      "     phone_number  valid_phone\n",
      "0      9876543210         True\n",
      "1  +91-9876543210         True\n",
      "2     09876543210         True\n",
      "3    123-456-7890        False\n",
      "4     98765 43210        False\n",
      "5          123456        False\n"
     ]
    }
   ],
   "source": [
    "import pandas as pd\n",
    "import re\n",
    "\n",
    "# Sample phone number data\n",
    "data = {\n",
    "    \"phone_number\": [\n",
    "        \"9876543210\",\n",
    "        \"+91-9876543210\",\n",
    "        \"09876543210\",\n",
    "        \"123-456-7890\",\n",
    "        \"98765 43210\",\n",
    "        \"123456\"\n",
    "    ]\n",
    "}\n",
    "\n",
    "# Load into DataFrame\n",
    "df = pd.DataFrame(data)\n",
    "\n",
    "# Define a basic regex pattern (for 10-digit numbers with optional country code and separators)\n",
    "phone_pattern = r'^(\\+91[-\\s]?|0)?[6-9]\\d{9}$'\n",
    "\n",
    "# Validate phone numbers\n",
    "df['valid_phone'] = df['phone_number'].apply(lambda x: bool(re.match(phone_pattern, x)))\n",
    "\n",
    "# Display the result\n",
    "print(df)"
   ]
  },
  {
   "cell_type": "markdown",
   "metadata": {},
   "source": [
    "## Checking Date Validity Format\n",
    "\n",
    "**Description**: Ensure the dates in a list adhere to a specific format (e.g., YYYY-MM-DD)."
   ]
  },
  {
   "cell_type": "code",
   "execution_count": 3,
   "metadata": {},
   "outputs": [
    {
     "name": "stdout",
     "output_type": "stream",
     "text": [
      "         date  valid_date\n",
      "0  2024-05-21        True\n",
      "1  2023-12-01        True\n",
      "2  21-05-2024       False\n",
      "3  2024/05/21       False\n",
      "4  2024-13-01       False\n",
      "5  2024-02-30       False\n",
      "6  2024-06-15        True\n"
     ]
    }
   ],
   "source": [
    "import pandas as pd\n",
    "from datetime import datetime\n",
    "\n",
    "# Sample data with date strings\n",
    "data = {\n",
    "    \"date\": [\n",
    "        \"2024-05-21\",\n",
    "        \"2023-12-01\",\n",
    "        \"21-05-2024\",\n",
    "        \"2024/05/21\",\n",
    "        \"2024-13-01\",\n",
    "        \"2024-02-30\",\n",
    "        \"2024-06-15\"\n",
    "    ]\n",
    "}\n",
    "\n",
    "# Load into DataFrame\n",
    "df = pd.DataFrame(data)\n",
    "\n",
    "# Function to validate date format\n",
    "def is_valid_date(date_str, date_format=\"%Y-%m-%d\"):\n",
    "    try:\n",
    "        datetime.strptime(date_str, date_format)\n",
    "        return True\n",
    "    except ValueError:\n",
    "        return False\n",
    "\n",
    "# Apply validation\n",
    "df['valid_date'] = df['date'].apply(is_valid_date)\n",
    "\n",
    "# Show results\n",
    "print(df)"
   ]
  }
 ],
 "metadata": {
  "kernelspec": {
   "display_name": "Python 3",
   "language": "python",
   "name": "python3"
  },
  "language_info": {
   "codemirror_mode": {
    "name": "ipython",
    "version": 3
   },
   "file_extension": ".py",
   "mimetype": "text/x-python",
   "name": "python",
   "nbconvert_exporter": "python",
   "pygments_lexer": "ipython3",
   "version": "3.10.12"
  }
 },
 "nbformat": 4,
 "nbformat_minor": 2
}
