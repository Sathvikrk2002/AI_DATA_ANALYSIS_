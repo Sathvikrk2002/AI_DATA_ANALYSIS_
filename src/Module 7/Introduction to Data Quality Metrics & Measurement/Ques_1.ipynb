{
 "cells": [
  {
   "cell_type": "markdown",
   "metadata": {},
   "source": [
    "## Data Quality Dashboard in Python\n",
    "\n",
    "**Description**: Create a basic dashboard using a Python library (e.g., Plotly Dash) to visualize data quality metrics for a given dataset."
   ]
  },
  {
   "cell_type": "code",
   "execution_count": null,
   "metadata": {},
   "outputs": [],
   "source": [
    "import pandas as pd\n",
    "import dash\n",
    "from dash import dcc, html\n",
    "import plotly.express as px\n",
    "\n",
    "# Sample dataset\n",
    "df = pd.DataFrame({\n",
    "    'Age': [25, 27, 29, None, 22, 26, None, 24],\n",
    "    'Salary': [50000, 54000, None, 58000, 52000, None, 51000, 53000],\n",
    "    'Department': ['HR', 'IT', 'Finance', 'IT', 'HR', 'Finance', None, 'HR']\n",
    "})\n",
    "\n",
    "# Calculate missing values\n",
    "missing_data = df.isnull().sum().reset_index()\n",
    "missing_data.columns = ['Column', 'Missing Values']\n",
    "\n",
    "# Summary statistics\n",
    "summary_stats = df.describe(include='all').transpose().reset_index()\n",
    "summary_stats = summary_stats.rename(columns={'index': 'Feature'})\n",
    "\n",
    "# Dash app setup\n",
    "app = dash.Dash(__name__)\n",
    "app.title = \"Data Quality Dashboard\"\n",
    "\n",
    "app.layout = html.Div([\n",
    "    html.H1(\"📊 Data Quality Dashboard\", style={'textAlign': 'center'}),\n",
    "\n",
    "    html.H2(\"🧹 Missing Values\"),\n",
    "    dcc.Graph(\n",
    "        figure=px.bar(missing_data, x='Column', y='Missing Values', color='Missing Values',\n",
    "                      title=\"Missing Values per Column\")\n",
    "    ),\n",
    "\n",
    "    html.H2(\"📈 Data Distributions\"),\n",
    "    dcc.Tabs([\n",
    "        dcc.Tab(label='Age Distribution', children=[\n",
    "            dcc.Graph(\n",
    "                figure=px.histogram(df, x='Age', nbins=10, title='Age Distribution')\n",
    "            )\n",
    "        ]),\n",
    "        dcc.Tab(label='Salary Distribution', children=[\n",
    "            dcc.Graph(\n",
    "                figure=px.histogram(df, x='Salary', nbins=10, title='Salary Distribution')\n",
    "            )\n",
    "        ])\n",
    "    ]),\n",
    "\n",
    "    html.H2(\"📋 Summary Statistics\"),\n",
    "    html.Div([\n",
    "        html.Table([\n",
    "            html.Thead(\n",
    "                html.Tr([html.Th(col) for col in summary_stats.columns])\n",
    "            ),\n",
    "            html.Tbody([\n",
    "                html.Tr([\n",
    "                    html.Td(summary_stats.iloc[i][col]) for col in summary_stats.columns\n",
    "                ]) for i in range(len(summary_stats))\n",
    "            ])\n",
    "        ])\n",
    "    ], style={'overflowX': 'auto'})\n",
    "])\n",
    "\n",
    "if __name__ == '__main__':\n",
    "    app.run_server(debug=True)\n"
   ]
  }
 ],
 "metadata": {
  "kernelspec": {
   "display_name": "Python 3",
   "language": "python",
   "name": "python3"
  },
  "language_info": {
   "codemirror_mode": {
    "name": "ipython",
    "version": 3
   },
   "file_extension": ".py",
   "mimetype": "text/x-python",
   "name": "python",
   "nbconvert_exporter": "python",
   "pygments_lexer": "ipython3",
   "version": "3.10.12"
  }
 },
 "nbformat": 4,
 "nbformat_minor": 2
}
