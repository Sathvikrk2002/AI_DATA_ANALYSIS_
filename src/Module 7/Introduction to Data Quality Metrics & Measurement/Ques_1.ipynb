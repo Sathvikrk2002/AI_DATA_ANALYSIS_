{
 "cells": [
  {
   "cell_type": "markdown",
   "metadata": {},
   "source": [
    "## Data Quality Dashboard in Python\n",
    "\n",
    "**Description**: Create a basic dashboard using a Python library (e.g., Plotly Dash) to visualize data quality metrics for a given dataset."
   ]
  },
  {
   "cell_type": "code",
   "execution_count": 1,
   "metadata": {},
   "outputs": [
    {
     "ename": "ObsoleteAttributeException",
     "evalue": "app.run_server has been replaced by app.run",
     "output_type": "error",
     "traceback": [
      "\u001b[0;31m---------------------------------------------------------------------------\u001b[0m",
      "\u001b[0;31mObsoleteAttributeException\u001b[0m                Traceback (most recent call last)",
      "Cell \u001b[0;32mIn[1], line 64\u001b[0m\n\u001b[1;32m     25\u001b[0m app\u001b[38;5;241m.\u001b[39mlayout \u001b[38;5;241m=\u001b[39m html\u001b[38;5;241m.\u001b[39mDiv([\n\u001b[1;32m     26\u001b[0m     html\u001b[38;5;241m.\u001b[39mH1(\u001b[38;5;124m\"\u001b[39m\u001b[38;5;124m📊 Data Quality Dashboard\u001b[39m\u001b[38;5;124m\"\u001b[39m, style\u001b[38;5;241m=\u001b[39m{\u001b[38;5;124m'\u001b[39m\u001b[38;5;124mtextAlign\u001b[39m\u001b[38;5;124m'\u001b[39m: \u001b[38;5;124m'\u001b[39m\u001b[38;5;124mcenter\u001b[39m\u001b[38;5;124m'\u001b[39m}),\n\u001b[1;32m     27\u001b[0m \n\u001b[0;32m   (...)\u001b[0m\n\u001b[1;32m     60\u001b[0m     ], style\u001b[38;5;241m=\u001b[39m{\u001b[38;5;124m'\u001b[39m\u001b[38;5;124moverflowX\u001b[39m\u001b[38;5;124m'\u001b[39m: \u001b[38;5;124m'\u001b[39m\u001b[38;5;124mauto\u001b[39m\u001b[38;5;124m'\u001b[39m})\n\u001b[1;32m     61\u001b[0m ])\n\u001b[1;32m     63\u001b[0m \u001b[38;5;28;01mif\u001b[39;00m \u001b[38;5;18m__name__\u001b[39m \u001b[38;5;241m==\u001b[39m \u001b[38;5;124m'\u001b[39m\u001b[38;5;124m__main__\u001b[39m\u001b[38;5;124m'\u001b[39m:\n\u001b[0;32m---> 64\u001b[0m     \u001b[43mapp\u001b[49m\u001b[38;5;241;43m.\u001b[39;49m\u001b[43mrun_server\u001b[49m(debug\u001b[38;5;241m=\u001b[39m\u001b[38;5;28;01mTrue\u001b[39;00m)\n",
      "File \u001b[0;32m~/.local/lib/python3.10/site-packages/dash/_obsolete.py:22\u001b[0m, in \u001b[0;36mObsoleteChecker.__getattr__\u001b[0;34m(self, name)\u001b[0m\n\u001b[1;32m     20\u001b[0m \u001b[38;5;28;01mif\u001b[39;00m name \u001b[38;5;129;01min\u001b[39;00m \u001b[38;5;28mself\u001b[39m\u001b[38;5;241m.\u001b[39m_obsolete_attributes:\n\u001b[1;32m     21\u001b[0m     err \u001b[38;5;241m=\u001b[39m \u001b[38;5;28mself\u001b[39m\u001b[38;5;241m.\u001b[39m_obsolete_attributes[name]\n\u001b[0;32m---> 22\u001b[0m     \u001b[38;5;28;01mraise\u001b[39;00m err\u001b[38;5;241m.\u001b[39mexc(err\u001b[38;5;241m.\u001b[39mmessage)\n\u001b[1;32m     23\u001b[0m \u001b[38;5;28;01mreturn\u001b[39;00m \u001b[38;5;28mgetattr\u001b[39m(\u001b[38;5;28mself\u001b[39m\u001b[38;5;241m.\u001b[39m\u001b[38;5;18m__dict__\u001b[39m, name)\n",
      "\u001b[0;31mObsoleteAttributeException\u001b[0m: app.run_server has been replaced by app.run"
     ]
    }
   ],
   "source": [
    "import pandas as pd\n",
    "import dash\n",
    "from dash import dcc, html\n",
    "import plotly.express as px\n",
    "\n",
    "# Sample dataset\n",
    "df = pd.DataFrame({\n",
    "    'Age': [25, 27, 29, None, 22, 26, None, 24],\n",
    "    'Salary': [50000, 54000, None, 58000, 52000, None, 51000, 53000],\n",
    "    'Department': ['HR', 'IT', 'Finance', 'IT', 'HR', 'Finance', None, 'HR']\n",
    "})\n",
    "\n",
    "# Calculate missing values\n",
    "missing_data = df.isnull().sum().reset_index()\n",
    "missing_data.columns = ['Column', 'Missing Values']\n",
    "\n",
    "# Summary statistics\n",
    "summary_stats = df.describe(include='all').transpose().reset_index()\n",
    "summary_stats = summary_stats.rename(columns={'index': 'Feature'})\n",
    "\n",
    "# Dash app setup\n",
    "app = dash.Dash(__name__)\n",
    "app.title = \"Data Quality Dashboard\"\n",
    "\n",
    "app.layout = html.Div([\n",
    "    html.H1(\"📊 Data Quality Dashboard\", style={'textAlign': 'center'}),\n",
    "\n",
    "    html.H2(\"🧹 Missing Values\"),\n",
    "    dcc.Graph(\n",
    "        figure=px.bar(missing_data, x='Column', y='Missing Values', color='Missing Values',\n",
    "                      title=\"Missing Values per Column\")\n",
    "    ),\n",
    "\n",
    "    html.H2(\"📈 Data Distributions\"),\n",
    "    dcc.Tabs([\n",
    "        dcc.Tab(label='Age Distribution', children=[\n",
    "            dcc.Graph(\n",
    "                figure=px.histogram(df, x='Age', nbins=10, title='Age Distribution')\n",
    "            )\n",
    "        ]),\n",
    "        dcc.Tab(label='Salary Distribution', children=[\n",
    "            dcc.Graph(\n",
    "                figure=px.histogram(df, x='Salary', nbins=10, title='Salary Distribution')\n",
    "            )\n",
    "        ])\n",
    "    ]),\n",
    "\n",
    "    html.H2(\"📋 Summary Statistics\"),\n",
    "    html.Div([\n",
    "        html.Table([\n",
    "            html.Thead(\n",
    "                html.Tr([html.Th(col) for col in summary_stats.columns])\n",
    "            ),\n",
    "            html.Tbody([\n",
    "                html.Tr([\n",
    "                    html.Td(summary_stats.iloc[i][col]) for col in summary_stats.columns\n",
    "                ]) for i in range(len(summary_stats))\n",
    "            ])\n",
    "        ])\n",
    "    ], style={'overflowX': 'auto'})\n",
    "])\n",
    "\n",
    "if __name__ == '__main__':\n",
    "    app.run_server(debug=True)\n"
   ]
  }
 ],
 "metadata": {
  "kernelspec": {
   "display_name": "Python 3",
   "language": "python",
   "name": "python3"
  },
  "language_info": {
   "codemirror_mode": {
    "name": "ipython",
    "version": 3
   },
   "file_extension": ".py",
   "mimetype": "text/x-python",
   "name": "python",
   "nbconvert_exporter": "python",
   "pygments_lexer": "ipython3",
   "version": "3.10.12"
  }
 },
 "nbformat": 4,
 "nbformat_minor": 2
}
