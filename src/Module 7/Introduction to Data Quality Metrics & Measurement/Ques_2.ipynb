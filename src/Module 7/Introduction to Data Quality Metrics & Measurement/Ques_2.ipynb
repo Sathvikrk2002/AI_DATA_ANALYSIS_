{
 "cells": [
  {
   "cell_type": "markdown",
   "metadata": {},
   "source": [
    "## Data Quality Framework Implementation\n",
    "\n",
    "**Description**: Implement a simple data quality measurement framework using ISO 8000 principles to assess key dimensions in a dataset."
   ]
  },
  {
   "cell_type": "code",
   "execution_count": 3,
   "metadata": {},
   "outputs": [
    {
     "name": "stdout",
     "output_type": "stream",
     "text": [
      "\n",
      "=== ISO 8000 Data Quality Report ===\n",
      "\n",
      "Completeness (%):\n",
      "ID       100.00\n",
      "Name      83.33\n",
      "Email     83.33\n",
      "Age       83.33\n",
      "dtype: float64\n",
      "\n",
      "Uniqueness of 'ID' column: 83.33%\n",
      "Validity of 'Email' column: 80.0%\n",
      "Consistency of ['ID', 'Name']: 83.33%\n",
      "Accuracy of 'Email' vs. known good list: 80.0%\n"
     ]
    }
   ],
   "source": [
    "import pandas as pd\n",
    "import numpy as np\n",
    "import re\n",
    "\n",
    "# Sample Dataset\n",
    "data = {\n",
    "    'ID': [1, 2, 3, 4, 5, 5],\n",
    "    'Name': ['Alice', 'Bob', 'Charlie', 'David', None, 'Eve'],\n",
    "    'Email': ['alice@example.com', 'bob@example.com', 'invalid_email', 'david@example.com', 'eve@example.com', None],\n",
    "    'Age': [25, 30, 35, None, 22, 29]\n",
    "}\n",
    "\n",
    "df = pd.DataFrame(data)\n",
    "\n",
    "# === ISO 8000-Based Data Quality Checks ===\n",
    "\n",
    "# 1. Completeness\n",
    "def check_completeness(df):\n",
    "    completeness = 100 * df.notnull().sum() / len(df)\n",
    "    return completeness.round(2)\n",
    "\n",
    "# 2. Accuracy (simulate by comparing to reference values)\n",
    "def check_accuracy(df, column, reference_values):\n",
    "    matches = df[column].isin(reference_values).sum()\n",
    "    total = df[column].notnull().sum()\n",
    "    return round(100 * matches / total, 2) if total > 0 else 0\n",
    "\n",
    "# 3. Uniqueness (e.g., for ID column)\n",
    "def check_uniqueness(df, column):\n",
    "    unique = df[column].nunique()\n",
    "    total = df[column].notnull().sum()\n",
    "    return round(100 * unique / total, 2) if total > 0 else 0\n",
    "\n",
    "# 4. Validity (e.g., email format)\n",
    "def is_valid_email(email):\n",
    "    return re.match(r\"[^@]+@[^@]+\\.[^@]+\", str(email)) is not None\n",
    "\n",
    "def check_validity(df, column, validation_func):\n",
    "    valid = df[column].apply(validation_func).sum()\n",
    "    total = df[column].notnull().sum()\n",
    "    return round(100 * valid / total, 2) if total > 0 else 0\n",
    "\n",
    "# 5. Consistency (e.g., combination of ID and Name must always match)\n",
    "def check_consistency(df, columns):\n",
    "    unique_combinations = df[columns].dropna().drop_duplicates()\n",
    "    return round(100 * len(unique_combinations) / len(df), 2)\n",
    "\n",
    "# === Report Results ===\n",
    "\n",
    "print(\"\\n=== ISO 8000 Data Quality Report ===\")\n",
    "print(\"\\nCompleteness (%):\")\n",
    "print(check_completeness(df))\n",
    "\n",
    "print(f\"\\nUniqueness of 'ID' column: {check_uniqueness(df, 'ID')}%\")\n",
    "print(f\"Validity of 'Email' column: {check_validity(df, 'Email', is_valid_email)}%\")\n",
    "print(f\"Consistency of ['ID', 'Name']: {check_consistency(df, ['ID', 'Name'])}%\")\n",
    "print(f\"Accuracy of 'Email' vs. known good list: {check_accuracy(df, 'Email', ['alice@example.com', 'bob@example.com', 'david@example.com', 'eve@example.com'])}%\")\n"
   ]
  }
 ],
 "metadata": {
  "kernelspec": {
   "display_name": "Python 3",
   "language": "python",
   "name": "python3"
  },
  "language_info": {
   "codemirror_mode": {
    "name": "ipython",
    "version": 3
   },
   "file_extension": ".py",
   "mimetype": "text/x-python",
   "name": "python",
   "nbconvert_exporter": "python",
   "pygments_lexer": "ipython3",
   "version": "3.10.12"
  }
 },
 "nbformat": 4,
 "nbformat_minor": 2
}
