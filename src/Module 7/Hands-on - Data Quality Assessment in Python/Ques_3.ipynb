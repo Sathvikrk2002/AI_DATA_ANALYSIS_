{
 "cells": [
  {
   "cell_type": "markdown",
   "metadata": {},
   "source": [
    "## Check Uniqueness & Validity\n",
    "\n",
    "**Objective**: Evaluate data quality by checking for uniqueness and validity of data entries.\n",
    "\n",
    "For this activity, you will use a sample dataset students.csv that contains the following\n",
    "columns: ID , Name , Age , Grade , Email .\n",
    "\n",
    "**Steps**:\n",
    "1. Check Uniqueness\n",
    "    - Unique IDs\n",
    "    - Unique Email Addresses\n",
    "    - Unique Combination\n",
    "\n",
    "2. Check Validity\n",
    "    - Validate Age Range\n",
    "    - Validate Grade Scale\n",
    "    - Validate Name Format"
   ]
  },
  {
   "cell_type": "code",
   "execution_count": 2,
   "metadata": {},
   "outputs": [
    {
     "name": "stdout",
     "output_type": "stream",
     "text": [
      "Are all IDs unique? True\n",
      "Are all Email addresses unique? True\n",
      "Are ID and Email combinations unique? True\n",
      "\n",
      "Invalid Age entries:\n",
      "   ID       Name  Age Grade                  Email\n",
      "5   6  Eva Green  101     B  eva.green@example.com\n",
      "9  10  Sarah Lee    4     B  sarah.lee@example.com\n",
      "\n",
      "Invalid Grade entries:\n",
      "   ID       Name  Age Grade                  Email\n",
      "7   8  Chris Red   16     G  chris.red@example.com\n",
      "\n",
      "Invalid Name entries:\n",
      "   ID     Name  Age Grade                Email  Valid_Name\n",
      "6   7  Mike123   19     A  mike123@example.com       False\n",
      "\n",
      "--- Summary ---\n",
      "Unique IDs: True\n",
      "Unique Emails: True\n",
      "Unique ID+Email Combo: True\n",
      "Invalid Ages Count: 2\n",
      "Invalid Grades Count: 1\n",
      "Invalid Names Count: 1\n"
     ]
    }
   ],
   "source": [
    "import pandas as pd\n",
    "import re\n",
    "\n",
    "# Load the dataset\n",
    "df = pd.read_csv('students.csv')\n",
    "\n",
    "# ----- Uniqueness Checks -----\n",
    "\n",
    "# 1.1 Unique IDs\n",
    "unique_ids = df['ID'].is_unique\n",
    "print(\"Are all IDs unique?\", unique_ids)\n",
    "\n",
    "# 1.2 Unique Email Addresses\n",
    "unique_emails = df['Email'].is_unique\n",
    "print(\"Are all Email addresses unique?\", unique_emails)\n",
    "\n",
    "# 1.3 Unique Combination of ID and Email\n",
    "unique_combo = df[['ID', 'Email']].drop_duplicates().shape[0] == df.shape[0]\n",
    "print(\"Are ID and Email combinations unique?\", unique_combo)\n",
    "\n",
    "# ----- Validity Checks -----\n",
    "\n",
    "# 2.1 Validate Age Range (Assume valid age is between 5 and 100)\n",
    "valid_ages = df['Age'].between(5, 100)\n",
    "print(\"\\nInvalid Age entries:\")\n",
    "print(df[~valid_ages])\n",
    "\n",
    "# 2.2 Validate Grade Scale (Assume grades are A to F)\n",
    "valid_grades = df['Grade'].isin(['A', 'B', 'C', 'D', 'E', 'F'])\n",
    "print(\"\\nInvalid Grade entries:\")\n",
    "print(df[~valid_grades])\n",
    "\n",
    "# 2.3 Validate Name Format (Only alphabetic characters and spaces allowed)\n",
    "def is_valid_name(name):\n",
    "    return bool(re.fullmatch(r\"[A-Za-z ]+\", str(name)))\n",
    "\n",
    "df['Valid_Name'] = df['Name'].apply(is_valid_name)\n",
    "print(\"\\nInvalid Name entries:\")\n",
    "print(df[~df['Valid_Name']])\n",
    "\n",
    "# ----- Summary -----\n",
    "print(\"\\n--- Summary ---\")\n",
    "print(\"Unique IDs:\", unique_ids)\n",
    "print(\"Unique Emails:\", unique_emails)\n",
    "print(\"Unique ID+Email Combo:\", unique_combo)\n",
    "print(\"Invalid Ages Count:\", (~valid_ages).sum())\n",
    "print(\"Invalid Grades Count:\", (~valid_grades).sum())\n",
    "print(\"Invalid Names Count:\", (~df['Valid_Name']).sum())\n"
   ]
  }
 ],
 "metadata": {
  "kernelspec": {
   "display_name": "Python 3",
   "language": "python",
   "name": "python3"
  },
  "language_info": {
   "codemirror_mode": {
    "name": "ipython",
    "version": 3
   },
   "file_extension": ".py",
   "mimetype": "text/x-python",
   "name": "python",
   "nbconvert_exporter": "python",
   "pygments_lexer": "ipython3",
   "version": "3.10.12"
  }
 },
 "nbformat": 4,
 "nbformat_minor": 2
}
