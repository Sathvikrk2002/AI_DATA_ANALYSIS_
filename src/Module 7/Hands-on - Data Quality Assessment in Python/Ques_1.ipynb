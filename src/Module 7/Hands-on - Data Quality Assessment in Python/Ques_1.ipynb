{
 "cells": [
  {
   "cell_type": "markdown",
   "metadata": {},
   "source": [
    "**Task 1**: Checking Null Values for Completeness\n",
    "\n",
    "**Description**: Verify if there are any null values in a dataset, which indicate incomplete data."
   ]
  },
  {
   "cell_type": "code",
   "execution_count": 2,
   "metadata": {},
   "outputs": [
    {
     "name": "stdout",
     "output_type": "stream",
     "text": [
      "Original DataFrame:\n",
      "      Name   Age   Salary\n",
      "0    Alice  25.0  50000.0\n",
      "1      Bob   NaN  60000.0\n",
      "2  Charlie  30.0      NaN\n",
      "3    David   NaN  70000.0\n",
      "4      Eva  22.0      NaN\n",
      "\n",
      "Missing Data (True indicates missing):\n",
      "    Name    Age  Salary\n",
      "0  False  False   False\n",
      "1  False   True   False\n",
      "2  False  False    True\n",
      "3  False   True   False\n",
      "4  False  False    True\n",
      "\n",
      "Missing Value Count per Column:\n",
      "Name      0\n",
      "Age       2\n",
      "Salary    2\n",
      "dtype: int64\n"
     ]
    }
   ],
   "source": [
    "import pandas as pd\n",
    "\n",
    "# ----------------------------\n",
    "# Part 1: Detect & Handle Missing Data\n",
    "# ----------------------------\n",
    "\n",
    "# Sample dataset\n",
    "data = {\n",
    "    \"Name\": [\"Alice\", \"Bob\", \"Charlie\", \"David\", \"Eva\"],\n",
    "    \"Age\": [25, None, 30, None, 22],\n",
    "    \"Salary\": [50000, 60000, None, 70000, None]\n",
    "}\n",
    "\n",
    "# Task 1: Detect Missing Data\n",
    "df = pd.DataFrame(data)\n",
    "print(\"Original DataFrame:\")\n",
    "print(df)\n",
    "\n",
    "# Detect missing values\n",
    "print(\"\\nMissing Data (True indicates missing):\")\n",
    "print(df.isnull())\n",
    "\n",
    "# Count of missing values per column\n",
    "print(\"\\nMissing Value Count per Column:\")\n",
    "print(df.isnull().sum())"
   ]
  },
  {
   "cell_type": "markdown",
   "metadata": {},
   "source": [
    "**Task 2**: Checking Data Type Validity\n",
    "\n",
    "**Description**: Ensure that columns contain data of expected types, e.g., ages are integers."
   ]
  },
  {
   "cell_type": "code",
   "execution_count": 3,
   "metadata": {},
   "outputs": [
    {
     "name": "stdout",
     "output_type": "stream",
     "text": [
      "\n",
      "DataFrame after Dropping Rows with Missing Values:\n",
      "    Name   Age   Salary\n",
      "0  Alice  25.0  50000.0\n"
     ]
    }
   ],
   "source": [
    "# Drop rows with any missing values\n",
    "df_dropped = df.dropna()\n",
    "print(\"\\nDataFrame after Dropping Rows with Missing Values:\")\n",
    "print(df_dropped)"
   ]
  },
  {
   "cell_type": "markdown",
   "metadata": {},
   "source": [
    "**Task 3**: Verify Uniqueness of Identifiers\n",
    "\n",
    "**Description**: Check if a dataset has unique identifiers (e.g., emails)."
   ]
  },
  {
   "cell_type": "code",
   "execution_count": 4,
   "metadata": {},
   "outputs": [
    {
     "name": "stdout",
     "output_type": "stream",
     "text": [
      "\n",
      "DataFrame after Imputation (Filling Missing Values):\n",
      "      Name        Age   Salary\n",
      "0    Alice  25.000000  50000.0\n",
      "1      Bob  25.666667  60000.0\n",
      "2  Charlie  30.000000  60000.0\n",
      "3    David  25.666667  70000.0\n",
      "4      Eva  22.000000  60000.0\n"
     ]
    }
   ],
   "source": [
    "# Fill missing Age with mean\n",
    "age_mean = df[\"Age\"].mean()\n",
    "df[\"Age\"] = df[\"Age\"].fillna(age_mean)\n",
    "\n",
    "# Fill missing Salary with mean\n",
    "salary_mean = df[\"Salary\"].mean()\n",
    "df[\"Salary\"] = df[\"Salary\"].fillna(salary_mean)\n",
    "\n",
    "print(\"\\nDataFrame after Imputation (Filling Missing Values):\")\n",
    "print(df)"
   ]
  },
  {
   "cell_type": "markdown",
   "metadata": {},
   "source": [
    "Task 4: Validate Email Format Using Regex\n",
    "\n",
    "Description: Validate if email addresses in a dataset have the correct format."
   ]
  },
  {
   "cell_type": "code",
   "execution_count": null,
   "metadata": {},
   "outputs": [],
   "source": [
    "# Write your code from here"
   ]
  },
  {
   "cell_type": "markdown",
   "metadata": {},
   "source": [
    "Task 5: Check for Logical Age Validity\n",
    "\n",
    "Description: Ensure ages are within a reasonable human range (e.g., 0-120)."
   ]
  },
  {
   "cell_type": "code",
   "execution_count": null,
   "metadata": {},
   "outputs": [],
   "source": [
    "# Write your code from here"
   ]
  },
  {
   "cell_type": "markdown",
   "metadata": {},
   "source": [
    "Task 6: Identify and Handle Missing Data\n",
    "\n",
    "Description: Identify missing values in a dataset and impute them using a simple strategy (e.g., mean)."
   ]
  },
  {
   "cell_type": "code",
   "execution_count": null,
   "metadata": {},
   "outputs": [],
   "source": [
    "# Write your code from here"
   ]
  },
  {
   "cell_type": "markdown",
   "metadata": {},
   "source": [
    "Task 7: Detect Duplicates\n",
    "\n",
    "Description: Detect duplicate rows in the dataset."
   ]
  },
  {
   "cell_type": "code",
   "execution_count": null,
   "metadata": {},
   "outputs": [],
   "source": [
    "# Write your code from here"
   ]
  },
  {
   "cell_type": "markdown",
   "metadata": {},
   "source": [
    "Task 8: Validate Correctness of Numerical Values\n",
    "\n",
    "Description: Ensure numerical columns are within a specified range."
   ]
  },
  {
   "cell_type": "code",
   "execution_count": null,
   "metadata": {},
   "outputs": [],
   "source": [
    "# Write your code from here"
   ]
  },
  {
   "cell_type": "markdown",
   "metadata": {},
   "source": [
    "Task 9: Custom Completeness Rule Violation Report\n",
    "\n",
    "Description: Create a report showing which rows violate specific completeness rules, such as mandatory fields being empty."
   ]
  },
  {
   "cell_type": "code",
   "execution_count": null,
   "metadata": {},
   "outputs": [],
   "source": [
    "# Write your code from here"
   ]
  },
  {
   "cell_type": "markdown",
   "metadata": {},
   "source": [
    "Task 10: Advanced Regex for Data Validity Check\n",
    "\n",
    "Description: Check for validity with advanced regex patterns, such as validating complex fields with multi-level rules."
   ]
  },
  {
   "cell_type": "code",
   "execution_count": null,
   "metadata": {},
   "outputs": [],
   "source": [
    "# Write your code from here"
   ]
  }
 ],
 "metadata": {
  "kernelspec": {
   "display_name": "Python 3",
   "language": "python",
   "name": "python3"
  },
  "language_info": {
   "codemirror_mode": {
    "name": "ipython",
    "version": 3
   },
   "file_extension": ".py",
   "mimetype": "text/x-python",
   "name": "python",
   "nbconvert_exporter": "python",
   "pygments_lexer": "ipython3",
   "version": "3.10.12"
  }
 },
 "nbformat": 4,
 "nbformat_minor": 2
}
