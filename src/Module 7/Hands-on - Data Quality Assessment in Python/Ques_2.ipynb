{
 "cells": [
  {
   "cell_type": "markdown",
   "metadata": {},
   "source": [
    "## Check Accuracy & Completeness\n",
    "\n",
    "**Objective**: Learn to assess data quality by checking for accuracy and completeness using Python.\n",
    "\n",
    "For this, you will use a sample dataset students.csv that contains the following\n",
    "columns: ID , Name , Age , Grade , Email .\n",
    "\n",
    "**Steps**:\n",
    "1. Check Accuracy\n",
    "    - Verify Numerical Data Accuracy\n",
    "    - Validate Email Format\n",
    "    - Integer Accuracy Check for Age\n",
    "2. Check Completeness\n",
    "    - Identify Missing Values\n",
    "    - Rows with Missing Data\n",
    "    - Column Specific Missing Value Check"
   ]
  },
  {
   "cell_type": "code",
   "execution_count": 1,
   "metadata": {},
   "outputs": [
    {
     "name": "stdout",
     "output_type": "stream",
     "text": [
      "Original DataFrame:\n",
      "    ID     Name Age   Join_Date\n",
      "0  101    Alice  25  2023-01-10\n",
      "1  102      Bob  30  2022-12-01\n",
      "2  103  Charlie  35  2021-07-15\n",
      "3  104    David  40  2023-03-22\n",
      "4  102      Bob  30  2022-12-01\n",
      "\n",
      "DataFrame after Removing Duplicates:\n",
      "    ID     Name Age   Join_Date\n",
      "0  101    Alice  25  2023-01-10\n",
      "1  102      Bob  30  2022-12-01\n",
      "2  103  Charlie  35  2021-07-15\n",
      "3  104    David  40  2023-03-22\n",
      "\n",
      "DataFrame after Fixing Data Types:\n",
      "    ID     Name  Age  Join_Date\n",
      "0  101    Alice   25 2023-01-10\n",
      "1  102      Bob   30 2022-12-01\n",
      "2  103  Charlie   35 2021-07-15\n",
      "3  104    David   40 2023-03-22\n",
      "\n",
      "Data Types After Conversion:\n",
      "ID                    int64\n",
      "Name                 object\n",
      "Age                   int64\n",
      "Join_Date    datetime64[ns]\n",
      "dtype: object\n"
     ]
    },
    {
     "name": "stderr",
     "output_type": "stream",
     "text": [
      "/tmp/ipykernel_24905/945199703.py:30: SettingWithCopyWarning: \n",
      "A value is trying to be set on a copy of a slice from a DataFrame.\n",
      "Try using .loc[row_indexer,col_indexer] = value instead\n",
      "\n",
      "See the caveats in the documentation: https://pandas.pydata.org/pandas-docs/stable/user_guide/indexing.html#returning-a-view-versus-a-copy\n",
      "  df_no_duplicates[\"Age\"] = df_no_duplicates[\"Age\"].astype(int)\n",
      "/tmp/ipykernel_24905/945199703.py:35: SettingWithCopyWarning: \n",
      "A value is trying to be set on a copy of a slice from a DataFrame.\n",
      "Try using .loc[row_indexer,col_indexer] = value instead\n",
      "\n",
      "See the caveats in the documentation: https://pandas.pydata.org/pandas-docs/stable/user_guide/indexing.html#returning-a-view-versus-a-copy\n",
      "  df_no_duplicates[\"Join_Date\"] = pd.to_datetime(df_no_duplicates[\"Join_Date\"])\n"
     ]
    }
   ],
   "source": [
    "import pandas as pd\n",
    "\n",
    "# ----------------------------\n",
    "# Part 2: Remove Duplicates & Fix Data Types\n",
    "# ----------------------------\n",
    "\n",
    "# Sample extended dataset with duplicates and incorrect types\n",
    "data = {\n",
    "    \"ID\": [101, 102, 103, 104, 102],\n",
    "    \"Name\": [\"Alice\", \"Bob\", \"Charlie\", \"David\", \"Bob\"],\n",
    "    \"Age\": [\"25\", \"30\", \"35\", \"40\", \"30\"],         # Age as string (should be int)\n",
    "    \"Join_Date\": [\"2023-01-10\", \"2022-12-01\", \"2021-07-15\", \"2023-03-22\", \"2022-12-01\"]  # Should be datetime\n",
    "}\n",
    "\n",
    "# Task 1: Remove Duplicates\n",
    "\n",
    "# Step 1: Load Data into DataFrame\n",
    "df = pd.DataFrame(data)\n",
    "print(\"Original DataFrame:\")\n",
    "print(df)\n",
    "\n",
    "# Step 2: Remove duplicate rows\n",
    "df_no_duplicates = df.drop_duplicates()\n",
    "print(\"\\nDataFrame after Removing Duplicates:\")\n",
    "print(df_no_duplicates)\n",
    "\n",
    "# Task 2: Fix Incorrect Data Types\n",
    "\n",
    "# Convert 'Age' from string to integer\n",
    "df_no_duplicates[\"Age\"] = df_no_duplicates[\"Age\"].astype(int)\n",
    "\n",
    "# Task 3: Convert Data Type for Analysis\n",
    "\n",
    "# Convert 'Join_Date' from string to datetime\n",
    "df_no_duplicates[\"Join_Date\"] = pd.to_datetime(df_no_duplicates[\"Join_Date\"])\n",
    "\n",
    "print(\"\\nDataFrame after Fixing Data Types:\")\n",
    "print(df_no_duplicates)\n",
    "\n",
    "# Check final data types\n",
    "print(\"\\nData Types After Conversion:\")\n",
    "print(df_no_duplicates.dtypes)\n"
   ]
  }
 ],
 "metadata": {
  "kernelspec": {
   "display_name": "Python 3",
   "language": "python",
   "name": "python3"
  },
  "language_info": {
   "codemirror_mode": {
    "name": "ipython",
    "version": 3
   },
   "file_extension": ".py",
   "mimetype": "text/x-python",
   "name": "python",
   "nbconvert_exporter": "python",
   "pygments_lexer": "ipython3",
   "version": "3.10.12"
  }
 },
 "nbformat": 4,
 "nbformat_minor": 2
}
