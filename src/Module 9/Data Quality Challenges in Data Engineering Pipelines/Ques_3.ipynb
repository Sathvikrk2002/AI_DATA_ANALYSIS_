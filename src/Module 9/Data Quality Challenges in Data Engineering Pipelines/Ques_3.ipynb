{
 "cells": [
  {
   "cell_type": "markdown",
   "metadata": {},
   "source": [
    "### Metadata Management for Data Quality\n",
    "**Description**: Store and use metadata to manage data quality in a pipeline.\n",
    "\n",
    "**Steps**:\n",
    "1. Load metadata\n",
    "2. Load data\n",
    "3. Use metadata to validate data quality\n",
    "4. Show valid data\n"
   ]
  },
  {
   "cell_type": "code",
   "execution_count": null,
   "metadata": {},
   "outputs": [
    {
     "name": "stdout",
     "output_type": "stream",
     "text": [
      "Original Data:\n",
      "      age    salary department\n",
      "0   25.0   50000.0         HR\n",
      "1   45.0  150000.0         IT\n",
      "2  130.0   25000.0    Finance\n",
      "3    NaN   80000.0      Admin\n",
      "4   35.0       NaN    Finance\n",
      "\n",
      "Validation Results:\n",
      "      age    salary department  is_valid  \\\n",
      "0   25.0   50000.0         HR      True   \n",
      "1   45.0  150000.0         IT      True   \n",
      "2  130.0   25000.0    Finance     False   \n",
      "3    NaN   80000.0      Admin     False   \n",
      "4   35.0       NaN    Finance     False   \n",
      "\n",
      "                                              errors  \n",
      "0                                                 []  \n",
      "1                                                 []  \n",
      "2                      [age above max (130.0 > 120)]  \n",
      "3  [age is null, department has invalid value: Ad...  \n",
      "4                                   [salary is null]  \n",
      "\n",
      "✅ Valid Data:\n",
      "     age    salary department\n",
      "0  25.0   50000.0         HR\n",
      "1  45.0  150000.0         IT\n"
     ]
    }
   ],
   "source": [
    "import pandas as pd\n",
    "import numpy as np\n",
    "\n",
    "\n",
    "# --- Step 1: Load Metadata ---\n",
    "# Simulated metadata specifying expected schema\n",
    "metadata = {\n",
    "    'age': {'type': 'int', 'min': 0, 'max': 120, 'nullable': False},\n",
    "    'salary': {'type': 'float', 'min': 10000.0, 'max': 1000000.0, 'nullable': False},\n",
    "    'department': {'type': 'str', 'allowed_values': ['HR', 'IT', 'Finance'], 'nullable': False}\n",
    "}\n",
    "\n",
    "# --- Step 2: Load Sample Data (simulating raw data input) ---\n",
    "data = {\n",
    "    'age': [25, 45, 130, None, 35],\n",
    "    'salary': [50000.0, 150000.0, 25000.0, 80000.0, None],\n",
    "    'department': ['HR', 'IT', 'Finance', 'Admin', 'Finance']\n",
    "}\n",
    "\n",
    "df = pd.DataFrame(data)\n",
    "print(\"Original Data:\\n\", df)\n",
    "\n",
    "# --- Step 3: Validate Data Using Metadata ---\n",
    "def validate_row(row, metadata):\n",
    "    errors = []\n",
    "    for col, rules in metadata.items():\n",
    "        value = row[col]\n",
    "        # Check for nulls\n",
    "        if pd.isnull(value):\n",
    "            if not rules['nullable']:\n",
    "                errors.append(f\"{col} is null\")\n",
    "            continue\n",
    "        # Type check is implicit in range/allowed checks\n",
    "        if 'min' in rules and value < rules['min']:\n",
    "            errors.append(f\"{col} below min ({value} < {rules['min']})\")\n",
    "        if 'max' in rules and value > rules['max']:\n",
    "            errors.append(f\"{col} above max ({value} > {rules['max']})\")\n",
    "        if 'allowed_values' in rules and value not in rules['allowed_values']:\n",
    "            errors.append(f\"{col} has invalid value: {value}\")\n",
    "    return errors\n",
    "\n",
    "# Apply validation\n",
    "df['errors'] = df.apply(lambda row: validate_row(row, metadata), axis=1)\n",
    "df['is_valid'] = df['errors'].apply(lambda e: len(e) == 0)\n",
    "\n",
    "# --- Step 4: Show Valid Data ---\n",
    "print(\"\\nValidation Results:\\n\", df[['age', 'salary', 'department', 'is_valid', 'errors']])\n",
    "\n",
    "valid_data = df[df['is_valid']].drop(columns=['errors', 'is_valid'])\n",
    "print(\"\\n✅ Valid Data:\\n\", valid_data)"
   ]
  }
 ],
 "metadata": {
  "kernelspec": {
   "display_name": "Python 3",
   "language": "python",
   "name": "python3"
  },
  "language_info": {
   "codemirror_mode": {
    "name": "ipython",
    "version": 3
   },
   "file_extension": ".py",
   "mimetype": "text/x-python",
   "name": "python",
   "nbconvert_exporter": "python",
   "pygments_lexer": "ipython3",
   "version": "3.10.12"
  }
 },
 "nbformat": 4,
 "nbformat_minor": 2
}
