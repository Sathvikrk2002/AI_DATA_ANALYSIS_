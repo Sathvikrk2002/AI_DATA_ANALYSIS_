{
 "cells": [
  {
   "cell_type": "markdown",
   "metadata": {},
   "source": [
    "### Task 1: Detecting Missing Values during Data Ingestion\n",
    "**Description**: You have a CSV file with missing values in some columns. Write a Python script to detect and report missing values during the ingestion process.\n",
    "\n",
    "**Steps**:\n",
    "1. Load data\n",
    "2. Check for missing values\n",
    "3. Report missing values"
   ]
  },
  {
   "cell_type": "code",
   "execution_count": 2,
   "metadata": {},
   "outputs": [
    {
     "name": "stdout",
     "output_type": "stream",
     "text": [
      "\n",
      "⚠️ File 'your_file.csv' not found. Using sample data for testing...\n",
      "\n",
      "📝 Missing Value Report:\n",
      "age     1\n",
      "city    1\n",
      "dtype: int64\n",
      "\n",
      "🔍 Rows with missing data:\n",
      "      name   age         city\n",
      "1      Bob   NaN  Los Angeles\n",
      "2  Charlie  30.0          NaN\n"
     ]
    }
   ],
   "source": [
    "import pandas as pd\n",
    "import os\n",
    "\n",
    "# Step 1: Load data from CSV or create sample if not found\n",
    "file_path = 'your_file.csv'\n",
    "\n",
    "if os.path.exists(file_path):\n",
    "    try:\n",
    "        df = pd.read_csv(file_path)\n",
    "        print(f\"\\n✅ Successfully loaded data from {file_path}.\\n\")\n",
    "    except Exception as e:\n",
    "        print(f\"\\n❌ Error reading the file: {e}\")\n",
    "        df = None\n",
    "else:\n",
    "    print(f\"\\n⚠️ File '{file_path}' not found. Using sample data for testing...\\n\")\n",
    "    from io import StringIO\n",
    "    sample_data = StringIO(\"\"\"\n",
    "name,age,city\n",
    "Alice,25,New York\n",
    "Bob,,Los Angeles\n",
    "Charlie,30,\n",
    "David,22,Chicago\n",
    "\"\"\")\n",
    "    df = pd.read_csv(sample_data)\n",
    "\n",
    "# Step 2: Check if df is successfully created\n",
    "if df is not None:\n",
    "    # Step 3: Check for missing values\n",
    "    missing_values = df.isnull().sum()\n",
    "\n",
    "    # Step 4: Report missing values\n",
    "    print(\"📝 Missing Value Report:\")\n",
    "    missing_report = missing_values[missing_values > 0]\n",
    "\n",
    "    if missing_report.empty:\n",
    "        print(\"✅ No missing values found in the dataset.\")\n",
    "    else:\n",
    "        print(missing_report)\n",
    "\n",
    "        # Optional: Show rows with missing values\n",
    "        print(\"\\n🔍 Rows with missing data:\")\n",
    "        print(df[df.isnull().any(axis=1)])\n",
    "else:\n",
    "    print(\"❌ DataFrame not created. Skipping missing value check.\")"
   ]
  },
  {
   "cell_type": "markdown",
   "metadata": {},
   "source": [
    "### Task 2: Validate Data Types during Extraction\n",
    "**Description**: You have a JSON file that should have specific data types for each field. Write a script to validate if the data types match the expected schema.\n",
    "\n",
    "**Steps**:\n",
    "1. Define expected schema\n",
    "2. Validate data types"
   ]
  },
  {
   "cell_type": "code",
   "execution_count": 3,
   "metadata": {},
   "outputs": [
    {
     "name": "stdout",
     "output_type": "stream",
     "text": [
      "⚠️ JSON file not found. Using sample data for testing...\n",
      "\n",
      "🔍 Data Type Validation Report:\n",
      "✅ Record 1 passed type validation.\n",
      "❌ Record 2 has type mismatches:\n",
      "   - age: Expected int, got str\n",
      "❌ Record 3 has type mismatches:\n",
      "   - email: Expected str, got NoneType\n"
     ]
    }
   ],
   "source": [
    "import json\n",
    "import os\n",
    "\n",
    "# Step 1: Define expected schema\n",
    "expected_schema = {\n",
    "    \"id\": int,\n",
    "    \"name\": str,\n",
    "    \"age\": int,\n",
    "    \"email\": str\n",
    "}\n",
    "\n",
    "# Step 2: Try loading data from JSON, else use fallback data\n",
    "file_path = \"sample_data.json\"\n",
    "if os.path.exists(file_path):\n",
    "    with open(file_path, \"r\") as f:\n",
    "        data = json.load(f)\n",
    "else:\n",
    "    print(\"⚠️ JSON file not found. Using sample data for testing...\")\n",
    "    data = [\n",
    "        {\"id\": 1, \"name\": \"Alice\", \"age\": 28, \"email\": \"alice@example.com\"},\n",
    "        {\"id\": 2, \"name\": \"Bob\", \"age\": \"25\", \"email\": \"bob@example.com\"},      # age is str\n",
    "        {\"id\": 3, \"name\": \"Charlie\", \"age\": 30, \"email\": None}                 # email is None\n",
    "    ]\n",
    "\n",
    "# Step 3: Validate data types\n",
    "print(\"\\n🔍 Data Type Validation Report:\")\n",
    "for i, record in enumerate(data, start=1):\n",
    "    errors = []\n",
    "    for field, expected_type in expected_schema.items():\n",
    "        actual_value = record.get(field)\n",
    "        if not isinstance(actual_value, expected_type):\n",
    "            errors.append(f\"   - {field}: Expected {expected_type.__name__}, got {type(actual_value).__name__}\")\n",
    "    if errors:\n",
    "        print(f\"❌ Record {i} has type mismatches:\\n\" + \"\\n\".join(errors))\n",
    "    else:\n",
    "        print(f\"✅ Record {i} passed type validation.\")"
   ]
  },
  {
   "cell_type": "markdown",
   "metadata": {},
   "source": [
    "### Task 3: Remove Duplicate Records in Data\n",
    "**Description**: You have a dataset with duplicate entries. Write a Python script to find and remove duplicate records using Pandas.\n",
    "\n",
    "**Steps**:\n",
    "1. Find duplicate records\n",
    "2. Remove duplicates\n",
    "3. Report results"
   ]
  },
  {
   "cell_type": "code",
   "execution_count": 4,
   "metadata": {},
   "outputs": [
    {
     "name": "stdout",
     "output_type": "stream",
     "text": [
      "📄 Original DataFrame:\n",
      "\n",
      "   id     name  age\n",
      "0   1    Alice   25\n",
      "1   2      Bob   30\n",
      "2   2      Bob   30\n",
      "3   3  Charlie   35\n",
      "4   4    David   40\n",
      "5   5      Eva   28\n",
      "6   5      Eva   28\n",
      "\n",
      "🔍 Duplicate Records Found:\n",
      "\n",
      "   id name  age\n",
      "2   2  Bob   30\n",
      "6   5  Eva   28\n",
      "\n",
      "✅ Cleaned DataFrame (duplicates removed):\n",
      "\n",
      "   id     name  age\n",
      "0   1    Alice   25\n",
      "1   2      Bob   30\n",
      "3   3  Charlie   35\n",
      "4   4    David   40\n",
      "5   5      Eva   28\n",
      "\n",
      "📊 Total duplicates removed: 2\n"
     ]
    }
   ],
   "source": [
    "import pandas as pd\n",
    "\n",
    "# Sample dataset with duplicate entries\n",
    "data = {\n",
    "    \"id\": [1, 2, 2, 3, 4, 5, 5],\n",
    "    \"name\": [\"Alice\", \"Bob\", \"Bob\", \"Charlie\", \"David\", \"Eva\", \"Eva\"],\n",
    "    \"age\": [25, 30, 30, 35, 40, 28, 28]\n",
    "}\n",
    "\n",
    "# Step 1: Load data into DataFrame\n",
    "df = pd.DataFrame(data)\n",
    "\n",
    "print(\"📄 Original DataFrame:\\n\")\n",
    "print(df)\n",
    "\n",
    "# Step 2: Find duplicate records\n",
    "duplicates = df[df.duplicated()]\n",
    "print(\"\\n🔍 Duplicate Records Found:\\n\")\n",
    "print(duplicates)\n",
    "\n",
    "# Step 3: Remove duplicates (keep first occurrence)\n",
    "df_cleaned = df.drop_duplicates()\n",
    "\n",
    "# Step 4: Report results\n",
    "print(\"\\n✅ Cleaned DataFrame (duplicates removed):\\n\")\n",
    "print(df_cleaned)\n",
    "\n",
    "print(f\"\\n📊 Total duplicates removed: {len(df) - len(df_cleaned)}\")"
   ]
  }
 ],
 "metadata": {
  "kernelspec": {
   "display_name": "Python 3",
   "language": "python",
   "name": "python3"
  },
  "language_info": {
   "codemirror_mode": {
    "name": "ipython",
    "version": 3
   },
   "file_extension": ".py",
   "mimetype": "text/x-python",
   "name": "python",
   "nbconvert_exporter": "python",
   "pygments_lexer": "ipython3",
   "version": "3.10.12"
  }
 },
 "nbformat": 4,
 "nbformat_minor": 2
}
