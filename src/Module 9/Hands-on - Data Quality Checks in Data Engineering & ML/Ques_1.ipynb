{
 "cells": [
  {
   "cell_type": "markdown",
   "metadata": {},
   "source": [
    "### Detect Data Drift using Kolmogorov-Smirnov Test\n",
    "**Description**: Use statistical tests to detect data drift between two datasets."
   ]
  },
  {
   "cell_type": "code",
   "execution_count": 1,
   "metadata": {},
   "outputs": [
    {
     "name": "stdout",
     "output_type": "stream",
     "text": [
      "KS Statistic: 0.2420\n",
      "P-value: 0.0000\n",
      "⚠️ Data drift detected (distributions are significantly different).\n"
     ]
    }
   ],
   "source": [
    "import numpy as np\n",
    "from scipy.stats import ks_2samp\n",
    "\n",
    "# Simulate reference dataset (e.g., training data)\n",
    "np.random.seed(42)\n",
    "data_ref = np.random.normal(loc=0, scale=1, size=1000)  # Normal distribution, mean=0, std=1\n",
    "\n",
    "# Simulate new dataset (e.g., inference data) with drift (mean shifted)\n",
    "data_new = np.random.normal(loc=0.5, scale=1, size=1000)  # Mean shifted to 0.5\n",
    "\n",
    "# Apply Kolmogorov-Smirnov test to compare distributions\n",
    "ks_stat, p_value = ks_2samp(data_ref, data_new)\n",
    "\n",
    "print(f\"KS Statistic: {ks_stat:.4f}\")\n",
    "print(f\"P-value: {p_value:.4f}\")\n",
    "\n",
    "# Interpret results\n",
    "alpha = 0.05  # significance level\n",
    "if p_value < alpha:\n",
    "    print(\"⚠️ Data drift detected (distributions are significantly different).\")\n",
    "else:\n",
    "    print(\"✅ No data drift detected (distributions are similar).\")"
   ]
  }
 ],
 "metadata": {
  "kernelspec": {
   "display_name": "Python 3",
   "language": "python",
   "name": "python3"
  },
  "language_info": {
   "codemirror_mode": {
    "name": "ipython",
    "version": 3
   },
   "file_extension": ".py",
   "mimetype": "text/x-python",
   "name": "python",
   "nbconvert_exporter": "python",
   "pygments_lexer": "ipython3",
   "version": "3.10.12"
  }
 },
 "nbformat": 4,
 "nbformat_minor": 2
}
