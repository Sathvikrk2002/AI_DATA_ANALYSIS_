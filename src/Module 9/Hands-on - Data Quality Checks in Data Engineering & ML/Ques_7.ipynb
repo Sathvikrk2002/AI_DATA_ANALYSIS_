{
 "cells": [
  {
   "cell_type": "markdown",
   "metadata": {},
   "source": [
    "### Detect Data Drift in ML Models\n",
    "**Objective**: Monitor and detect changes in data distributions that impact ML model performance.\n",
    "\n",
    "**Task**: Feature Correlation Drift\n",
    "\n",
    "**Steps**:\n",
    "1. Compute the correlation matrix of features in your training dataset.\n",
    "2. Compute the correlation matrix of the same features in your production data.\n",
    "3. Assess changes in the correlation matrix over time to identify any significant deviations.\n",
    "4. Investigate any significant changes in correlation as they may indicate issues in the data collection process or model assumptions."
   ]
  },
  {
   "cell_type": "code",
   "execution_count": 2,
   "metadata": {},
   "outputs": [
    {
     "name": "stdout",
     "output_type": "stream",
     "text": [
      "🔍 Detected Feature Correlation Drift:\n",
      "\n",
      "   Feature_1  Feature_2  Train_Corr  Prod_Corr     Drift\n",
      "0  feature_b  feature_c    0.027262  -0.966132  0.993395\n",
      "2  feature_c  feature_b    0.027262  -0.966132  0.993395\n",
      "3  feature_c  feature_a    0.014518  -0.970732  0.985250\n",
      "5  feature_a  feature_c    0.014518  -0.970732  0.985250\n",
      "1  feature_b  feature_a    0.029310   0.994083  0.964774\n",
      "4  feature_a  feature_b    0.029310   0.994083  0.964774\n"
     ]
    }
   ],
   "source": [
    "import pandas as pd\n",
    "import numpy as np\n",
    "\n",
    "def detect_correlation_drift(train_df, prod_df, threshold=0.2):\n",
    "    # Step 1: Compute correlation matrices\n",
    "    train_corr = train_df.corr(numeric_only=True)\n",
    "    prod_corr = prod_df.corr(numeric_only=True)\n",
    "\n",
    "    # Step 2: Ensure the same columns in both matrices\n",
    "    common_cols = list(set(train_corr.columns) & set(prod_corr.columns))\n",
    "    train_corr = train_corr.loc[common_cols, common_cols]\n",
    "    prod_corr = prod_corr.loc[common_cols, common_cols]\n",
    "\n",
    "    # Step 3: Compute drift as absolute difference\n",
    "    drift_matrix = (train_corr - prod_corr).abs()\n",
    "\n",
    "    # Step 4: Identify significantly drifted correlations\n",
    "    drifted_pairs = []\n",
    "    for col1 in common_cols:\n",
    "        for col2 in common_cols:\n",
    "            if col1 != col2 and drift_matrix.loc[col1, col2] > threshold:\n",
    "                drifted_pairs.append({\n",
    "                    \"Feature_1\": col1,\n",
    "                    \"Feature_2\": col2,\n",
    "                    \"Train_Corr\": train_corr.loc[col1, col2],\n",
    "                    \"Prod_Corr\": prod_corr.loc[col1, col2],\n",
    "                    \"Drift\": drift_matrix.loc[col1, col2]\n",
    "                })\n",
    "\n",
    "    result_df = pd.DataFrame(drifted_pairs).drop_duplicates(subset=['Feature_1', 'Feature_2'])\n",
    "\n",
    "    return result_df.sort_values(\"Drift\", ascending=False)\n",
    "\n",
    "# ---------------------- Example with Synthetic Data ----------------------\n",
    "\n",
    "# Simulated training dataset\n",
    "np.random.seed(42)\n",
    "train_data = pd.DataFrame({\n",
    "    'feature_a': np.random.rand(1000),\n",
    "    'feature_b': np.random.rand(1000) * 0.5,\n",
    "    'feature_c': np.random.rand(1000) * 2\n",
    "})\n",
    "\n",
    "# Simulated production dataset with altered correlations\n",
    "prod_data = train_data.copy()\n",
    "prod_data['feature_b'] = prod_data['feature_a'] * 0.9 + np.random.rand(1000) * 0.1  # Introduce correlation\n",
    "prod_data['feature_c'] = prod_data['feature_a'] * -0.8 + np.random.rand(1000) * 0.2\n",
    "\n",
    "# Run correlation drift detection\n",
    "drift_results = detect_correlation_drift(train_data, prod_data, threshold=0.3)\n",
    "\n",
    "print(\"🔍 Detected Feature Correlation Drift:\\n\")\n",
    "print(drift_results if not drift_results.empty else \"✅ No significant correlation drift detected.\")"
   ]
  }
 ],
 "metadata": {
  "kernelspec": {
   "display_name": "Python 3",
   "language": "python",
   "name": "python3"
  },
  "language_info": {
   "codemirror_mode": {
    "name": "ipython",
    "version": 3
   },
   "file_extension": ".py",
   "mimetype": "text/x-python",
   "name": "python",
   "nbconvert_exporter": "python",
   "pygments_lexer": "ipython3",
   "version": "3.10.12"
  }
 },
 "nbformat": 4,
 "nbformat_minor": 2
}
