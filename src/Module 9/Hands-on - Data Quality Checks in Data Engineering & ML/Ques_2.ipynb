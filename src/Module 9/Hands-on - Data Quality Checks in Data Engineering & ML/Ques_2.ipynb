{
 "cells": [
  {
   "cell_type": "markdown",
   "metadata": {},
   "source": [
    "### Implementing Adversarial Validation for Data Drift\n",
    "Description: Create and train a classifier that distinguishes between train and test datasets, using the classifier’s performance to infer data drift."
   ]
  },
  {
   "cell_type": "code",
   "execution_count": 1,
   "metadata": {},
   "outputs": [
    {
     "name": "stdout",
     "output_type": "stream",
     "text": [
      "Adversarial Validation ROC AUC: 0.9961\n",
      "⚠️ High classifier performance → Data drift likely present.\n"
     ]
    }
   ],
   "source": [
    "import numpy as np\n",
    "import pandas as pd\n",
    "from sklearn.datasets import make_classification\n",
    "from sklearn.ensemble import RandomForestClassifier\n",
    "from sklearn.model_selection import train_test_split\n",
    "from sklearn.metrics import roc_auc_score\n",
    "\n",
    "# Simulate train data\n",
    "X_train, y_train = make_classification(\n",
    "    n_samples=1000, n_features=10, n_informative=8, random_state=42\n",
    ")\n",
    "\n",
    "# Simulate test data with slight distribution shift\n",
    "X_test, y_test = make_classification(\n",
    "    n_samples=1000, n_features=10, n_informative=8, shift=0.5, random_state=24\n",
    ")\n",
    "\n",
    "# Create combined dataset with label 0 for train, 1 for test\n",
    "X_combined = np.vstack([X_train, X_test])\n",
    "y_combined = np.hstack([np.zeros(len(X_train)), np.ones(len(X_test))])\n",
    "\n",
    "# Split combined data into train and validation for adversarial classifier\n",
    "X_adv_train, X_adv_val, y_adv_train, y_adv_val = train_test_split(\n",
    "    X_combined, y_combined, test_size=0.3, random_state=42, stratify=y_combined\n",
    ")\n",
    "\n",
    "# Train classifier to distinguish train/test samples\n",
    "clf = RandomForestClassifier(n_estimators=100, random_state=42)\n",
    "clf.fit(X_adv_train, y_adv_train)\n",
    "\n",
    "# Predict on validation set\n",
    "y_pred_proba = clf.predict_proba(X_adv_val)[:, 1]\n",
    "\n",
    "# Evaluate performance with ROC AUC\n",
    "auc_score = roc_auc_score(y_adv_val, y_pred_proba)\n",
    "\n",
    "print(f\"Adversarial Validation ROC AUC: {auc_score:.4f}\")\n",
    "\n",
    "if auc_score > 0.75:\n",
    "    print(\"⚠️ High classifier performance → Data drift likely present.\")\n",
    "else:\n",
    "    print(\"✅ Low classifier performance → Data distributions are similar.\")"
   ]
  }
 ],
 "metadata": {
  "kernelspec": {
   "display_name": "Python 3",
   "language": "python",
   "name": "python3"
  },
  "language_info": {
   "codemirror_mode": {
    "name": "ipython",
    "version": 3
   },
   "file_extension": ".py",
   "mimetype": "text/x-python",
   "name": "python",
   "nbconvert_exporter": "python",
   "pygments_lexer": "ipython3",
   "version": "3.10.12"
  }
 },
 "nbformat": 4,
 "nbformat_minor": 2
}
