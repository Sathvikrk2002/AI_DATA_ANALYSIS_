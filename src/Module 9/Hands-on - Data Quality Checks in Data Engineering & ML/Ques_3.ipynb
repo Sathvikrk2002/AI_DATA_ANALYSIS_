{
 "cells": [
  {
   "cell_type": "markdown",
   "metadata": {},
   "source": [
    "### Using SHAP for Feature Drift Analysis\n",
    "**Description**: Utilize SHapley Additive exPlanations (SHAP) values to analyze feature\n",
    "importance changes over time, indicating feature drift."
   ]
  },
  {
   "cell_type": "code",
   "execution_count": 1,
   "metadata": {},
   "outputs": [
    {
     "ename": "ModuleNotFoundError",
     "evalue": "No module named 'shap'",
     "output_type": "error",
     "traceback": [
      "\u001b[0;31m---------------------------------------------------------------------------\u001b[0m",
      "\u001b[0;31mModuleNotFoundError\u001b[0m                       Traceback (most recent call last)",
      "Cell \u001b[0;32mIn[1], line 5\u001b[0m\n\u001b[1;32m      3\u001b[0m \u001b[38;5;28;01mfrom\u001b[39;00m\u001b[38;5;250m \u001b[39m\u001b[38;5;21;01msklearn\u001b[39;00m\u001b[38;5;21;01m.\u001b[39;00m\u001b[38;5;21;01mdatasets\u001b[39;00m\u001b[38;5;250m \u001b[39m\u001b[38;5;28;01mimport\u001b[39;00m make_classification\n\u001b[1;32m      4\u001b[0m \u001b[38;5;28;01mfrom\u001b[39;00m\u001b[38;5;250m \u001b[39m\u001b[38;5;21;01msklearn\u001b[39;00m\u001b[38;5;21;01m.\u001b[39;00m\u001b[38;5;21;01mensemble\u001b[39;00m\u001b[38;5;250m \u001b[39m\u001b[38;5;28;01mimport\u001b[39;00m RandomForestClassifier\n\u001b[0;32m----> 5\u001b[0m \u001b[38;5;28;01mimport\u001b[39;00m\u001b[38;5;250m \u001b[39m\u001b[38;5;21;01mshap\u001b[39;00m\n\u001b[1;32m      6\u001b[0m \u001b[38;5;28;01mimport\u001b[39;00m\u001b[38;5;250m \u001b[39m\u001b[38;5;21;01mmatplotlib\u001b[39;00m\u001b[38;5;21;01m.\u001b[39;00m\u001b[38;5;21;01mpyplot\u001b[39;00m\u001b[38;5;250m \u001b[39m\u001b[38;5;28;01mas\u001b[39;00m\u001b[38;5;250m \u001b[39m\u001b[38;5;21;01mplt\u001b[39;00m\n\u001b[1;32m      8\u001b[0m \u001b[38;5;66;03m# Generate synthetic \"old\" data (time 1)\u001b[39;00m\n",
      "\u001b[0;31mModuleNotFoundError\u001b[0m: No module named 'shap'"
     ]
    }
   ],
   "source": [
    "import numpy as np\n",
    "import pandas as pd\n",
    "from sklearn.datasets import make_classification\n",
    "from sklearn.ensemble import RandomForestClassifier\n",
    "import shap\n",
    "import matplotlib.pyplot as plt\n",
    "\n",
    "# Generate synthetic \"old\" data (time 1)\n",
    "X_old, y_old = make_classification(n_samples=1000, n_features=5, random_state=42)\n",
    "\n",
    "# Generate synthetic \"new\" data (time 2) with slight drift on feature 0\n",
    "X_new = X_old.copy()\n",
    "X_new[:, 0] = X_new[:, 0] + np.random.normal(0.5, 0.1, size=X_new.shape[0])\n",
    "y_new = y_old.copy()\n",
    "\n",
    "feature_names = [f'feature_{i}' for i in range(X_old.shape[1])]\n",
    "\n",
    "# Train model on old data\n",
    "model_old = RandomForestClassifier(random_state=42)\n",
    "model_old.fit(X_old, y_old)\n",
    "\n",
    "# Train model on new data\n",
    "model_new = RandomForestClassifier(random_state=42)\n",
    "model_new.fit(X_new, y_new)\n",
    "\n",
    "# Explain predictions with SHAP for old data\n",
    "explainer_old = shap.TreeExplainer(model_old)\n",
    "shap_values_old = explainer_old.shap_values(X_old)\n",
    "\n",
    "# Explain predictions with SHAP for new data\n",
    "explainer_new = shap.TreeExplainer(model_new)\n",
    "shap_values_new = explainer_new.shap_values(X_new)\n",
    "\n",
    "# If multi-class, shap_values is a list of arrays (one per class).\n",
    "# For binary classification, shap_values_old/new is list with 2 arrays.\n",
    "# Take the SHAP values for class 1 only:\n",
    "if isinstance(shap_values_old, list):\n",
    "    shap_values_old = shap_values_old[1]\n",
    "\n",
    "if isinstance(shap_values_new, list):\n",
    "    shap_values_new = shap_values_new[1]\n",
    "\n",
    "# Calculate mean absolute SHAP values per feature\n",
    "mean_abs_shap_old = np.mean(np.abs(shap_values_old), axis=0)\n",
    "mean_abs_shap_new = np.mean(np.abs(shap_values_new), axis=0)\n",
    "\n",
    "# Create dataframe to compare\n",
    "shap_comparison = pd.DataFrame({\n",
    "    'feature': feature_names,\n",
    "    'mean_abs_shap_old': mean_abs_shap_old,\n",
    "    'mean_abs_shap_new': mean_abs_shap_new\n",
    "})\n",
    "\n",
    "shap_comparison['change'] = shap_comparison['mean_abs_shap_new'] - shap_comparison['mean_abs_shap_old']\n",
    "\n",
    "print(\"Feature Importance Change (SHAP):\")\n",
    "print(shap_comparison.sort_values('change', ascending=False))\n",
    "\n",
    "# Optional: Plot SHAP value changes\n",
    "shap_comparison.set_index('feature')[['mean_abs_shap_old', 'mean_abs_shap_new']].plot.bar(figsize=(10,6))\n",
    "plt.ylabel('Mean |SHAP value|')\n",
    "plt.title('Feature Importance Comparison: Old vs New Data')\n",
    "plt.show()"
   ]
  }
 ],
 "metadata": {
  "kernelspec": {
   "display_name": "Python 3",
   "language": "python",
   "name": "python3"
  },
  "language_info": {
   "codemirror_mode": {
    "name": "ipython",
    "version": 3
   },
   "file_extension": ".py",
   "mimetype": "text/x-python",
   "name": "python",
   "nbconvert_exporter": "python",
   "pygments_lexer": "ipython3",
   "version": "3.10.12"
  }
 },
 "nbformat": 4,
 "nbformat_minor": 2
}
