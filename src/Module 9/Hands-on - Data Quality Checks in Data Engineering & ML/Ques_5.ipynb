{
 "cells": [
  {
   "cell_type": "markdown",
   "metadata": {},
   "source": [
    "## Detect Schema Mismatches in Data Pipelines\n",
    "**Objective**: Identify and resolve schema mismatches that commonly occur in data pipelines.\n",
    "\n",
    "**Task**: Missing Column\n",
    "\n",
    "1. Load the source DataFrame with the below schema:\n",
    "    - id : Integer\n",
    "    - email : String\n",
    "    - signup_date : Date\n",
    "2. Load the target DataFrame with the below schema:\n",
    "    - id : Integer\n",
    "    - email : String\n",
    "3. Implement a check to identify any columns that are present in the source DataFrame but missing in the target.\n",
    "4. Add the missing `signup_date` column to the target DataFrame."
   ]
  },
  {
   "cell_type": "code",
   "execution_count": 1,
   "metadata": {},
   "outputs": [
    {
     "name": "stdout",
     "output_type": "stream",
     "text": [
      "✅ Missing Columns: ['signup_date']\n",
      "⚠️  Mismatched Data Types: []\n",
      "➕ Added column: signup_date (dtype: datetime64[ns])\n",
      "\n",
      "🧾 Final Reconciled Target DataFrame:\n",
      " id                      int64\n",
      "email                  object\n",
      "signup_date    datetime64[ns]\n",
      "dtype: object\n"
     ]
    }
   ],
   "source": [
    "import pandas as pd\n",
    "import numpy as np\n",
    "\n",
    "# --- Step 1: Load Source and Target DataFrames ---\n",
    "df_source = pd.DataFrame({\n",
    "    'id': [1, 2, 3],\n",
    "    'email': ['a@example.com', 'b@example.com', 'c@example.com'],\n",
    "    'signup_date': pd.to_datetime(['2023-01-01', '2023-01-02', '2023-01-03'])\n",
    "})\n",
    "\n",
    "df_target = pd.DataFrame({\n",
    "    'id': [1, 2, 3],\n",
    "    'email': ['a@example.com', 'b@example.com', 'c@example.com']\n",
    "})\n",
    "\n",
    "# --- Step 2: Schema Comparison Function ---\n",
    "def get_missing_columns(source_df, target_df):\n",
    "    \"\"\"Returns columns in source that are missing in target.\"\"\"\n",
    "    return [col for col in source_df.columns if col not in target_df.columns]\n",
    "\n",
    "def get_mismatched_dtypes(source_df, target_df):\n",
    "    \"\"\"Returns columns with mismatched data types (only those that exist in both).\"\"\"\n",
    "    mismatches = []\n",
    "    for col in source_df.columns:\n",
    "        if col in target_df.columns:\n",
    "            if source_df[col].dtype != target_df[col].dtype:\n",
    "                mismatches.append((col, str(source_df[col].dtype), str(target_df[col].dtype)))\n",
    "    return mismatches\n",
    "\n",
    "# --- Step 3: Reconciliation with Validation ---\n",
    "def reconcile_schema(source_df, target_df):\n",
    "    if source_df.empty or target_df.empty:\n",
    "        raise ValueError(\"One of the DataFrames is empty.\")\n",
    "\n",
    "    missing_cols = get_missing_columns(source_df, target_df)\n",
    "    mismatched_dtypes = get_mismatched_dtypes(source_df, target_df)\n",
    "\n",
    "    print(f\"✅ Missing Columns: {missing_cols}\")\n",
    "    print(f\"⚠️  Mismatched Data Types: {mismatched_dtypes}\")\n",
    "\n",
    "    # Add missing columns with default NaN values of correct dtype\n",
    "    for col in missing_cols:\n",
    "        default_value = pd.Series([np.nan], dtype=source_df[col].dtype).iloc[0]\n",
    "        target_df[col] = default_value\n",
    "        print(f\"➕ Added column: {col} (dtype: {source_df[col].dtype})\")\n",
    "\n",
    "    return target_df\n",
    "\n",
    "# --- Step 4: Run Reconciliation ---\n",
    "df_target = reconcile_schema(df_source, df_target)\n",
    "print(\"\\n🧾 Final Reconciled Target DataFrame:\\n\", df_target.dtypes)"
   ]
  }
 ],
 "metadata": {
  "kernelspec": {
   "display_name": "Python 3",
   "language": "python",
   "name": "python3"
  },
  "language_info": {
   "codemirror_mode": {
    "name": "ipython",
    "version": 3
   },
   "file_extension": ".py",
   "mimetype": "text/x-python",
   "name": "python",
   "nbconvert_exporter": "python",
   "pygments_lexer": "ipython3",
   "version": "3.10.12"
  }
 },
 "nbformat": 4,
 "nbformat_minor": 2
}
