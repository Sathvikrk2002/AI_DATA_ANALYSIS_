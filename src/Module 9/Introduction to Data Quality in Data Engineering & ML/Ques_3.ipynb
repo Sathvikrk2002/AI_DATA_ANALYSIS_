{
 "cells": [
  {
   "cell_type": "markdown",
   "metadata": {},
   "source": [
    "### Detect Bias in Data\n",
    "**Description**: Use statistical tests to detect bias in data, which can affect AI model fairness."
   ]
  },
  {
   "cell_type": "code",
   "execution_count": 1,
   "metadata": {},
   "outputs": [
    {
     "name": "stdout",
     "output_type": "stream",
     "text": [
      "Original Dataset:\n",
      "   gender loan_approved\n",
      "0    Male           Yes\n",
      "1  Female            No\n",
      "2    Male           Yes\n",
      "3  Female            No\n",
      "4    Male           Yes\n",
      "5  Female           Yes\n",
      "6    Male            No\n",
      "7  Female            No\n",
      "8    Male           Yes\n",
      "9  Female            No\n",
      "\n",
      "Contingency Table:\n",
      "loan_approved  No  Yes\n",
      "gender                \n",
      "Female          4    1\n",
      "Male            1    4\n",
      "\n",
      "Chi-Square Test Results:\n",
      "Chi2 Statistic: 1.6000\n",
      "Degrees of Freedom: 1\n",
      "P-Value: 0.2059\n",
      "\n",
      "Expected Frequencies:\n",
      "loan_approved   No  Yes\n",
      "gender                 \n",
      "Female         2.5  2.5\n",
      "Male           2.5  2.5\n",
      "\n",
      "✅ No statistically significant bias detected (p ≥ 0.05).\n"
     ]
    }
   ],
   "source": [
    "# Import required libraries\n",
    "import pandas as pd\n",
    "from scipy.stats import chi2_contingency\n",
    "\n",
    "# Create a sample dataset\n",
    "data = {\n",
    "    'gender': ['Male', 'Female', 'Male', 'Female', 'Male', 'Female', 'Male', 'Female', 'Male', 'Female'],\n",
    "    'loan_approved': ['Yes', 'No', 'Yes', 'No', 'Yes', 'Yes', 'No', 'No', 'Yes', 'No']\n",
    "}\n",
    "\n",
    "# Convert to DataFrame\n",
    "df = pd.DataFrame(data)\n",
    "\n",
    "# Display the original dataset\n",
    "print(\"Original Dataset:\")\n",
    "print(df)\n",
    "\n",
    "# Create a contingency table: Gender vs Loan Approval\n",
    "contingency_table = pd.crosstab(df['gender'], df['loan_approved'])\n",
    "\n",
    "print(\"\\nContingency Table:\")\n",
    "print(contingency_table)\n",
    "\n",
    "# Perform the Chi-Square test\n",
    "chi2, p, dof, expected = chi2_contingency(contingency_table)\n",
    "\n",
    "# Output the results\n",
    "print(\"\\nChi-Square Test Results:\")\n",
    "print(f\"Chi2 Statistic: {chi2:.4f}\")\n",
    "print(f\"Degrees of Freedom: {dof}\")\n",
    "print(f\"P-Value: {p:.4f}\")\n",
    "\n",
    "print(\"\\nExpected Frequencies:\")\n",
    "print(pd.DataFrame(expected, index=contingency_table.index, columns=contingency_table.columns))\n",
    "\n",
    "# Interpretation\n",
    "if p < 0.05:\n",
    "    print(\"\\n⚠️ Statistically significant bias detected (p < 0.05).\")\n",
    "else:\n",
    "    print(\"\\n✅ No statistically significant bias detected (p ≥ 0.05).\")"
   ]
  }
 ],
 "metadata": {
  "kernelspec": {
   "display_name": "Python 3",
   "language": "python",
   "name": "python3"
  },
  "language_info": {
   "codemirror_mode": {
    "name": "ipython",
    "version": 3
   },
   "file_extension": ".py",
   "mimetype": "text/x-python",
   "name": "python",
   "nbconvert_exporter": "python",
   "pygments_lexer": "ipython3",
   "version": "3.10.12"
  }
 },
 "nbformat": 4,
 "nbformat_minor": 2
}
