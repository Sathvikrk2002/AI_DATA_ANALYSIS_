{
 "cells": [
  {
   "cell_type": "markdown",
   "metadata": {},
   "source": [
    "### Imputing Missing Data\n",
    "**Description**: Impute missing data using various strategies like mean, median, or mode."
   ]
  },
  {
   "cell_type": "code",
   "execution_count": 1,
   "metadata": {},
   "outputs": [
    {
     "name": "stdout",
     "output_type": "stream",
     "text": [
      "Original DataFrame with missing values:\n",
      "\n",
      "    age   salary department\n",
      "0  25.0  50000.0         HR\n",
      "1  30.0  54000.0    Finance\n",
      "2   NaN  58000.0         HR\n",
      "3  45.0      NaN    Finance\n",
      "4  50.0  62000.0        NaN\n",
      "5   NaN  60000.0         IT\n",
      "6  35.0      NaN         IT\n",
      "\n",
      "DataFrame after imputing missing values:\n",
      "\n",
      "    age   salary department\n",
      "0  25.0  50000.0         HR\n",
      "1  30.0  54000.0    Finance\n",
      "2  37.0  58000.0         HR\n",
      "3  45.0  56800.0    Finance\n",
      "4  50.0  62000.0    Finance\n",
      "5  37.0  60000.0         IT\n",
      "6  35.0  56800.0         IT\n"
     ]
    }
   ],
   "source": [
    "import pandas as pd\n",
    "import numpy as np\n",
    "from sklearn.impute import SimpleImputer\n",
    "\n",
    "# Sample dataset with missing values\n",
    "data = {\n",
    "    'age': [25, 30, np.nan, 45, 50, np.nan, 35],\n",
    "    'salary': [50000, 54000, 58000, np.nan, 62000, 60000, np.nan],\n",
    "    'department': ['HR', 'Finance', 'HR', 'Finance', np.nan, 'IT', 'IT']\n",
    "}\n",
    "df = pd.DataFrame(data)\n",
    "\n",
    "print(\"Original DataFrame with missing values:\\n\")\n",
    "print(df)\n",
    "\n",
    "# --- Impute numeric columns using mean ---\n",
    "mean_imputer = SimpleImputer(strategy='mean')\n",
    "df['age'] = mean_imputer.fit_transform(df[['age']])\n",
    "df['salary'] = mean_imputer.fit_transform(df[['salary']])\n",
    "\n",
    "# --- Impute categorical column using mode ---\n",
    "mode_imputer = SimpleImputer(strategy='most_frequent')\n",
    "df['department'] = mode_imputer.fit_transform(df[['department']]).ravel()\n",
    "\n",
    "print(\"\\nDataFrame after imputing missing values:\\n\")\n",
    "print(df)"
   ]
  }
 ],
 "metadata": {
  "kernelspec": {
   "display_name": "Python 3",
   "language": "python",
   "name": "python3"
  },
  "language_info": {
   "codemirror_mode": {
    "name": "ipython",
    "version": 3
   },
   "file_extension": ".py",
   "mimetype": "text/x-python",
   "name": "python",
   "nbconvert_exporter": "python",
   "pygments_lexer": "ipython3",
   "version": "3.10.12"
  }
 },
 "nbformat": 4,
 "nbformat_minor": 2
}
