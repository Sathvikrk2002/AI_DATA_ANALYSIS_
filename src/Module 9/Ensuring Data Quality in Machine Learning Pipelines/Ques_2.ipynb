{
 "cells": [
  {
   "cell_type": "markdown",
   "metadata": {},
   "source": [
    "### Bias & Fairness in Data: Distribution Check\n",
    "**Description**: Load the Adult Income dataset and check for representation bias by analyzing the distribution of gender across different income levels."
   ]
  },
  {
   "cell_type": "code",
   "execution_count": null,
   "metadata": {},
   "outputs": [],
   "source": [
    "import pandas as pd\n",
    "import seaborn as sns\n",
    "import matplotlib.pyplot as plt\n",
    "\n",
    "# Step 1: Load Adult Income dataset\n",
    "# Using UCI repository format (replace with local path if needed)\n",
    "url = \"https://archive.ics.uci.edu/ml/machine-learning-databases/adult/adult.data\"\n",
    "\n",
    "columns = [\n",
    "    'age', 'workclass', 'fnlwgt', 'education', 'education_num',\n",
    "    'marital_status', 'occupation', 'relationship', 'race', 'sex',\n",
    "    'capital_gain', 'capital_loss', 'hours_per_week', 'native_country', 'income'\n",
    "]\n",
    "\n",
    "df = pd.read_csv(url, header=None, names=columns, na_values=\" ?\", skipinitialspace=True)\n",
    "\n",
    "# Step 2: Drop missing values for simplicity\n",
    "df.dropna(inplace=True)\n",
    "\n",
    "# Step 3: Gender distribution across income groups\n",
    "gender_income_distribution = df.groupby(['income', 'sex']).size().unstack()\n",
    "\n",
    "print(\"📊 Gender Distribution Across Income Groups:\")\n",
    "print(gender_income_distribution)\n",
    "\n",
    "# Step 4: Visualize\n",
    "plt.figure(figsize=(8,5))\n",
    "sns.countplot(data=df, x='income', hue='sex')\n",
    "plt.title(\"Gender Distribution by Income Level\")\n",
    "plt.xlabel(\"Income Group\")\n",
    "plt.ylabel(\"Count\")\n",
    "plt.legend(title=\"Gender\")\n",
    "plt.tight_layout()\n",
    "plt.show()"
   ]
  }
 ],
 "metadata": {
  "kernelspec": {
   "display_name": "base",
   "language": "python",
   "name": "python3"
  },
  "language_info": {
   "name": "python",
   "version": "3.12.7"
  }
 },
 "nbformat": 4,
 "nbformat_minor": 2
}
