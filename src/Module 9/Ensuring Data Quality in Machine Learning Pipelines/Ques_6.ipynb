{
 "cells": [
  {
   "cell_type": "markdown",
   "metadata": {},
   "source": [
    "### Bias & Fairness in Data: Bias Mitigation Techniques\n",
    "**Question**: Use the Adult Income dataset and apply reweighing technique to balance the\n",
    "class weights based on sensitive attributes (e.g., gender)."
   ]
  },
  {
   "cell_type": "code",
   "execution_count": 1,
   "metadata": {},
   "outputs": [
    {
     "name": "stdout",
     "output_type": "stream",
     "text": [
      "\n",
      "Original distribution:\n",
      "income  <=50K  >50K\n",
      "sex                \n",
      "Female   9592  1179\n",
      "Male    15128  6662\n",
      "\n",
      "Average weights assigned per group:\n",
      "   sex_encoded  income_encoded    weight\n",
      "0            0               0  0.848650\n",
      "1            0               1  6.904368\n",
      "2            1               0  0.538092\n",
      "3            1               1  1.221893\n",
      "\n",
      "Weighted counts (sum of weights) per group:\n",
      "   sex_encoded  income_encoded   weight\n",
      "0            0               0  8140.25\n",
      "1            0               1  8140.25\n",
      "2            1               0  8140.25\n",
      "3            1               1  8140.25\n"
     ]
    }
   ],
   "source": [
    "import pandas as pd\n",
    "import numpy as np\n",
    "from sklearn.preprocessing import LabelEncoder\n",
    "\n",
    "# Step 1: Load Adult Income dataset (from UCI repository)\n",
    "url = \"https://archive.ics.uci.edu/ml/machine-learning-databases/adult/adult.data\"\n",
    "column_names = [\n",
    "    'age', 'workclass', 'fnlwgt', 'education', 'education-num',\n",
    "    'marital-status', 'occupation', 'relationship', 'race', 'sex',\n",
    "    'capital-gain', 'capital-loss', 'hours-per-week', 'native-country', 'income'\n",
    "]\n",
    "\n",
    "df = pd.read_csv(url, header=None, names=column_names, na_values=' ?', skipinitialspace=True)\n",
    "\n",
    "# Drop rows with missing values for simplicity\n",
    "df.dropna(inplace=True)\n",
    "\n",
    "# Step 2: Encode sensitive attribute and label\n",
    "# Sensitive attribute: 'sex' (Male=1, Female=0)\n",
    "df['sex_encoded'] = LabelEncoder().fit_transform(df['sex'])\n",
    "# Label: 'income' (<=50K=0, >50K=1)\n",
    "df['income_encoded'] = (df['income'] == '>50K').astype(int)\n",
    "\n",
    "# Step 3: Calculate counts for reweighing\n",
    "# Groups: sensitive attribute (sex) and label (income)\n",
    "group_counts = df.groupby(['sex_encoded', 'income_encoded']).size().reset_index(name='count')\n",
    "total = len(df)\n",
    "\n",
    "# Calculate weights for each group based on their representation in data\n",
    "# Formula: weight = (total_samples) / (number_of_groups * count_of_group)\n",
    "num_groups = group_counts.shape[0]\n",
    "\n",
    "group_counts['weight'] = total / (num_groups * group_counts['count'])\n",
    "\n",
    "# Step 4: Assign weights to each instance in original df\n",
    "def get_weight(row):\n",
    "    mask = (group_counts['sex_encoded'] == row['sex_encoded']) & \\\n",
    "           (group_counts['income_encoded'] == row['income_encoded'])\n",
    "    return group_counts.loc[mask, 'weight'].values[0]\n",
    "\n",
    "df['weight'] = df.apply(get_weight, axis=1)\n",
    "\n",
    "# Step 5: Show original vs reweighed class distribution by gender\n",
    "print(\"\\nOriginal distribution:\")\n",
    "print(pd.crosstab(df['sex'], df['income']))\n",
    "\n",
    "print(\"\\nAverage weights assigned per group:\")\n",
    "print(group_counts[['sex_encoded', 'income_encoded', 'weight']])\n",
    "\n",
    "# To use weights in model training, pass 'weight' as sample_weight parameter in classifiers\n",
    "\n",
    "# Optional: Check total weights per group after reweighing (should be more balanced)\n",
    "weighted_counts = df.groupby(['sex_encoded', 'income_encoded'])['weight'].sum().reset_index()\n",
    "print(\"\\nWeighted counts (sum of weights) per group:\")\n",
    "print(weighted_counts)"
   ]
  }
 ],
 "metadata": {
  "kernelspec": {
   "display_name": "Python 3",
   "language": "python",
   "name": "python3"
  },
  "language_info": {
   "codemirror_mode": {
    "name": "ipython",
    "version": 3
   },
   "file_extension": ".py",
   "mimetype": "text/x-python",
   "name": "python",
   "nbconvert_exporter": "python",
   "pygments_lexer": "ipython3",
   "version": "3.10.12"
  }
 },
 "nbformat": 4,
 "nbformat_minor": 2
}
