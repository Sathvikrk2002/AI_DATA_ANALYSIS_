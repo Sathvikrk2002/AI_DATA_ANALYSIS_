{
 "cells": [
  {
   "cell_type": "markdown",
   "metadata": {},
   "source": [
    "### Feature Engineering Best Practices: Handling Text Data\n",
    "**Question**: Load a dataset with text data (e.g., SMS Spam Collection), perform text\n",
    "preprocessing, and extract numerical features using TF-IDF."
   ]
  },
  {
   "cell_type": "code",
   "execution_count": null,
   "metadata": {},
   "outputs": [],
   "source": [
    "import pandas as pd\n",
    "import re\n",
    "import io\n",
    "import requests\n",
    "import zipfile\n",
    "from sklearn.feature_extraction.text import TfidfVectorizer\n",
    "from sklearn.model_selection import train_test_split\n",
    "\n",
    "# Step 1: Download ZIP and read the SMSSpamCollection file inside it\n",
    "url = \"https://archive.ics.uci.edu/ml/machine-learning-databases/00228/smsspamcollection.zip\"\n",
    "r = requests.get(url)\n",
    "z = zipfile.ZipFile(io.BytesIO(r.content))\n",
    "\n",
    "# Read the specific file inside the ZIP\n",
    "with z.open('SMSSpamCollection') as f:\n",
    "    df = pd.read_csv(f, sep='\\t', header=None, names=['label', 'message'])\n",
    "\n",
    "# Step 2: Basic text preprocessing\n",
    "def preprocess_text(text):\n",
    "    text = text.lower()\n",
    "    text = re.sub(r'[^a-z0-9\\s]', '', text)\n",
    "    text = re.sub(r'\\s+', ' ', text).strip()\n",
    "    return text\n",
    "\n",
    "df['clean_message'] = df['message'].apply(preprocess_text)\n",
    "\n",
    "# Step 3: Extract TF-IDF features\n",
    "tfidf = TfidfVectorizer(max_features=3000)\n",
    "X_tfidf = tfidf.fit_transform(df['clean_message'])\n",
    "\n",
    "print(\"TF-IDF feature matrix shape:\", X_tfidf.shape)\n",
    "\n",
    "# Optional: Train/test split\n",
    "X_train, X_test, y_train, y_test = train_test_split(\n",
    "    X_tfidf, df['label'], test_size=0.2, random_state=42, stratify=df['label'])\n",
    "\n",
    "print(f\"Training samples: {X_train.shape[0]}, Testing samples: {X_test.shape[0]}\")\n",
    "\n",
    "# Show some example TF-IDF features\n",
    "feature_names = tfidf.get_feature_names_out()\n",
    "print(\"Top 10 TF-IDF features:\", feature_names[:10])"
   ]
  }
 ],
 "metadata": {
  "kernelspec": {
   "display_name": "base",
   "language": "python",
   "name": "python3"
  },
  "language_info": {
   "name": "python",
   "version": "3.12.7"
  }
 },
 "nbformat": 4,
 "nbformat_minor": 2
}
