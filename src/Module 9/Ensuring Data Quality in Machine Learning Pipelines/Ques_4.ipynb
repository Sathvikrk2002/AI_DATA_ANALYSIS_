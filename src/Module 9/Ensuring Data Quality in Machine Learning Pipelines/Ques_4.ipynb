{
 "cells": [
  {
   "cell_type": "markdown",
   "metadata": {},
   "source": [
    "### Detecting & Handling Imbalanced Data: Visualizing Class Imbalance\n",
    "**Question**: Load the Credit Card Fraud Detection dataset and visualize the class imbalance. Then apply random undersampling to balance it."
   ]
  },
  {
   "cell_type": "code",
   "execution_count": null,
   "metadata": {},
   "outputs": [],
   "source": [
    "import pandas as pd\n",
    "import matplotlib.pyplot as plt\n",
    "import seaborn as sns\n",
    "from sklearn.utils import resample\n",
    "import numpy as np  # ✅ FIXED: Import numpy for sample generation\n",
    "\n",
    "# Step 1: Load the dataset (or create sample data if not found)\n",
    "try:\n",
    "    df = pd.read_csv(\"creditcard.csv\")\n",
    "    print(\"✅ Loaded 'creditcard.csv'\")\n",
    "except FileNotFoundError:\n",
    "    print(\"⚠️ File not found. Using sample data...\")\n",
    "    df_legit = pd.DataFrame({'Amount': abs(np.random.randn(950)), 'Class': 0})\n",
    "    df_fraud = pd.DataFrame({'Amount': abs(np.random.randn(50)), 'Class': 1})\n",
    "    df = pd.concat([df_legit, df_fraud], ignore_index=True)\n",
    "\n",
    "# Step 2: Visualize original class distribution\n",
    "plt.figure(figsize=(6, 4))\n",
    "sns.countplot(x='Class', data=df)\n",
    "plt.title(\"Original Class Distribution\")\n",
    "plt.xticks([0, 1], ['Legit (0)', 'Fraud (1)'])\n",
    "plt.ylabel(\"Number of Records\")\n",
    "plt.tight_layout()\n",
    "plt.show()\n",
    "\n",
    "# Step 3: Handle imbalance using random undersampling\n",
    "df_majority = df[df.Class == 0]\n",
    "df_minority = df[df.Class == 1]\n",
    "\n",
    "df_majority_downsampled = resample(\n",
    "    df_majority,\n",
    "    replace=False,\n",
    "    n_samples=len(df_minority),\n",
    "    random_state=42\n",
    ")\n",
    "\n",
    "df_balanced = pd.concat([df_majority_downsampled, df_minority])\n",
    "\n",
    "# Step 4: Visualize balanced class distribution\n",
    "plt.figure(figsize=(6, 4))\n",
    "sns.countplot(x='Class', data=df_balanced)\n",
    "plt.title(\"Balanced Class Distribution (After Random Undersampling)\")\n",
    "plt.xticks([0, 1], ['Legit (0)', 'Fraud (1)'])\n",
    "plt.ylabel(\"Number of Records\")\n",
    "plt.tight_layout()\n",
    "plt.show()"
   ]
  }
 ],
 "metadata": {
  "kernelspec": {
   "display_name": "base",
   "language": "python",
   "name": "python3"
  },
  "language_info": {
   "name": "python",
   "version": "3.12.7"
  }
 },
 "nbformat": 4,
 "nbformat_minor": 2
}
