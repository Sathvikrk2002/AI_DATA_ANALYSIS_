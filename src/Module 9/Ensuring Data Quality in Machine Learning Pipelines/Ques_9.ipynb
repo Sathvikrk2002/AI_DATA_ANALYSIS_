{
 "cells": [
  {
   "cell_type": "markdown",
   "metadata": {},
   "source": [
    "### Ensuring Consistency Across Training & Inference Datasets: Pipeline Integration\n",
    "**Question**: Create and train a machine learning pipeline that ensures feature transformation consistency across training and inference datasets using scikit-learn."
   ]
  },
  {
   "cell_type": "code",
   "execution_count": 1,
   "metadata": {},
   "outputs": [
    {
     "name": "stdout",
     "output_type": "stream",
     "text": [
      "Sample predictions from pipeline: [1 0 2 1 1 0 1 2 1 1]\n",
      "Sample predictions from manual transform + clf: [1 0 2 1 1 0 1 2 1 1]\n",
      "Pipeline ensures consistent feature transformation during training and inference.\n"
     ]
    }
   ],
   "source": [
    "from sklearn.datasets import load_iris\n",
    "from sklearn.model_selection import train_test_split\n",
    "from sklearn.pipeline import Pipeline\n",
    "from sklearn.preprocessing import StandardScaler\n",
    "from sklearn.linear_model import LogisticRegression\n",
    "import numpy as np\n",
    "\n",
    "# Step 1: Load dataset\n",
    "iris = load_iris()\n",
    "X, y = iris.data, iris.target\n",
    "\n",
    "# Step 2: Split into train and test sets\n",
    "X_train, X_test, y_train, y_test = train_test_split(X, y, test_size=0.2, random_state=42)\n",
    "\n",
    "# Step 3: Create pipeline with scaler + classifier\n",
    "pipeline = Pipeline([\n",
    "    ('scaler', StandardScaler()),\n",
    "    ('clf', LogisticRegression(random_state=42))\n",
    "])\n",
    "\n",
    "# Step 4: Train the pipeline\n",
    "pipeline.fit(X_train, y_train)\n",
    "\n",
    "# Step 5: Inference on test data using the same pipeline\n",
    "y_pred = pipeline.predict(X_test)\n",
    "\n",
    "# Step 6: Verify inference consistency by transforming data manually and comparing\n",
    "X_test_scaled_manual = pipeline.named_steps['scaler'].transform(X_test)\n",
    "y_pred_manual = pipeline.named_steps['clf'].predict(X_test_scaled_manual)\n",
    "\n",
    "# Check if predictions match\n",
    "assert np.array_equal(y_pred, y_pred_manual), \"Predictions differ between pipeline and manual transform!\"\n",
    "\n",
    "# Step 7: Print sample outputs\n",
    "print(\"Sample predictions from pipeline:\", y_pred[:10])\n",
    "print(\"Sample predictions from manual transform + clf:\", y_pred_manual[:10])\n",
    "print(\"Pipeline ensures consistent feature transformation during training and inference.\")"
   ]
  }
 ],
 "metadata": {
  "kernelspec": {
   "display_name": "Python 3",
   "language": "python",
   "name": "python3"
  },
  "language_info": {
   "codemirror_mode": {
    "name": "ipython",
    "version": 3
   },
   "file_extension": ".py",
   "mimetype": "text/x-python",
   "name": "python",
   "nbconvert_exporter": "python",
   "pygments_lexer": "ipython3",
   "version": "3.10.12"
  }
 },
 "nbformat": 4,
 "nbformat_minor": 2
}
