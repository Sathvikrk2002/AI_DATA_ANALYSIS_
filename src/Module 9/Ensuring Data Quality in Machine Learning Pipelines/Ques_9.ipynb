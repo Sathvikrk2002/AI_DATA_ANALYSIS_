{
 "cells": [
  {
   "cell_type": "markdown",
   "metadata": {},
   "source": [
    "### Ensuring Consistency Across Training & Inference Datasets: Pipeline Integration\n",
    "**Question**: Create and train a machine learning pipeline that ensures feature transformation consistency across training and inference datasets using scikit-learn."
   ]
  },
  {
   "cell_type": "code",
   "execution_count": null,
   "metadata": {},
   "outputs": [],
   "source": [
    "from sklearn.datasets import load_iris\n",
    "from sklearn.model_selection import train_test_split\n",
    "from sklearn.pipeline import Pipeline\n",
    "from sklearn.preprocessing import StandardScaler\n",
    "from sklearn.linear_model import LogisticRegression\n",
    "import numpy as np\n",
    "\n",
    "# Step 1: Load dataset\n",
    "iris = load_iris()\n",
    "X, y = iris.data, iris.target\n",
    "\n",
    "# Step 2: Split into train and test sets\n",
    "X_train, X_test, y_train, y_test = train_test_split(X, y, test_size=0.2, random_state=42)\n",
    "\n",
    "# Step 3: Create pipeline with scaler + classifier\n",
    "pipeline = Pipeline([\n",
    "    ('scaler', StandardScaler()),\n",
    "    ('clf', LogisticRegression(random_state=42))\n",
    "])\n",
    "\n",
    "# Step 4: Train the pipeline\n",
    "pipeline.fit(X_train, y_train)\n",
    "\n",
    "# Step 5: Inference on test data using the same pipeline\n",
    "y_pred = pipeline.predict(X_test)\n",
    "\n",
    "# Step 6: Verify inference consistency by transforming data manually and comparing\n",
    "X_test_scaled_manual = pipeline.named_steps['scaler'].transform(X_test)\n",
    "y_pred_manual = pipeline.named_steps['clf'].predict(X_test_scaled_manual)\n",
    "\n",
    "# Check if predictions match\n",
    "assert np.array_equal(y_pred, y_pred_manual), \"Predictions differ between pipeline and manual transform!\"\n",
    "\n",
    "# Step 7: Print sample outputs\n",
    "print(\"Sample predictions from pipeline:\", y_pred[:10])\n",
    "print(\"Sample predictions from manual transform + clf:\", y_pred_manual[:10])\n",
    "print(\"Pipeline ensures consistent feature transformation during training and inference.\")"
   ]
  }
 ],
 "metadata": {
  "kernelspec": {
   "display_name": "base",
   "language": "python",
   "name": "python3"
  },
  "language_info": {
   "name": "python",
   "version": "3.12.7"
  }
 },
 "nbformat": 4,
 "nbformat_minor": 2
}
