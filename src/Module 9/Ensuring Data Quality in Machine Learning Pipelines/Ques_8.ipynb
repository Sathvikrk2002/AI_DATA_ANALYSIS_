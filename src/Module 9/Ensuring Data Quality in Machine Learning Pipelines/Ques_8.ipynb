{
 "cells": [
  {
   "cell_type": "markdown",
   "metadata": {},
   "source": [
    "### Data Drift: Detection Using Statistical Tests\n",
    "**Question**: Simulate two datasets with a shift in distribution, and apply the Kolmogorov-\n",
    "Smirnov test to determine if data drift has occurred."
   ]
  },
  {
   "cell_type": "code",
   "execution_count": null,
   "metadata": {},
   "outputs": [],
   "source": [
    "import numpy as np\n",
    "from scipy.stats import ks_2samp\n",
    "import matplotlib.pyplot as plt\n",
    "\n",
    "# Step 1: Simulate two datasets\n",
    "np.random.seed(42)\n",
    "\n",
    "# Dataset 1: baseline data ~ Normal(0,1)\n",
    "data1 = np.random.normal(loc=0, scale=1, size=1000)\n",
    "\n",
    "# Dataset 2: drifted data ~ Normal(0.5, 1.5) (shift in mean and std)\n",
    "data2 = np.random.normal(loc=0.5, scale=1.5, size=1000)\n",
    "\n",
    "# Step 2: Visualize both distributions\n",
    "plt.hist(data1, bins=30, alpha=0.5, label='Dataset 1 (Baseline)')\n",
    "plt.hist(data2, bins=30, alpha=0.5, label='Dataset 2 (Drifted)')\n",
    "plt.legend()\n",
    "plt.title(\"Distribution Comparison\")\n",
    "plt.show()\n",
    "\n",
    "# Step 3: Apply Kolmogorov-Smirnov test\n",
    "ks_stat, p_value = ks_2samp(data1, data2)\n",
    "\n",
    "print(f\"KS Statistic: {ks_stat:.4f}\")\n",
    "print(f\"P-value: {p_value:.4f}\")\n",
    "\n",
    "# Step 4: Interpret the result\n",
    "alpha = 0.05\n",
    "if p_value < alpha:\n",
    "    print(\"Result: Reject the null hypothesis - Distributions are different (Data drift detected)\")\n",
    "else:\n",
    "    print(\"Result: Fail to reject the null hypothesis - No evidence of data drift\")"
   ]
  }
 ],
 "metadata": {
  "kernelspec": {
   "display_name": "base",
   "language": "python",
   "name": "python3"
  },
  "language_info": {
   "name": "python",
   "version": "3.12.7"
  }
 },
 "nbformat": 4,
 "nbformat_minor": 2
}
