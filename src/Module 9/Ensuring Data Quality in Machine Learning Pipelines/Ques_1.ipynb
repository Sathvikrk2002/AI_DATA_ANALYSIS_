{
 "cells": [
  {
   "cell_type": "markdown",
   "metadata": {},
   "source": [
    "### Garbage In, Garbage Out (GIGO): Cleaning Missing Data\n",
    "**Description**: Load a dataset (e.g., Titanic dataset) and identify missing values. Use\n",
    "appropriate techniques to handle these missing values."
   ]
  },
  {
   "cell_type": "code",
   "execution_count": null,
   "metadata": {},
   "outputs": [],
   "source": [
    "import pandas as pd\n",
    "from sklearn.impute import SimpleImputer\n",
    "import seaborn as sns\n",
    "\n",
    "# Step 1: Load Titanic dataset\n",
    "df = sns.load_dataset('titanic')\n",
    "\n",
    "print(\"🚢 Original Titanic Dataset with Missing Values:\")\n",
    "print(df.head())\n",
    "print(\"\\n📉 Missing Values Summary:\")\n",
    "print(df.isnull().sum())\n",
    "\n",
    "# Step 2: Handle missing values\n",
    "\n",
    "# Numeric imputation using mean\n",
    "numeric_cols = df.select_dtypes(include=['float64', 'int64']).columns\n",
    "num_imputer = SimpleImputer(strategy='mean')\n",
    "df[numeric_cols] = num_imputer.fit_transform(df[numeric_cols])\n",
    "\n",
    "# Categorical imputation using mode\n",
    "categorical_cols = df.select_dtypes(include=['object', 'category']).columns\n",
    "cat_imputer = SimpleImputer(strategy='most_frequent')\n",
    "df[categorical_cols] = cat_imputer.fit_transform(df[categorical_cols])\n",
    "\n",
    "# Step 3: Verify that missing values are handled\n",
    "print(\"\\n✅ Cleaned Dataset (Missing Values Handled):\")\n",
    "print(df.head())\n",
    "\n",
    "print(\"\\n🔍 Remaining Missing Values:\")\n",
    "print(df.isnull().sum())"
   ]
  }
 ],
 "metadata": {
  "kernelspec": {
   "display_name": "base",
   "language": "python",
   "name": "python3"
  },
  "language_info": {
   "name": "python",
   "version": "3.12.7"
  }
 },
 "nbformat": 4,
 "nbformat_minor": 2
}
