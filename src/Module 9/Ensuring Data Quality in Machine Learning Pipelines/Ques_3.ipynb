{
 "cells": [
  {
   "cell_type": "markdown",
   "metadata": {},
   "source": [
    "### Data Drift: Visualizing Concept Drift\n",
    "**Description**: Simulate concept drift by gradually changing the distribution of a binary target variable over simulated time periods. Plot these changes."
   ]
  },
  {
   "cell_type": "code",
   "execution_count": null,
   "metadata": {},
   "outputs": [],
   "source": [
    "import numpy as np\n",
    "import pandas as pd\n",
    "import matplotlib.pyplot as plt\n",
    "import seaborn as sns\n",
    "\n",
    "# Step 1: Simulate time periods and binary target\n",
    "np.random.seed(42)\n",
    "time_periods = 10\n",
    "samples_per_period = 1000\n",
    "\n",
    "data = []\n",
    "\n",
    "# Simulate increasing probability for class 1 over time (concept drift)\n",
    "for t in range(time_periods):\n",
    "    prob_class_1 = 0.1 + (t * 0.08)  # Gradually increasing class 1 probability\n",
    "    targets = np.random.choice([0, 1], size=samples_per_period, p=[1 - prob_class_1, prob_class_1])\n",
    "    period_data = pd.DataFrame({\n",
    "        'time_period': t,\n",
    "        'target': targets\n",
    "    })\n",
    "    data.append(period_data)\n",
    "\n",
    "# Combine all periods into one DataFrame\n",
    "df = pd.concat(data, ignore_index=True)\n",
    "\n",
    "# Step 2: Visualize class distribution over time\n",
    "plt.figure(figsize=(10, 6))\n",
    "sns.lineplot(\n",
    "    data=df.groupby('time_period')['target'].mean().reset_index(),\n",
    "    x='time_period', y='target', marker='o'\n",
    ")\n",
    "plt.title(\"📉 Concept Drift: Target Class Distribution Over Time\")\n",
    "plt.xlabel(\"Time Period\")\n",
    "plt.ylabel(\"Proportion of Class 1\")\n",
    "plt.ylim(0, 1)\n",
    "plt.grid(True)\n",
    "plt.tight_layout()\n",
    "plt.show()\n",
    "/tmp/ipykernel_6709/2279"
   ]
  }
 ],
 "metadata": {
  "kernelspec": {
   "display_name": "base",
   "language": "python",
   "name": "python3"
  },
  "language_info": {
   "name": "python",
   "version": "3.12.7"
  }
 },
 "nbformat": 4,
 "nbformat_minor": 2
}
