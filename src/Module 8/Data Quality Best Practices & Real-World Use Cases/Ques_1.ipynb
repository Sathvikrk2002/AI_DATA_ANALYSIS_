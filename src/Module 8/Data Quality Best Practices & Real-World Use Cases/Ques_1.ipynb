{
 "cells": [
  {
   "cell_type": "markdown",
   "metadata": {},
   "source": [
    "### Define Data Quality KPIs\n",
    "\n",
    "**Task 1**: Identify Relevant KPIs\n",
    "\n",
    "**Objective**: Develop KPIs that align with organizational goals.\n",
    "\n",
    "**Steps**:\n",
    "1. Choose a dataset from a domain of your interest (e.g., sales data, healthcare records, or transaction logs).\n",
    "2. Identify three KPIs that would be crucial for assessing the data quality in your chosen dataset. Consider accuracy, completeness, and timeliness.\n",
    "3. Document why each KPI is important for maintaining high-quality data in your given context."
   ]
  },
  {
   "cell_type": "code",
   "execution_count": 1,
   "metadata": {},
   "outputs": [
    {
     "name": "stdout",
     "output_type": "stream",
     "text": [
      "=== Data Quality KPIs for Sales Dataset ===\n",
      "\n",
      "KPI 1 - Completeness (%):\n",
      "Order_ID         100.0\n",
      "Customer_Name     80.0\n",
      "Order_Date        80.0\n",
      "Amount            80.0\n",
      "dtype: float64\n",
      "\n",
      "KPI 2 - Accuracy of 'Order_ID': 100.0%\n",
      "\n",
      "KPI 3 - Timeliness of 'Order_Date': 846 days since last entry\n"
     ]
    }
   ],
   "source": [
    "# Task 1: Identify Relevant KPIs for Sales Data\n",
    "\n",
    "import pandas as pd\n",
    "import numpy as np\n",
    "import datetime as dt\n",
    "\n",
    "# Sample Sales Dataset\n",
    "data = {\n",
    "    'Order_ID': [101, 102, 103, 104, 104],\n",
    "    'Customer_Name': ['Alice', 'Bob', 'Charlie', None, 'Eve'],\n",
    "    'Order_Date': ['2023-01-10', '2023-01-15', '2023-01-20', '2023-01-25', None],\n",
    "    'Amount': [250, 300, 400, None, 200]\n",
    "}\n",
    "\n",
    "df = pd.DataFrame(data)\n",
    "df['Order_Date'] = pd.to_datetime(df['Order_Date'], errors='coerce')\n",
    "\n",
    "# KPI 1: Completeness (Percentage of non-null values)\n",
    "def kpi_completeness(df):\n",
    "    return (df.notnull().sum() / len(df) * 100).round(2)\n",
    "\n",
    "# KPI 2: Accuracy (simulate with known valid order IDs)\n",
    "def kpi_accuracy(df, column, reference_list):\n",
    "    valid = df[column].isin(reference_list).sum()\n",
    "    total = df[column].notnull().sum()\n",
    "    return round(100 * valid / total, 2) if total > 0 else 0\n",
    "\n",
    "# KPI 3: Timeliness (e.g., how recent the last order is)\n",
    "def kpi_timeliness(df, date_column):\n",
    "    today = pd.Timestamp.today()\n",
    "    most_recent = df[date_column].max()\n",
    "    days_diff = (today - most_recent).days if pd.notnull(most_recent) else np.nan\n",
    "    return f\"{days_diff} days since last entry\"\n",
    "\n",
    "# Display KPI Results\n",
    "print(\"=== Data Quality KPIs for Sales Dataset ===\")\n",
    "print(\"\\nKPI 1 - Completeness (%):\")\n",
    "print(kpi_completeness(df))\n",
    "\n",
    "print(f\"\\nKPI 2 - Accuracy of 'Order_ID': {kpi_accuracy(df, 'Order_ID', [101, 102, 103, 104])}%\")\n",
    "\n",
    "print(f\"\\nKPI 3 - Timeliness of 'Order_Date': {kpi_timeliness(df, 'Order_Date')}\")\n"
   ]
  },
  {
   "cell_type": "markdown",
   "metadata": {},
   "source": [
    "**Task 2**: Develop a KPI Dashboard\n",
    "\n",
    "**Objective**: Visualize your KPIs for better monitoring.\n",
    "\n",
    "**Steps**:\n",
    "1. Use a tool like Excel or a BI tool (e.g., Tableau, Power BI) to create a simple dashboard.\n",
    "2. Input sample data and visualize your chosen KPIs, showing how they would be monitored.\n",
    "3. Share your dashboard with peers and gather feedback on KPI relevance and clarity."
   ]
  },
  {
   "cell_type": "code",
   "execution_count": 3,
   "metadata": {},
   "outputs": [
    {
     "data": {
      "text/html": [
       "\n",
       "        <iframe\n",
       "            width=\"100%\"\n",
       "            height=\"650\"\n",
       "            src=\"http://127.0.0.1:8050/\"\n",
       "            frameborder=\"0\"\n",
       "            allowfullscreen\n",
       "            \n",
       "        ></iframe>\n",
       "        "
      ],
      "text/plain": [
       "<IPython.lib.display.IFrame at 0x7d852ee41bd0>"
      ]
     },
     "metadata": {},
     "output_type": "display_data"
    }
   ],
   "source": [
    "import pandas as pd\n",
    "import dash\n",
    "from dash import html, dcc\n",
    "import plotly.graph_objs as go\n",
    "\n",
    "# Sample sales data\n",
    "data = {\n",
    "    'CustomerID': [1, 2, 3, 4, None],\n",
    "    'Email': ['john@example.com', 'bob@example.com', None, 'alice@example.com', 'eve@example.com'],\n",
    "    'PurchaseDate': ['2023-04-01', '2023-04-02', '2023-01-15', '2023-03-28', None],\n",
    "    'Amount': [100, 200, None, 300, 150]\n",
    "}\n",
    "\n",
    "df = pd.DataFrame(data)\n",
    "\n",
    "# Calculate KPI metrics\n",
    "def calculate_accuracy(df, column, valid_values):\n",
    "    correct = df[column].isin(valid_values).sum()\n",
    "    total = df[column].notna().sum()\n",
    "    return (correct / total) * 100 if total > 0 else 0\n",
    "\n",
    "def calculate_completeness(df, column):\n",
    "    filled = df[column].notna().sum()\n",
    "    total = len(df[column])\n",
    "    return (filled / total) * 100 if total > 0 else 0\n",
    "\n",
    "def calculate_timeliness(df, date_column, cutoff_date):\n",
    "    df[date_column] = pd.to_datetime(df[date_column], errors='coerce')\n",
    "    recent = df[date_column] >= pd.to_datetime(cutoff_date)\n",
    "    timely = recent.sum()\n",
    "    total = df[date_column].notna().sum()\n",
    "    return (timely / total) * 100 if total > 0 else 0\n",
    "\n",
    "# KPI Calculations\n",
    "accuracy_email = calculate_accuracy(df, 'Email', [\n",
    "    'john@example.com', 'bob@example.com', 'alice@example.com', 'david@example.com', 'eve@example.com'\n",
    "])\n",
    "completeness_customer = calculate_completeness(df, 'CustomerID')\n",
    "timeliness_purchase = calculate_timeliness(df, 'PurchaseDate', '2023-03-01')\n",
    "\n",
    "# Create Dash app\n",
    "app = dash.Dash(__name__)\n",
    "\n",
    "app.layout = html.Div([\n",
    "    html.H1(\"Sales Data Quality KPI Dashboard\", style={'textAlign': 'center'}),\n",
    "\n",
    "    html.Div([\n",
    "        dcc.Graph(\n",
    "            figure=go.Figure(go.Indicator(\n",
    "                mode=\"gauge+number\",\n",
    "                value=accuracy_email,\n",
    "                title={'text': \"Email Accuracy (%)\"},\n",
    "                gauge={'axis': {'range': [0, 100]}}\n",
    "            ))\n",
    "        ),\n",
    "        dcc.Graph(\n",
    "            figure=go.Figure(go.Indicator(\n",
    "                mode=\"gauge+number\",\n",
    "                value=completeness_customer,\n",
    "                title={'text': \"Customer ID Completeness (%)\"},\n",
    "                gauge={'axis': {'range': [0, 100]}}\n",
    "            ))\n",
    "        ),\n",
    "        dcc.Graph(\n",
    "            figure=go.Figure(go.Indicator(\n",
    "                mode=\"gauge+number\",\n",
    "                value=timeliness_purchase,\n",
    "                title={'text': \"Purchase Date Timeliness (%)\"},\n",
    "                gauge={'axis': {'range': [0, 100]}}\n",
    "            ))\n",
    "        )\n",
    "    ], style={'display': 'flex', 'justifyContent': 'space-around'})\n",
    "])\n",
    "\n",
    "if __name__ == '__main__':\n",
    "    app.run(debug=True)\n"
   ]
  },
  {
   "cell_type": "code",
   "execution_count": null,
   "metadata": {},
   "outputs": [],
   "source": []
  }
 ],
 "metadata": {
  "kernelspec": {
   "display_name": "Python 3",
   "language": "python",
   "name": "python3"
  },
  "language_info": {
   "codemirror_mode": {
    "name": "ipython",
    "version": 3
   },
   "file_extension": ".py",
   "mimetype": "text/x-python",
   "name": "python",
   "nbconvert_exporter": "python",
   "pygments_lexer": "ipython3",
   "version": "3.10.12"
  }
 },
 "nbformat": 4,
 "nbformat_minor": 2
}
