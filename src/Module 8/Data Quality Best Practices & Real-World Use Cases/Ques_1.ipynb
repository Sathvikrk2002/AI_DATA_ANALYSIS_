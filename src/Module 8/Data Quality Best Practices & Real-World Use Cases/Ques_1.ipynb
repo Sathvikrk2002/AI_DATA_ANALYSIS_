{
 "cells": [
  {
   "cell_type": "markdown",
   "metadata": {},
   "source": [
    "### Define Data Quality KPIs\n",
    "\n",
    "**Task 1**: Identify Relevant KPIs\n",
    "\n",
    "**Objective**: Develop KPIs that align with organizational goals.\n",
    "\n",
    "**Steps**:\n",
    "1. Choose a dataset from a domain of your interest (e.g., sales data, healthcare records, or transaction logs).\n",
    "2. Identify three KPIs that would be crucial for assessing the data quality in your chosen dataset. Consider accuracy, completeness, and timeliness.\n",
    "3. Document why each KPI is important for maintaining high-quality data in your given context."
   ]
  },
  {
   "cell_type": "code",
   "execution_count": 1,
   "metadata": {},
   "outputs": [
    {
     "name": "stdout",
     "output_type": "stream",
     "text": [
      "=== Data Quality KPIs for Sales Dataset ===\n",
      "\n",
      "KPI 1 - Completeness (%):\n",
      "Order_ID         100.0\n",
      "Customer_Name     80.0\n",
      "Order_Date        80.0\n",
      "Amount            80.0\n",
      "dtype: float64\n",
      "\n",
      "KPI 2 - Accuracy of 'Order_ID': 100.0%\n",
      "\n",
      "KPI 3 - Timeliness of 'Order_Date': 850 days since last entry\n"
     ]
    }
   ],
   "source": [
    "# Task 1: Identify Relevant KPIs for Sales Data\n",
    "\n",
    "import pandas as pd\n",
    "import numpy as np\n",
    "import datetime as dt\n",
    "\n",
    "# Sample Sales Dataset\n",
    "data = {\n",
    "    'Order_ID': [101, 102, 103, 104, 104],\n",
    "    'Customer_Name': ['Alice', 'Bob', 'Charlie', None, 'Eve'],\n",
    "    'Order_Date': ['2023-01-10', '2023-01-15', '2023-01-20', '2023-01-25', None],\n",
    "    'Amount': [250, 300, 400, None, 200]\n",
    "}\n",
    "\n",
    "df = pd.DataFrame(data)\n",
    "df['Order_Date'] = pd.to_datetime(df['Order_Date'], errors='coerce')\n",
    "\n",
    "# KPI 1: Completeness (Percentage of non-null values)\n",
    "def kpi_completeness(df):\n",
    "    return (df.notnull().sum() / len(df) * 100).round(2)\n",
    "\n",
    "# KPI 2: Accuracy (simulate with known valid order IDs)\n",
    "def kpi_accuracy(df, column, reference_list):\n",
    "    valid = df[column].isin(reference_list).sum()\n",
    "    total = df[column].notnull().sum()\n",
    "    return round(100 * valid / total, 2) if total > 0 else 0\n",
    "\n",
    "# KPI 3: Timeliness (e.g., how recent the last order is)\n",
    "def kpi_timeliness(df, date_column):\n",
    "    today = pd.Timestamp.today()\n",
    "    most_recent = df[date_column].max()\n",
    "    days_diff = (today - most_recent).days if pd.notnull(most_recent) else np.nan\n",
    "    return f\"{days_diff} days since last entry\"\n",
    "\n",
    "# Display KPI Results\n",
    "print(\"=== Data Quality KPIs for Sales Dataset ===\")\n",
    "print(\"\\nKPI 1 - Completeness (%):\")\n",
    "print(kpi_completeness(df))\n",
    "\n",
    "print(f\"\\nKPI 2 - Accuracy of 'Order_ID': {kpi_accuracy(df, 'Order_ID', [101, 102, 103, 104])}%\")\n",
    "\n",
    "print(f\"\\nKPI 3 - Timeliness of 'Order_Date': {kpi_timeliness(df, 'Order_Date')}\")\n"
   ]
  },
  {
   "cell_type": "markdown",
   "metadata": {},
   "source": [
    "**Task 2**: Develop a KPI Dashboard\n",
    "\n",
    "**Objective**: Visualize your KPIs for better monitoring.\n",
    "\n",
    "**Steps**:\n",
    "1. Use a tool like Excel or a BI tool (e.g., Tableau, Power BI) to create a simple dashboard.\n",
    "2. Input sample data and visualize your chosen KPIs, showing how they would be monitored.\n",
    "3. Share your dashboard with peers and gather feedback on KPI relevance and clarity."
   ]
  },
  {
   "cell_type": "code",
   "execution_count": 2,
   "metadata": {},
   "outputs": [],
   "source": [
    "import pandas as pd\n",
    "from datetime import datetime\n",
    "from jupyter_dash import JupyterDash\n",
    "from dash import dcc, html\n",
    "import plotly.express as px\n",
    "\n",
    "# Sample Data\n",
    "data = {\n",
    "    'CustomerID': [1, 2, 3, 4, None],\n",
    "    'Email': ['john@example.com', 'bob@example.com', '', 'alice@example.com', 'eve@example.com'],\n",
    "    'PurchaseDate': ['2023-04-01', '2023-04-02', '2023-01-15', '2023-03-28', None],\n",
    "    'Amount': [100, 200, None, 300, 150]\n",
    "}\n",
    "df = pd.DataFrame(data)\n",
    "\n",
    "# Convert PurchaseDate to datetime\n",
    "df['PurchaseDate'] = pd.to_datetime(df['PurchaseDate'], errors='coerce')\n",
    "\n",
    "# -------------------------\n",
    "# KPI 1: Email Accuracy\n",
    "valid_emails = ['john@example.com', 'bob@example.com', 'alice@example.com', 'eve@example.com']\n",
    "df['Email_Valid'] = df['Email'].isin(valid_emails)\n",
    "kpi_email_accuracy = df['Email_Valid'].mean() * 100\n",
    "\n",
    "# -------------------------\n",
    "# KPI 2: CustomerID Completeness\n",
    "kpi_custid_completeness = df['CustomerID'].notna().mean() * 100\n",
    "\n",
    "# -------------------------\n",
    "# KPI 3: Purchase Timeliness (after March 1, 2023)\n",
    "threshold_date = datetime(2023, 3, 1)\n",
    "df['Timely'] = df['PurchaseDate'] >= threshold_date\n",
    "kpi_timeliness = df['Timely'].mean() * 100\n",
    "\n",
    "# -----------\n"
   ]
  }
 ],
 "metadata": {
  "kernelspec": {
   "display_name": "Python 3",
   "language": "python",
   "name": "python3"
  },
  "language_info": {
   "codemirror_mode": {
    "name": "ipython",
    "version": 3
   },
   "file_extension": ".py",
   "mimetype": "text/x-python",
   "name": "python",
   "nbconvert_exporter": "python",
   "pygments_lexer": "ipython3",
   "version": "3.10.12"
  }
 },
 "nbformat": 4,
 "nbformat_minor": 2
}
