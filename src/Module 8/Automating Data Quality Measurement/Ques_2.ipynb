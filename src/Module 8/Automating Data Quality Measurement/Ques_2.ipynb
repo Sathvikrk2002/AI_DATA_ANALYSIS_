{
 "cells": [
  {
   "cell_type": "markdown",
   "metadata": {},
   "source": [
    "### Task 1: Validate Data with a Custom Expectation in Great Expectations\n",
    "**Description**: Create a custom expectation and validate data with Great Expectations.\n",
    "\n",
    "**Load a sample DataFrame**\n",
    "\n",
    "data = {\n",
    "'age': [25, 30, 35, 40, 45],\n",
    "'income': [50000, 60000, 75000, None, 100000]\n",
    "}"
   ]
  },
  {
   "cell_type": "code",
   "execution_count": 4,
   "metadata": {},
   "outputs": [
    {
     "ename": "ModuleNotFoundError",
     "evalue": "No module named 'great_expectations.core.expectation_configuration'",
     "output_type": "error",
     "traceback": [
      "\u001b[0;31m---------------------------------------------------------------------------\u001b[0m",
      "\u001b[0;31mModuleNotFoundError\u001b[0m                       Traceback (most recent call last)",
      "Cell \u001b[0;32mIn[4], line 5\u001b[0m\n\u001b[1;32m      3\u001b[0m \u001b[38;5;28;01mfrom\u001b[39;00m\u001b[38;5;250m \u001b[39m\u001b[38;5;21;01mgreat_expectations\u001b[39;00m\u001b[38;5;21;01m.\u001b[39;00m\u001b[38;5;21;01mexecution_engine\u001b[39;00m\u001b[38;5;250m \u001b[39m\u001b[38;5;28;01mimport\u001b[39;00m PandasExecutionEngine\n\u001b[1;32m      4\u001b[0m \u001b[38;5;28;01mfrom\u001b[39;00m\u001b[38;5;250m \u001b[39m\u001b[38;5;21;01mgreat_expectations\u001b[39;00m\u001b[38;5;21;01m.\u001b[39;00m\u001b[38;5;21;01mexpectations\u001b[39;00m\u001b[38;5;21;01m.\u001b[39;00m\u001b[38;5;21;01mexpectation\u001b[39;00m\u001b[38;5;250m \u001b[39m\u001b[38;5;28;01mimport\u001b[39;00m Expectation\n\u001b[0;32m----> 5\u001b[0m \u001b[38;5;28;01mfrom\u001b[39;00m\u001b[38;5;250m \u001b[39m\u001b[38;5;21;01mgreat_expectations\u001b[39;00m\u001b[38;5;21;01m.\u001b[39;00m\u001b[38;5;21;01mcore\u001b[39;00m\u001b[38;5;21;01m.\u001b[39;00m\u001b[38;5;21;01mexpectation_configuration\u001b[39;00m\u001b[38;5;250m \u001b[39m\u001b[38;5;28;01mimport\u001b[39;00m ExpectationConfiguration\n\u001b[1;32m      7\u001b[0m \u001b[38;5;66;03m# Sample data\u001b[39;00m\n\u001b[1;32m      8\u001b[0m data \u001b[38;5;241m=\u001b[39m {\n\u001b[1;32m      9\u001b[0m     \u001b[38;5;124m'\u001b[39m\u001b[38;5;124mage\u001b[39m\u001b[38;5;124m'\u001b[39m: [\u001b[38;5;241m25\u001b[39m, \u001b[38;5;241m30\u001b[39m, \u001b[38;5;241m35\u001b[39m, \u001b[38;5;241m40\u001b[39m, \u001b[38;5;241m45\u001b[39m],\n\u001b[1;32m     10\u001b[0m     \u001b[38;5;124m'\u001b[39m\u001b[38;5;124mincome\u001b[39m\u001b[38;5;124m'\u001b[39m: [\u001b[38;5;241m50000\u001b[39m, \u001b[38;5;241m60000\u001b[39m, \u001b[38;5;241m75000\u001b[39m, \u001b[38;5;28;01mNone\u001b[39;00m, \u001b[38;5;241m100000\u001b[39m]\n\u001b[1;32m     11\u001b[0m }\n",
      "\u001b[0;31mModuleNotFoundError\u001b[0m: No module named 'great_expectations.core.expectation_configuration'"
     ]
    }
   ],
   "source": [
    "import pandas as pd\n",
    "from great_expectations.validator.validator import Validator\n",
    "from great_expectations.execution_engine import PandasExecutionEngine\n",
    "from great_expectations.expectations.expectation import Expectation\n",
    "from great_expectations.core.expectation_configuration import ExpectationConfiguration\n",
    "\n",
    "# Sample data\n",
    "data = {\n",
    "    'age': [25, 30, 35, 40, 45],\n",
    "    'income': [50000, 60000, 75000, None, 100000]\n",
    "}\n",
    "df = pd.DataFrame(data)\n",
    "\n",
    "# Wrap DataFrame in Validator\n",
    "engine = PandasExecutionEngine()\n",
    "validator = Validator(execution_engine=engine, batches=[{\"data\": df}])\n",
    "\n",
    "# Define Custom Expectation\n",
    "class ExpectIncomeToBeAboveThreshold(Expectation):\n",
    "    success_keys = (\"threshold\",)\n",
    "\n",
    "    def validate_configuration(self, configuration):\n",
    "        super().validate_configuration(configuration)\n",
    "        if \"threshold\" not in configuration.kwargs:\n",
    "            raise ValueError(\"You must provide a 'threshold' in kwargs\")\n",
    "\n",
    "    def _validate(self, configuration, metrics, runtime_configuration=None, execution_engine=None):\n",
    "        threshold = configuration.kwargs.get(\"threshold\")\n",
    "        column = runtime_configuration.get(\"column\")\n",
    "        if column is None:\n",
    "            raise ValueError(\"You must specify 'column' in runtime_configuration\")\n",
    "\n",
    "        # Boolean mask for values > threshold (ignore None)\n",
    "        success_mask = column.dropna() > threshold\n",
    "        success_ratio = success_mask.mean()\n",
    "        success = success_ratio == 1.0  # all non-null must be above threshold\n",
    "\n",
    "        # Find indices where values fail the test (<= threshold)\n",
    "        failed_indices = success_mask[~success_mask].index.tolist()\n",
    "\n",
    "        return {\n",
    "            \"success\": success,\n",
    "            \"result\": {\n",
    "                \"observed_value\": success_ratio,\n",
    "                \"unexpected_index_list\": failed_indices,\n",
    "            },\n",
    "        }\n",
    "\n",
    "# Add expectation to the validator's expectations (optional but good practice)\n",
    "validator.expectations.add_expectation(\n",
    "    ExpectIncomeToBeAboveThreshold(\n",
    "        configuration=ExpectationConfiguration(\n",
    "            expectation_type=\"ExpectIncomeToBeAboveThreshold\",\n",
    "            kwargs={\"threshold\": 40000}\n",
    "        )\n",
    "    )\n",
    ")\n",
    "\n",
    "# Run the expectation\n",
    "result = validator.run_expectation(\n",
    "    ExpectationConfiguration(\n",
    "        expectation_type=\"ExpectIncomeToBeAboveThreshold\",\n",
    "        kwargs={\"threshold\": 40000, \"column\": df[\"income\"]}\n",
    "    )\n",
    ")\n",
    "\n",
    "print(result)\n"
   ]
  },
  {
   "cell_type": "markdown",
   "metadata": {},
   "source": [
    "### Task 2: Implement a Basic Alert System for Data Quality Drops\n",
    "**Description**: Set up a basic alert system that triggers when data quality drops."
   ]
  },
  {
   "cell_type": "code",
   "execution_count": null,
   "metadata": {},
   "outputs": [],
   "source": [
    "# Write your code from here"
   ]
  },
  {
   "cell_type": "markdown",
   "metadata": {},
   "source": [
    "### Task 3: Real-time Data Quality Monitoring with Python and Great Expectations\n",
    "**Description**: Implement a system that monitors data quality in real-time."
   ]
  },
  {
   "cell_type": "code",
   "execution_count": null,
   "metadata": {},
   "outputs": [],
   "source": [
    "# Write your code from here"
   ]
  }
 ],
 "metadata": {
  "kernelspec": {
   "display_name": "Python 3",
   "language": "python",
   "name": "python3"
  },
  "language_info": {
   "codemirror_mode": {
    "name": "ipython",
    "version": 3
   },
   "file_extension": ".py",
   "mimetype": "text/x-python",
   "name": "python",
   "nbconvert_exporter": "python",
   "pygments_lexer": "ipython3",
   "version": "3.10.12"
  }
 },
 "nbformat": 4,
 "nbformat_minor": 2
}
