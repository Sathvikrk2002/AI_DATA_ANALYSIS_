{
 "cells": [
  {
   "cell_type": "markdown",
   "metadata": {},
   "source": [
    "## Using AI for Anomalies Detection in Data Quality\n",
    "**Description**: Implement an AI-based approach to detect anomalies in data quality.\n",
    "\n",
    "**Steps**:\n",
    "1. Use an Anomaly Detection Algorithm:\n",
    "    - Use sklearn's Isolation Forest for anomaly detection.\n",
    "\n",
    "**Example data:**\n",
    "\n",
    "data = np.array([[25, 50000], [30, 60000], [35, 75000], [40, None], [45, 100000]])\n",
    "\n",
    "2. Integrate with Great Expectations:\n",
    "    - Generate alerts if anomalies are detected:"
   ]
  },
  {
   "cell_type": "code",
   "execution_count": 4,
   "metadata": {},
   "outputs": [
    {
     "ename": "ImportError",
     "evalue": "cannot import name 'BaseDataContext' from 'great_expectations.data_context' (/home/vscode/.local/lib/python3.10/site-packages/great_expectations/data_context/__init__.py)",
     "output_type": "error",
     "traceback": [
      "\u001b[0;31m---------------------------------------------------------------------------\u001b[0m",
      "\u001b[0;31mImportError\u001b[0m                               Traceback (most recent call last)",
      "Cell \u001b[0;32mIn[4], line 7\u001b[0m\n\u001b[1;32m      5\u001b[0m \u001b[38;5;28;01mimport\u001b[39;00m\u001b[38;5;250m \u001b[39m\u001b[38;5;21;01mgreat_expectations\u001b[39;00m\u001b[38;5;250m \u001b[39m\u001b[38;5;28;01mas\u001b[39;00m\u001b[38;5;250m \u001b[39m\u001b[38;5;21;01mge\u001b[39;00m\n\u001b[1;32m      6\u001b[0m \u001b[38;5;28;01mfrom\u001b[39;00m\u001b[38;5;250m \u001b[39m\u001b[38;5;21;01mgreat_expectations\u001b[39;00m\u001b[38;5;21;01m.\u001b[39;00m\u001b[38;5;21;01mcore\u001b[39;00m\u001b[38;5;21;01m.\u001b[39;00m\u001b[38;5;21;01mbatch\u001b[39;00m\u001b[38;5;250m \u001b[39m\u001b[38;5;28;01mimport\u001b[39;00m Batch\n\u001b[0;32m----> 7\u001b[0m \u001b[38;5;28;01mfrom\u001b[39;00m\u001b[38;5;250m \u001b[39m\u001b[38;5;21;01mgreat_expectations\u001b[39;00m\u001b[38;5;21;01m.\u001b[39;00m\u001b[38;5;21;01mdata_context\u001b[39;00m\u001b[38;5;250m \u001b[39m\u001b[38;5;28;01mimport\u001b[39;00m BaseDataContext\n\u001b[1;32m      8\u001b[0m \u001b[38;5;28;01mfrom\u001b[39;00m\u001b[38;5;250m \u001b[39m\u001b[38;5;21;01mgreat_expectations\u001b[39;00m\u001b[38;5;21;01m.\u001b[39;00m\u001b[38;5;21;01mvalidator\u001b[39;00m\u001b[38;5;21;01m.\u001b[39;00m\u001b[38;5;21;01mvalidator\u001b[39;00m\u001b[38;5;250m \u001b[39m\u001b[38;5;28;01mimport\u001b[39;00m Validator\n\u001b[1;32m      9\u001b[0m \u001b[38;5;28;01mfrom\u001b[39;00m\u001b[38;5;250m \u001b[39m\u001b[38;5;21;01mgreat_expectations\u001b[39;00m\u001b[38;5;21;01m.\u001b[39;00m\u001b[38;5;21;01mexecution_engine\u001b[39;00m\u001b[38;5;250m \u001b[39m\u001b[38;5;28;01mimport\u001b[39;00m PandasExecutionEngine\n",
      "\u001b[0;31mImportError\u001b[0m: cannot import name 'BaseDataContext' from 'great_expectations.data_context' (/home/vscode/.local/lib/python3.10/site-packages/great_expectations/data_context/__init__.py)"
     ]
    }
   ],
   "source": [
    "import pandas as pd\n",
    "import numpy as np\n",
    "from sklearn.ensemble import IsolationForest\n",
    "\n",
    "import great_expectations as ge\n",
    "from great_expectations.core.batch import Batch\n",
    "from great_expectations.data_context import BaseDataContext\n",
    "from great_expectations.validator.validator import Validator\n",
    "from great_expectations.execution_engine import PandasExecutionEngine\n",
    "\n",
    "# 1. Create your dataframe\n",
    "data = np.array([\n",
    "    [25, 50000],\n",
    "    [30, 60000],\n",
    "    [35, 75000],\n",
    "    [40, np.nan],\n",
    "    [45, 100000]\n",
    "])\n",
    "df = pd.DataFrame(data, columns=['age', 'income'])\n",
    "\n",
    "# 2. Fill missing values before anomaly detection\n",
    "df_filled = df.fillna(df.median())\n",
    "\n",
    "# 3. Fit Isolation Forest to detect anomalies\n",
    "iso_forest = IsolationForest(contamination=0.2, random_state=42)\n",
    "iso_forest.fit(df_filled)\n",
    "df['anomaly'] = iso_forest.predict(df_filled)  # -1: anomaly, 1: normal\n",
    "\n",
    "print(\"Anomalies detected:\")\n",
    "print(df[['age', 'income', 'anomaly']])\n",
    "\n",
    "# 4. Create a Batch object with your DataFrame for validation\n",
    "batch = Batch(data=df)\n",
    "\n",
    "# 5. Setup GE validator with PandasExecutionEngine and batch list\n",
    "execution_engine = PandasExecutionEngine()\n",
    "validator = Validator(\n",
    "    execution_engine=execution_engine,\n",
    "    batches=[batch]\n",
    ")\n",
    "\n",
    "# 6. Define expectation: anomaly column values should NOT be in set [-1] mostly 0.6 (allow some anomalies)\n",
    "expectation_result = validator.expect_column_values_to_not_be_in_set(\n",
    "    column='anomaly',\n",
    "    value_set=[-1],\n",
    "    mostly=0.6\n",
    ")\n",
    "\n",
    "print(\"\\nGreat Expectations Validation Result:\")\n",
    "print(expectation_result)\n",
    "\n",
    "if expectation_result.success:\n",
    "    print(\"Data quality check passed: anomalies within acceptable limits.\")\n",
    "else:\n",
    "    print(\"Alert: Too many anomalies detected!\")\n"
   ]
  }
 ],
 "metadata": {
  "kernelspec": {
   "display_name": "Python 3",
   "language": "python",
   "name": "python3"
  },
  "language_info": {
   "codemirror_mode": {
    "name": "ipython",
    "version": 3
   },
   "file_extension": ".py",
   "mimetype": "text/x-python",
   "name": "python",
   "nbconvert_exporter": "python",
   "pygments_lexer": "ipython3",
   "version": "3.10.12"
  }
 },
 "nbformat": 4,
 "nbformat_minor": 2
}
