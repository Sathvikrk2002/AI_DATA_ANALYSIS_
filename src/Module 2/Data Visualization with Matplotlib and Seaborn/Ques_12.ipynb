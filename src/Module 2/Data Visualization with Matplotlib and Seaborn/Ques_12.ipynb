{
 "cells": [
  {
   "cell_type": "code",
   "execution_count": null,
   "metadata": {},
   "outputs": [],
   "source": [
    "# Advanced Seaborn Plot - Pairplot\n",
    "# Objective: Use Seaborn to create a pairplot to visualize pairwise relationships in a dataset.\n",
    "#\n",
    "import seaborn as sns\n",
    "import matplotlib.pyplot as plt\n",
    "\n",
    "# Load the iris dataset from Seaborn's sample datasets\n",
    "iris = sns.load_dataset('iris')\n",
    "\n",
    "# Create a pairplot to visualize pairwise relationships in the iris dataset\n",
    "sns.pairplot(iris, hue='species', palette='Set1', markers=['o', 's', 'D'])\n",
    "\n",
    "# Add title to the plot\n",
    "plt.suptitle(\"Pairplot of Iris Dataset - Pairwise Relationships\", fontsize=16, y=1.02)\n",
    "\n",
    "# Display the plot\n",
    "plt.tight_layout()\n",
    "plt.show()\n"
   ]
  }
 ],
 "metadata": {
  "language_info": {
   "name": "python"
  }
 },
 "nbformat": 4,
 "nbformat_minor": 2
}
