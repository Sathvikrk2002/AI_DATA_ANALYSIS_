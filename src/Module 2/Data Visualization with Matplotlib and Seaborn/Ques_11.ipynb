{
 "cells": [
  {
   "cell_type": "code",
   "execution_count": null,
   "metadata": {},
   "outputs": [],
   "source": [
    "# Scatter Plot of Variable Relationships\n",
    "# Description: Use Seaborn to create a scatter plot showing the relationship between two\n",
    "# variables.\n",
    "# Scatter Plot of Variable Relationships\n",
    "# Description: Use Seaborn to create a scatter plot showing the relationship between two\n",
    "# variables.\n",
    "#\n",
    "import seaborn as sns\n",
    "import matplotlib.pyplot as plt\n",
    "\n",
    "# Load the tips dataset from Seaborn's sample datasets\n",
    "tips = sns.load_dataset('tips')\n",
    "\n",
    "# Create a scatter plot to visualize total bill vs. tip\n",
    "plt.figure(figsize=(8, 5))\n",
    "sns.scatterplot(data=tips, x='total_bill', y='tip', color='orange', s=100)\n",
    "\n",
    "# Add title and labels\n",
    "plt.title(\"Scatter Plot of Total Bill vs Tip\", fontsize=16)\n",
    "plt.xlabel(\"Total Bill ($)\", fontsize=12)\n",
    "plt.ylabel(\"Tip ($)\", fontsize=12)\n",
    "\n",
    "# Display the plot\n",
    "plt.tight_layout()\n",
    "plt.show()\n"
   ]
  }
 ],
 "metadata": {
  "language_info": {
   "name": "python"
  }
 },
 "nbformat": 4,
 "nbformat_minor": 2
}
