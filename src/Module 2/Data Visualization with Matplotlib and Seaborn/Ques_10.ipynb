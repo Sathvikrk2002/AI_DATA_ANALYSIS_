{
 "cells": [
  {
   "cell_type": "code",
   "execution_count": null,
   "metadata": {},
   "outputs": [],
   "source": [
    "# Advanced Seaborn Plot with DataFrame\n",
    "# Description: Create a Seaborn plot using a DataFrame that visualizes two features in a single plot. Use tips\n",
    "# dataset available in Seaborn's sample datasets.\n",
    "#\n",
    "import seaborn as sns\n",
    "import matplotlib.pyplot as plt\n",
    "\n",
    "# Load the tips dataset from Seaborn's sample datasets\n",
    "tips = sns.load_dataset('tips')\n",
    "\n",
    "# Create a scatter plot to visualize total bill vs. tip\n",
    "plt.figure(figsize=(8, 5))\n",
    "sns.scatterplot(data=tips, x='total_bill', y='tip', hue='sex', style='time', palette='deep', s=100)\n",
    "\n",
    "# Add title and labels\n",
    "plt.title(\"Total Bill vs Tip (Colored by Gender and Time of Day)\", fontsize=16)\n",
    "plt.xlabel(\"Total Bill ($)\", fontsize=12)\n",
    "plt.ylabel(\"Tip ($)\", fontsize=12)\n",
    "\n",
    "# Display the plot\n",
    "plt.tight_layout()\n",
    "plt.show()\n"
   ]
  }
 ],
 "metadata": {
  "language_info": {
   "name": "python"
  }
 },
 "nbformat": 4,
 "nbformat_minor": 2
}
