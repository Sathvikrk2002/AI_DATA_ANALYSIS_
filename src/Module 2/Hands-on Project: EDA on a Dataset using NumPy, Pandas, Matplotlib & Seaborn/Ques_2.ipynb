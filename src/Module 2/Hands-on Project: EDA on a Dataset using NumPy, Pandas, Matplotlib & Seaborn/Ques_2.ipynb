{
 "cells": [
  {
   "cell_type": "code",
   "execution_count": 1,
   "metadata": {},
   "outputs": [
    {
     "name": "stdout",
     "output_type": "stream",
     "text": [
      "Mean of the dataset: 20.857142857142858\n",
      "Maximum value: 42\n",
      "Minimum value: 7\n",
      "Sum of all values: 146\n",
      "Standard Deviation: 10.894671979964354\n"
     ]
    }
   ],
   "source": [
    "# Title: Basic NumPy Operations\n",
    "# Description: Perform basic operations such as calculating the mean of the dataset.\n",
    "# Title: Basic NumPy Operations\n",
    "# Description: Perform basic operations such as calculating the mean of the dataset.\n",
    "\n",
    "import numpy as np\n",
    "\n",
    "# Example dataset\n",
    "data = np.array([12, 15, 23, 42, 7, 18, 29])\n",
    "\n",
    "# Calculate mean\n",
    "mean_value = np.mean(data)\n",
    "print(f\"Mean of the dataset: {mean_value}\")\n",
    "\n",
    "# Additional basic operations\n",
    "max_value = np.max(data)\n",
    "min_value = np.min(data)\n",
    "sum_value = np.sum(data)\n",
    "std_deviation = np.std(data)\n",
    "\n",
    "print(f\"Maximum value: {max_value}\")\n",
    "print(f\"Minimum value: {min_value}\")\n",
    "print(f\"Sum of all values: {sum_value}\")\n",
    "print(f\"Standard Deviation: {std_deviation}\")\n"
   ]
  }
 ],
 "metadata": {
  "kernelspec": {
   "display_name": "Python 3",
   "language": "python",
   "name": "python3"
  },
  "language_info": {
   "codemirror_mode": {
    "name": "ipython",
    "version": 3
   },
   "file_extension": ".py",
   "mimetype": "text/x-python",
   "name": "python",
   "nbconvert_exporter": "python",
   "pygments_lexer": "ipython3",
   "version": "3.10.12"
  }
 },
 "nbformat": 4,
 "nbformat_minor": 2
}
