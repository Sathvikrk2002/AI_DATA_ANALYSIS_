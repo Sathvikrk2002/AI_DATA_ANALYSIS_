{
 "cells": [
  {
   "cell_type": "code",
   "execution_count": null,
   "metadata": {},
   "outputs": [
    {
     "name": "stdout",
     "output_type": "stream",
     "text": [
      "   sepal_length  sepal_width  petal_length  petal_width  \\\n",
      "0           5.1          3.5           1.4          0.2   \n",
      "1           4.9          3.0           1.4          0.2   \n",
      "2           4.7          3.2           1.3          0.2   \n",
      "3           4.6          3.1           1.5          0.2   \n",
      "4           5.0          3.6           1.4          0.2   \n",
      "\n",
      "   petal_length_to_width_ratio  \n",
      "0                          7.0  \n",
      "1                          7.0  \n",
      "2                          6.5  \n",
      "3                          7.5  \n",
      "4                          7.0  \n"
     ]
    }
   ],
   "source": [
    "# Title: Data Manipulation with Pandas\n",
    "# Description: Add a new column that calculates the ratio of petal length to petal width.\n",
    "#\n",
    "import pandas as pd\n",
    "from sklearn.datasets import load_iris\n",
    "\n",
    "# Load the Iris dataset\n",
    "iris = load_iris()\n",
    "df = pd.DataFrame(data=iris.data, columns=iris.feature_names)\n",
    "\n",
    "# Rename columns for easier access\n",
    "df.columns = [col.replace(' (cm)', '').replace(' ', '_') for col in df.columns]\n",
    "\n",
    "# Add a new column: petal_length_to_width_ratio\n",
    "df['petal_length_to_width_ratio'] = df['petal_length'] / df['petal_width']\n",
    "\n",
    "# Display the first few rows\n",
    "print(df.head())\n"
   ]
  }
 ],
 "metadata": {
  "kernelspec": {
   "display_name": "Python 3",
   "language": "python",
   "name": "python3"
  },
  "language_info": {
   "codemirror_mode": {
    "name": "ipython",
    "version": 3
   },
   "file_extension": ".py",
   "mimetype": "text/x-python",
   "name": "python",
   "nbconvert_exporter": "python",
   "pygments_lexer": "ipython3",
   "version": "3.10.12"
  }
 },
 "nbformat": 4,
 "nbformat_minor": 2
}
