{
 "cells": [
  {
   "cell_type": "markdown",
   "metadata": {},
   "source": [
    "### Using NLP for Text Data Quality\n",
    "**Objective**: Enhance text data quality using NLP techniques.\n",
    "\n",
    "**Task**: Spelling Corrections\n",
    "\n",
    "**Steps**:\n",
    "1. Data Set: Import a dataset containing text reviews with spelling errors.\n",
    "2. Apply Corrections: Use a spell-checker from an NLP library to correct spelling mistakes.\n",
    "3. Verify Improvements: Review the corrections to ensure data quality improvement."
   ]
  },
  {
   "cell_type": "code",
   "execution_count": 2,
   "metadata": {},
   "outputs": [
    {
     "ename": "ModuleNotFoundError",
     "evalue": "No module named 'textblob'",
     "output_type": "error",
     "traceback": [
      "\u001b[0;31m---------------------------------------------------------------------------\u001b[0m",
      "\u001b[0;31mModuleNotFoundError\u001b[0m                       Traceback (most recent call last)",
      "Cell \u001b[0;32mIn[2], line 3\u001b[0m\n\u001b[1;32m      1\u001b[0m \u001b[38;5;66;03m# Import libraries\u001b[39;00m\n\u001b[1;32m      2\u001b[0m \u001b[38;5;28;01mimport\u001b[39;00m\u001b[38;5;250m \u001b[39m\u001b[38;5;21;01mpandas\u001b[39;00m\u001b[38;5;250m \u001b[39m\u001b[38;5;28;01mas\u001b[39;00m\u001b[38;5;250m \u001b[39m\u001b[38;5;21;01mpd\u001b[39;00m\n\u001b[0;32m----> 3\u001b[0m \u001b[38;5;28;01mfrom\u001b[39;00m\u001b[38;5;250m \u001b[39m\u001b[38;5;21;01mtextblob\u001b[39;00m\u001b[38;5;250m \u001b[39m\u001b[38;5;28;01mimport\u001b[39;00m TextBlob\n\u001b[1;32m      5\u001b[0m \u001b[38;5;66;03m# Sample dataset with some spelling errors and missing data\u001b[39;00m\n\u001b[1;32m      6\u001b[0m data \u001b[38;5;241m=\u001b[39m {\n\u001b[1;32m      7\u001b[0m     \u001b[38;5;124m'\u001b[39m\u001b[38;5;124mReview\u001b[39m\u001b[38;5;124m'\u001b[39m: [\n\u001b[1;32m      8\u001b[0m         \u001b[38;5;124m\"\u001b[39m\u001b[38;5;124mThs product is relly goood!\u001b[39m\u001b[38;5;124m\"\u001b[39m,\n\u001b[0;32m   (...)\u001b[0m\n\u001b[1;32m     14\u001b[0m     ]\n\u001b[1;32m     15\u001b[0m }\n",
      "\u001b[0;31mModuleNotFoundError\u001b[0m: No module named 'textblob'"
     ]
    }
   ],
   "source": [
    "# Import libraries\n",
    "import pandas as pd\n",
    "from textblob import TextBlob\n",
    "\n",
    "# Sample dataset with some spelling errors and missing data\n",
    "data = {\n",
    "    'Review': [\n",
    "        \"Ths product is relly goood!\",\n",
    "        \"I recived the wrng iteem.\",\n",
    "        None,  # Missing value case\n",
    "        \"Totally woth the mony!\",\n",
    "        \"\",  # Empty string case\n",
    "        \"Exellent servce and quik delivery.\"\n",
    "    ]\n",
    "}\n",
    "\n",
    "# Load data into DataFrame with error handling\n",
    "try:\n",
    "    df = pd.DataFrame(data)\n",
    "except Exception as e:\n",
    "    print(\"Error loading data:\", e)\n",
    "\n",
    "# Function to perform spelling correction with error handling\n",
    "def correct_spelling(text):\n",
    "    if not isinstance(text, str):\n",
    "        return text  # Return as is if not a string (e.g., None)\n",
    "    try:\n",
    "        return str(TextBlob(text).correct())\n",
    "    except Exception as e:\n",
    "        print(f\"Correction failed for '{text}':\", e)\n",
    "        return text  # Return original if correction fails\n",
    "\n",
    "# Apply spelling correction to the 'Review' column\n",
    "df['Corrected_Review'] = df['Review'].apply(correct_spelling)\n",
    "\n",
    "# Basic unit tests for the correction function\n",
    "def test_spell_correction():\n",
    "    assert correct_spelling(\"goood\") == \"good\"\n",
    "    assert correct_spelling(\"\") == \"\"\n",
    "    assert correct_spelling(None) is None\n",
    "    assert correct_spelling(\"wrng\") == \"wing\" or correct_spelling(\"wrng\") == \"wrong\"  # Acceptable correction\n",
    "    print(\"All tests passed!\")\n",
    "\n",
    "# Run tests\n",
    "test_spell_correction()\n",
    "\n",
    "# Display original and corrected reviews\n",
    "print(df)"
   ]
  }
 ],
 "metadata": {
  "kernelspec": {
   "display_name": "Python 3",
   "language": "python",
   "name": "python3"
  },
  "language_info": {
   "codemirror_mode": {
    "name": "ipython",
    "version": 3
   },
   "file_extension": ".py",
   "mimetype": "text/x-python",
   "name": "python",
   "nbconvert_exporter": "python",
   "pygments_lexer": "ipython3",
   "version": "3.10.12"
  }
 },
 "nbformat": 4,
 "nbformat_minor": 2
}
