{
 "cells": [
  {
   "cell_type": "markdown",
   "metadata": {},
   "source": [
    "# Data Deduplication using Clustering\n",
    "**Objective**: Learn and implement data deduplication techniques.\n",
    "\n",
    "**Task**: DBSCAN for Data Deduplication\n",
    "\n",
    "**Steps**:\n",
    "1. Data Set: Download a dataset containing duplicate entries for event registrations.\n",
    "2. DBSCAN Clustering: Apply the DBSCAN algorithm to cluster similar registrations.\n",
    "3. Identify Duplicates: Detect duplicates based on density of the clusters.\n",
    "4. Refinement: Validate clusters and remove any erroneous duplicates."
   ]
  },
  {
   "cell_type": "code",
   "execution_count": 2,
   "metadata": {},
   "outputs": [
    {
     "name": "stdout",
     "output_type": "stream",
     "text": [
      "Defaulting to user installation because normal site-packages is not writeable\n",
      "Requirement already satisfied: pandas in /home/vscode/.local/lib/python3.10/site-packages (2.1.4)\n",
      "Requirement already satisfied: scikit-learn in /home/vscode/.local/lib/python3.10/site-packages (1.6.1)\n",
      "Requirement already satisfied: tzdata>=2022.1 in /home/vscode/.local/lib/python3.10/site-packages (from pandas) (2025.2)\n",
      "Requirement already satisfied: pytz>=2020.1 in /home/vscode/.local/lib/python3.10/site-packages (from pandas) (2025.2)\n",
      "Requirement already satisfied: python-dateutil>=2.8.2 in /home/vscode/.local/lib/python3.10/site-packages (from pandas) (2.9.0.post0)\n",
      "Requirement already satisfied: numpy<2,>=1.22.4 in /home/vscode/.local/lib/python3.10/site-packages (from pandas) (1.26.4)\n",
      "Requirement already satisfied: threadpoolctl>=3.1.0 in /home/vscode/.local/lib/python3.10/site-packages (from scikit-learn) (3.6.0)\n",
      "Requirement already satisfied: joblib>=1.2.0 in /home/vscode/.local/lib/python3.10/site-packages (from scikit-learn) (1.4.2)\n",
      "Requirement already satisfied: scipy>=1.6.0 in /home/vscode/.local/lib/python3.10/site-packages (from scikit-learn) (1.15.2)\n",
      "Requirement already satisfied: six>=1.5 in /home/vscode/.local/lib/python3.10/site-packages (from python-dateutil>=2.8.2->pandas) (1.17.0)\n",
      "\n",
      "\u001b[1m[\u001b[0m\u001b[34;49mnotice\u001b[0m\u001b[1;39;49m]\u001b[0m\u001b[39;49m A new release of pip is available: \u001b[0m\u001b[31;49m23.0.1\u001b[0m\u001b[39;49m -> \u001b[0m\u001b[32;49m25.1.1\u001b[0m\n",
      "\u001b[1m[\u001b[0m\u001b[34;49mnotice\u001b[0m\u001b[1;39;49m]\u001b[0m\u001b[39;49m To update, run: \u001b[0m\u001b[32;49mpip install --upgrade pip\u001b[0m\n",
      "Note: you may need to restart the kernel to use updated packages.\n",
      "Original Registrations:\n",
      "             Name              Email\n",
      "0   Anita Sharma    anita@gmail.com\n",
      "1  Anitha Sharma   anitha@gmail.com\n",
      "2      Brian Lee    brian@gmail.com\n",
      "3      Bryan Lee    bryan@gmail.com\n",
      "4   Sophie Zhang   sophie@gmail.com\n",
      "5    Sophy Zhang  sophy.z@gmail.com\n",
      "6    David Clark   davidc@gmail.com\n",
      "7     Dave Clark  d.clark@gmail.com\n",
      "\n",
      "Deduplicated Registrations:\n",
      "            Name              Email\n",
      "0  Anita Sharma    anita@gmail.com\n",
      "1     Brian Lee    brian@gmail.com\n",
      "2     Bryan Lee    bryan@gmail.com\n",
      "3  Sophie Zhang   sophie@gmail.com\n",
      "4   Sophy Zhang  sophy.z@gmail.com\n",
      "5   David Clark   davidc@gmail.com\n",
      "6    Dave Clark  d.clark@gmail.com\n"
     ]
    }
   ],
   "source": [
    "%pip install pandas scikit-learn\n",
    "import pandas as pd\n",
    "from sklearn.feature_extraction.text import TfidfVectorizer\n",
    "from sklearn.metrics.pairwise import cosine_distances\n",
    "from sklearn.cluster import DBSCAN\n",
    "\n",
    "# Step 1: Simulated Dataset of Event Registrations with Duplicates\n",
    "data = {\n",
    "    'Name': [\n",
    "        'Anita Sharma', 'Anitha Sharma', 'Brian Lee', 'Bryan Lee',\n",
    "        'Sophie Zhang', 'Sophy Zhang', 'David Clark', 'Dave Clark'\n",
    "    ],\n",
    "    'Email': [\n",
    "        'anita@gmail.com', 'anitha@gmail.com', 'brian@gmail.com', 'bryan@gmail.com',\n",
    "        'sophie@gmail.com', 'sophy.z@gmail.com', 'davidc@gmail.com', 'd.clark@gmail.com'\n",
    "    ]\n",
    "}\n",
    "\n",
    "df = pd.DataFrame(data)\n",
    "print(\"Original Registrations:\\n\", df)\n",
    "\n",
    "# Step 2: Vectorize the combined 'Name + Email' using TF-IDF\n",
    "combined = df['Name'] + ' ' + df['Email']\n",
    "vectorizer = TfidfVectorizer(analyzer='char_wb', ngram_range=(2, 4))\n",
    "X = vectorizer.fit_transform(combined)\n",
    "\n",
    "# Step 3: Apply DBSCAN with cosine distance\n",
    "distance_matrix = cosine_distances(X)\n",
    "db = DBSCAN(eps=0.4, min_samples=1, metric='precomputed')\n",
    "df['Cluster'] = db.fit_predict(distance_matrix)\n",
    "\n",
    "# Step 4: Deduplicate by keeping the first record in each cluster\n",
    "deduplicated_df = df.groupby('Cluster').first().reset_index(drop=True)\n",
    "print(\"\\nDeduplicated Registrations:\\n\", deduplicated_df)"
   ]
  }
 ],
 "metadata": {
  "kernelspec": {
   "display_name": "Python 3",
   "language": "python",
   "name": "python3"
  },
  "language_info": {
   "codemirror_mode": {
    "name": "ipython",
    "version": 3
   },
   "file_extension": ".py",
   "mimetype": "text/x-python",
   "name": "python",
   "nbconvert_exporter": "python",
   "pygments_lexer": "ipython3",
   "version": "3.10.12"
  }
 },
 "nbformat": 4,
 "nbformat_minor": 2
}
