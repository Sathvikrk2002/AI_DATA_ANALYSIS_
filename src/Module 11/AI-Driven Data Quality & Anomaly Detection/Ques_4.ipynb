{
 "cells": [
  {
   "cell_type": "markdown",
   "metadata": {},
   "source": [
    "# Data Deduplication using Clustering\n",
    "**Objective**: Learn and implement data deduplication techniques.\n",
    "\n",
    "**Task**: Deduplication Using K-means Clustering\n",
    "\n",
    "**Steps**:\n",
    "1. Data Set: Download a dataset containing duplicate customer records.\n",
    "2. Preprocess: Standardize the data to ensure better clustering.\n",
    "3. Apply K-means: Use K-means clustering to find and group similar customer records.\n",
    "4. Identify Duplicates: Identify and remove duplicates within clusters."
   ]
  },
  {
   "cell_type": "code",
   "execution_count": 1,
   "metadata": {},
   "outputs": [
    {
     "name": "stdout",
     "output_type": "stream",
     "text": [
      "Original Dataset:\n",
      "             Name               Email       Phone\n",
      "0       John Doe    john@example.com  1234567890\n",
      "1        Jon Doe     jon@example.com  1234567890\n",
      "2     Jane Smith    jane@example.com  2345678901\n",
      "3     Jane Smyth  jane.s@example.com  2345678901\n",
      "4  Alice Johnson  alicej@example.com  3456789012\n",
      "5  Alyce Johnson  alycej@example.com  3456789012\n",
      "6      Bob Stone     bob@example.com  4567890123\n",
      "7   Robert Stone     rob@example.com  4567890123\n",
      "8      Bob Stone     bob@example.com  4567890123\n",
      "\n",
      "Deduplicated Records (1 per cluster):\n",
      "             Name               Email       Phone  Cluster\n",
      "0     Jane Smyth  jane.s@example.com  2345678901        0\n",
      "1      Bob Stone     bob@example.com  4567890123        1\n",
      "2       John Doe    john@example.com  1234567890        2\n",
      "3  Alice Johnson  alicej@example.com  3456789012        3\n"
     ]
    },
    {
     "data": {
      "image/png": "[encoded data removed]",
      "text/plain": [
       "<Figure size 800x500 with 1 Axes>"
      ]
     },
     "metadata": {},
     "output_type": "display_data"
    }
   ],
   "source": [
    "import pandas as pd\n",
    "import numpy as np\n",
    "from sklearn.preprocessing import StandardScaler\n",
    "from sklearn.cluster import KMeans\n",
    "from sklearn.metrics import pairwise_distances_argmin_min\n",
    "import matplotlib.pyplot as plt\n",
    "\n",
    "# Step 1: Simulate a dataset with duplicate customer records\n",
    "data = {\n",
    "    'Name': ['John Doe', 'Jon Doe', 'Jane Smith', 'Jane Smyth', 'Alice Johnson',\n",
    "             'Alyce Johnson', 'Bob Stone', 'Robert Stone', 'Bob Stone'],  # duplicates\n",
    "    'Email': ['john@example.com', 'jon@example.com', 'jane@example.com', 'jane.s@example.com',\n",
    "              'alicej@example.com', 'alycej@example.com', 'bob@example.com', 'rob@example.com', 'bob@example.com'],\n",
    "    'Phone': ['1234567890', '1234567890', '2345678901', '2345678901',\n",
    "              '3456789012', '3456789012', '4567890123', '4567890123', '4567890123']\n",
    "}\n",
    "\n",
    "df = pd.DataFrame(data)\n",
    "\n",
    "print(\"Original Dataset:\\n\", df)\n",
    "\n",
    "# Step 2: Preprocess data (convert categorical to numeric using TF-IDF or hashing)\n",
    "# For simplicity, we'll use one-hot encoding here\n",
    "df_encoded = pd.get_dummies(df, columns=['Name', 'Email', 'Phone'])\n",
    "\n",
    "# Standardize features\n",
    "scaler = StandardScaler()\n",
    "X_scaled = scaler.fit_transform(df_encoded)\n",
    "\n",
    "# Step 3: Apply K-means clustering\n",
    "k = 4  # Number of expected unique customers (adjust based on known dedup count)\n",
    "kmeans = KMeans(n_clusters=k, random_state=42)\n",
    "clusters = kmeans.fit_predict(X_scaled)\n",
    "\n",
    "df['Cluster'] = clusters\n",
    "\n",
    "# Step 4: Identify duplicates\n",
    "# We assume records in the same cluster and close to each other are potential duplicates\n",
    "# Find one representative per cluster\n",
    "representative_indices, _ = pairwise_distances_argmin_min(kmeans.cluster_centers_, X_scaled)\n",
    "deduplicated_df = df.loc[representative_indices].reset_index(drop=True)\n",
    "\n",
    "print(\"\\nDeduplicated Records (1 per cluster):\\n\", deduplicated_df)\n",
    "\n",
    "# Optional: Visualize Clusters (using PCA for 2D representation)\n",
    "from sklearn.decomposition import PCA\n",
    "pca = PCA(n_components=2)\n",
    "X_pca = pca.fit_transform(X_scaled)\n",
    "\n",
    "plt.figure(figsize=(8, 5))\n",
    "plt.scatter(X_pca[:, 0], X_pca[:, 1], c=clusters, cmap='tab10', s=100)\n",
    "for i, txt in enumerate(df['Name']):\n",
    "    plt.annotate(txt, (X_pca[i, 0], X_pca[i, 1]), fontsize=8)\n",
    "plt.title(\"Customer Record Clusters\")\n",
    "plt.grid(True)\n",
    "plt.show()"
   ]
  }
 ],
 "metadata": {
  "kernelspec": {
   "display_name": "Python 3",
   "language": "python",
   "name": "python3"
  },
  "language_info": {
   "codemirror_mode": {
    "name": "ipython",
    "version": 3
   },
   "file_extension": ".py",
   "mimetype": "text/x-python",
   "name": "python",
   "nbconvert_exporter": "python",
   "pygments_lexer": "ipython3",
   "version": "3.10.12"
  }
 },
 "nbformat": 4,
 "nbformat_minor": 2
}
