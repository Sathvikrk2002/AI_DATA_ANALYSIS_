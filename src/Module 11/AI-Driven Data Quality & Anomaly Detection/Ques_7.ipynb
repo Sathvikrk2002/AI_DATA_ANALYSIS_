{
 "cells": [
  {
   "cell_type": "markdown",
   "metadata": {},
   "source": [
    "### Using NLP for Text Data Quality\n",
    "**Objective**: Enhance text data quality using NLP techniques.\n",
    "\n",
    "**Task**: Handling Noisy Text Data\n",
    "\n",
    "**Steps**:\n",
    "1. Data Set: Obtain a dataset with customer reviews containing noise (e.g., random characters).\n",
    "2. Clean Data: Use regex patterns to clean the noise from text data.\n",
    "3. Evaluate: Compare the text before and after cleaning for noise."
   ]
  },
  {
   "cell_type": "code",
   "execution_count": 1,
   "metadata": {},
   "outputs": [
    {
     "name": "stdout",
     "output_type": "stream",
     "text": [
      "Before and After Cleaning:\n",
      "\n",
      "                                Review         Cleaned_Review\n",
      "0          Th!s pr0duct is #amazing!!!  ths prduct is amazing\n",
      "1          W0rth every $$$. L0ve it <3      wrth every lve it\n",
      "2  Terrrrible.....!!! nevvver again!!!    terible never again\n",
      "3       S000o g0ooood!!! Buy it now!!!      so god buy it now\n",
      "4       U$eless!!!! Waste-of-money 123    ueless wasteofmoney\n"
     ]
    }
   ],
   "source": [
    "import pandas as pd\n",
    "import re\n",
    "\n",
    "# Step 1: Simulated Dataset with Noisy Customer Reviews\n",
    "data = {\n",
    "    'Review': [\n",
    "        \"Th!s pr0duct is #amazing!!!\", \n",
    "        \"W0rth every $$$. L0ve it <3\",\n",
    "        \"Terrrrible.....!!! nevvver again!!!\", \n",
    "        \"S000o g0ooood!!! Buy it now!!!\",\n",
    "        \"U$eless!!!! Waste-of-money 123\"\n",
    "    ]\n",
    "}\n",
    "df = pd.DataFrame(data)\n",
    "\n",
    "# Function to clean noisy text using regex\n",
    "def clean_text(text):\n",
    "    # Remove special characters, digits, and excessive punctuation\n",
    "    text = re.sub(r'[^a-zA-Z\\s]', '', text)  # keep only letters and spaces\n",
    "    text = re.sub(r'\\s+', ' ', text)         # replace multiple spaces with one\n",
    "    text = re.sub(r'(.)\\1{2,}', r'\\1', text) # reduce repeated characters (e.g., Terrrrible -> Terible)\n",
    "    return text.strip().lower()\n",
    "\n",
    "# Step 2: Apply cleaning\n",
    "df['Cleaned_Review'] = df['Review'].apply(clean_text)\n",
    "\n",
    "# Step 3: Compare before and after\n",
    "print(\"Before and After Cleaning:\\n\")\n",
    "print(df[['Review', 'Cleaned_Review']])"
   ]
  }
 ],
 "metadata": {
  "kernelspec": {
   "display_name": "Python 3",
   "language": "python",
   "name": "python3"
  },
  "language_info": {
   "codemirror_mode": {
    "name": "ipython",
    "version": 3
   },
   "file_extension": ".py",
   "mimetype": "text/x-python",
   "name": "python",
   "nbconvert_exporter": "python",
   "pygments_lexer": "ipython3",
   "version": "3.10.12"
  }
 },
 "nbformat": 4,
 "nbformat_minor": 2
}
