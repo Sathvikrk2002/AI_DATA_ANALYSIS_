{
 "cells": [
  {
   "cell_type": "markdown",
   "metadata": {},
   "source": [
    "### Handling Unstructured Data with Python\n",
    "**Description**: Extract structured data from unstructured text using Python.\n",
    "\n",
    "**Steps**:\n",
    "1. Load and analyze an unstructured text document.\n",
    "2. Extract information using regex."
   ]
  },
  {
   "cell_type": "code",
   "execution_count": 1,
   "metadata": {},
   "outputs": [
    {
     "name": "stdout",
     "output_type": "stream",
     "text": [
      "Extracted Information:\n",
      "Name: John Doe\n",
      "Age: 45\n",
      "Dates: ['2025-05-20', '2025-06-15']\n",
      "Phone: 555-123-4567\n",
      "Email: john.doe@example.com.\n"
     ]
    },
    {
     "name": "stderr",
     "output_type": "stream",
     "text": [
      "usage: ipykernel_launcher.py [-h] [-v] [-q] [--locals] [-f] [-c] [-b]\n",
      "                             [-k TESTNAMEPATTERNS]\n",
      "                             [tests ...]\n",
      "ipykernel_launcher.py: error: argument -f/--failfast: ignored explicit argument '/home/vscode/.local/share/jupyter/runtime/kernel-v30881c06868a19006d2478930e1b1f478f6488559.json'\n"
     ]
    },
    {
     "ename": "SystemExit",
     "evalue": "2",
     "output_type": "error",
     "traceback": [
      "An exception has occurred, use %tb to see the full traceback.\n",
      "\u001b[0;31mSystemExit\u001b[0m\u001b[0;31m:\u001b[0m 2\n"
     ]
    },
    {
     "name": "stderr",
     "output_type": "stream",
     "text": [
      "/home/vscode/.local/lib/python3.10/site-packages/IPython/core/interactiveshell.py:3587: UserWarning: To exit: use 'exit', 'quit', or Ctrl-D.\n",
      "  warn(\"To exit: use 'exit', 'quit', or Ctrl-D.\", stacklevel=1)\n"
     ]
    }
   ],
   "source": [
    "import re\n",
    "import unittest\n",
    "\n",
    "def extract_name(text):\n",
    "    match = re.search(r\"Patient\\s([A-Za-z\\s]+),\", text)\n",
    "    return match.group(1) if match else None\n",
    "\n",
    "def extract_age(text):\n",
    "    match = re.search(r\"aged\\s(\\d+)\", text)\n",
    "    return int(match.group(1)) if match else None\n",
    "\n",
    "def extract_dates(text):\n",
    "    return re.findall(r\"\\d{4}-\\d{2}-\\d{2}\", text)\n",
    "\n",
    "def extract_phone(text):\n",
    "    match = re.search(r\"\\d{3}-\\d{3}-\\d{4}\", text)\n",
    "    return match.group(0) if match else None\n",
    "\n",
    "def extract_email(text):\n",
    "    match = re.search(r\"[\\w\\.-]+@[\\w\\.-]+\", text)\n",
    "    return match.group(0) if match else None\n",
    "\n",
    "\n",
    "# Example usage\n",
    "if __name__ == \"__main__\":\n",
    "    sample_text = \"\"\"\n",
    "    Patient John Doe, aged 45, visited on 2025-05-20 complaining of headache and fever.\n",
    "    Contact: 555-123-4567. Email: john.doe@example.com.\n",
    "    Next appointment: 2025-06-15.\n",
    "    \"\"\"\n",
    "\n",
    "    print(\"Extracted Information:\")\n",
    "    print(\"Name:\", extract_name(sample_text))\n",
    "    print(\"Age:\", extract_age(sample_text))\n",
    "    print(\"Dates:\", extract_dates(sample_text))\n",
    "    print(\"Phone:\", extract_phone(sample_text))\n",
    "    print(\"Email:\", extract_email(sample_text))\n",
    "\n",
    "\n",
    "# Unit Tests\n",
    "class TestDataExtraction(unittest.TestCase):\n",
    "\n",
    "    def setUp(self):\n",
    "        self.text = \"\"\"\n",
    "        Patient Alice Smith, aged 30, checked in on 2023-11-10.\n",
    "        Contact: 123-456-7890. Email: alice.smith@mail.com.\n",
    "        Follow-up: 2023-12-01.\n",
    "        \"\"\"\n",
    "\n",
    "    def test_extract_name(self):\n",
    "        self.assertEqual(extract_name(self.text), \"Alice Smith\")\n",
    "    \n",
    "    def test_extract_age(self):\n",
    "        self.assertEqual(extract_age(self.text), 30)\n",
    "    \n",
    "    def test_extract_dates(self):\n",
    "        self.assertEqual(extract_dates(self.text), [\"2023-11-10\", \"2023-12-01\"])\n",
    "    \n",
    "    def test_extract_phone(self):\n",
    "        self.assertEqual(extract_phone(self.text), \"123-456-7890\")\n",
    "    \n",
    "    def test_extract_email(self):\n",
    "        self.assertEqual(extract_email(self.text), \"alice.smith@mail.com\")\n",
    "\n",
    "    def test_missing_name(self):\n",
    "        self.assertIsNone(extract_name(\"No patient info here\"))\n",
    "    \n",
    "    def test_missing_age(self):\n",
    "        self.assertIsNone(extract_age(\"No age info here\"))\n",
    "\n",
    "\n",
    "if __name__ == \"__main__\":\n",
    "    unittest.main()"
   ]
  }
 ],
 "metadata": {
  "kernelspec": {
   "display_name": "Python 3",
   "language": "python",
   "name": "python3"
  },
  "language_info": {
   "codemirror_mode": {
    "name": "ipython",
    "version": 3
   },
   "file_extension": ".py",
   "mimetype": "text/x-python",
   "name": "python",
   "nbconvert_exporter": "python",
   "pygments_lexer": "ipython3",
   "version": "3.10.12"
  }
 },
 "nbformat": 4,
 "nbformat_minor": 2
}
