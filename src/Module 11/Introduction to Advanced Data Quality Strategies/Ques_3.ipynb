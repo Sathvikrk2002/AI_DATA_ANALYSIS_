{
 "cells": [
  {
   "cell_type": "markdown",
   "metadata": {},
   "source": [
    "### Machine Learning for Data Quality Prediction\n",
    "**Description**: Use a machine learning model to predict data quality issues.\n",
    "\n",
    "**Steps**:\n",
    "1. Create a mock dataset with features and label (quality issue/label: 0: good, 1: issue).\n",
    "2. Train a machine learning model.\n",
    "3. Evaluate the model performance."
   ]
  },
  {
   "cell_type": "code",
   "execution_count": 1,
   "metadata": {},
   "outputs": [
    {
     "name": "stdout",
     "output_type": "stream",
     "text": [
      "Cross-validation Accuracy (5-fold): 1.00 ± 0.00\n",
      "\n",
      "Test Accuracy: 0.995\n",
      "\n",
      "Classification Report:\n",
      "               precision    recall  f1-score   support\n",
      "\n",
      "           0       1.00      0.98      0.99        54\n",
      "           1       0.99      1.00      1.00       146\n",
      "\n",
      "    accuracy                           0.99       200\n",
      "   macro avg       1.00      0.99      0.99       200\n",
      "weighted avg       1.00      0.99      0.99       200\n",
      "\n",
      "Confusion Matrix:\n",
      " [[ 53   1]\n",
      " [  0 146]]\n"
     ]
    }
   ],
   "source": [
    "import pandas as pd\n",
    "import numpy as np\n",
    "from sklearn.ensemble import RandomForestClassifier\n",
    "from sklearn.model_selection import train_test_split, cross_val_score\n",
    "from sklearn.metrics import classification_report, confusion_matrix, accuracy_score\n",
    "from sklearn.exceptions import NotFittedError\n",
    "\n",
    "# Step 1: Generate Mock Dataset\n",
    "def generate_data(size=1000):\n",
    "    np.random.seed(42)\n",
    "    df = pd.DataFrame({\n",
    "        \"missing_value_rate\": np.random.rand(size),\n",
    "        \"num_outliers\": np.random.poisson(2, size),\n",
    "        \"avg_data_age\": np.random.randint(1, 365, size),\n",
    "        \"inconsistent_records\": np.random.randint(0, 5, size)\n",
    "    })\n",
    "    # Label: 1 if poor quality, else 0\n",
    "    df[\"quality_issue\"] = ((df[\"missing_value_rate\"] > 0.4) | (df[\"inconsistent_records\"] > 2)).astype(int)\n",
    "    return df\n",
    "\n",
    "try:\n",
    "    df = generate_data()\n",
    "\n",
    "    # Step 2: Split Dataset\n",
    "    X = df.drop(\"quality_issue\", axis=1)\n",
    "    y = df[\"quality_issue\"]\n",
    "    X_train, X_test, y_train, y_test = train_test_split(X, y, test_size=0.2, random_state=42)\n",
    "\n",
    "    # Step 3: Train ML Model with basic hyperparameter tuning\n",
    "    model = RandomForestClassifier(n_estimators=100, max_depth=5, random_state=42)\n",
    "    model.fit(X_train, y_train)\n",
    "\n",
    "    # Step 4: Cross-Validation\n",
    "    cv_scores = cross_val_score(model, X, y, cv=5)\n",
    "    print(f\"Cross-validation Accuracy (5-fold): {cv_scores.mean():.2f} ± {cv_scores.std():.2f}\")\n",
    "\n",
    "    # Step 5: Evaluate Model\n",
    "    y_pred = model.predict(X_test)\n",
    "    print(\"\\nTest Accuracy:\", accuracy_score(y_test, y_pred))\n",
    "    print(\"\\nClassification Report:\\n\", classification_report(y_test, y_pred))\n",
    "    print(\"Confusion Matrix:\\n\", confusion_matrix(y_test, y_pred))\n",
    "\n",
    "except ValueError as ve:\n",
    "    print(\"ValueError:\", ve)\n",
    "\n",
    "except NotFittedError as nf:\n",
    "    print(\"Model not fitted error:\", nf)\n",
    "\n",
    "except Exception as e:\n",
    "    print(\"An unexpected error occurred:\", e)"
   ]
  }
 ],
 "metadata": {
  "kernelspec": {
   "display_name": "Python 3",
   "language": "python",
   "name": "python3"
  },
  "language_info": {
   "codemirror_mode": {
    "name": "ipython",
    "version": 3
   },
   "file_extension": ".py",
   "mimetype": "text/x-python",
   "name": "python",
   "nbconvert_exporter": "python",
   "pygments_lexer": "ipython3",
   "version": "3.10.12"
  }
 },
 "nbformat": 4,
 "nbformat_minor": 2
}
