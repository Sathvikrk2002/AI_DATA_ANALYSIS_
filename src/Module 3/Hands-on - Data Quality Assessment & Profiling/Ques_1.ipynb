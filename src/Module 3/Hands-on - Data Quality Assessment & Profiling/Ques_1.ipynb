{
 "cells": [
  {
   "cell_type": "code",
   "execution_count": 4,
   "metadata": {},
   "outputs": [
    {
     "name": "stdout",
     "output_type": "stream",
     "text": [
      "An error occurred while loading the CSV file: Error tokenizing data. C error: Expected 7 fields in line 10, saw 8\n",
      "\n"
     ]
    }
   ],
   "source": [
    "import pandas as pd\n",
    "\n",
    "# Specify the path to your CSV file\n",
    "csv_file_path = 'your_dataset.csv'  # Replace 'your_dataset.csv' with the actual path\n",
    "\n",
    "try:\n",
    "    # Load the CSV file into a Pandas DataFrame\n",
    "    df = pd.read_csv(csv_file_path)\n",
    "\n",
    "    # Print the first five rows of the DataFrame\n",
    "    print(\"First five rows of the dataset:\")\n",
    "    print(df.head())\n",
    "\n",
    "except FileNotFoundError:\n",
    "    print(f\"Error: The file '{csv_file_path}' was not found. Please check the file path.\")\n",
    "except Exception as e:\n",
    "    print(f\"An error occurred while loading the CSV file: {e}\")"
   ]
  },
  {
   "cell_type": "code",
   "execution_count": 2,
   "metadata": {},
   "outputs": [
    {
     "name": "stdout",
     "output_type": "stream",
     "text": [
      "Error: The file 'your_dataset.csv' was not found. Please check the file path.\n"
     ]
    }
   ],
   "source": [
    "import pandas as pd\n",
    "\n",
    "# Specify the path to your CSV file\n",
    "csv_file_path = 'your_dataset.csv'  # Replace 'your_dataset.csv' with the actual path\n",
    "\n",
    "try:\n",
    "    # Load the CSV file into a Pandas DataFrame\n",
    "    df = pd.read_csv(csv_file_path)\n",
    "\n",
    "    # Check for missing values in each column\n",
    "    missing_values = df.isnull().sum()\n",
    "\n",
    "    # Filter columns with missing values\n",
    "    columns_with_missing = missing_values[missing_values > 0]\n",
    "\n",
    "    if not columns_with_missing.empty:\n",
    "        print(\"Columns with missing values and their counts:\")\n",
    "        print(columns_with_missing)\n",
    "    else:\n",
    "        print(\"No missing values found in the dataset.\")\n",
    "\n",
    "except FileNotFoundError:\n",
    "    print(f\"Error: The file '{csv_file_path}' was not found. Please check the file path.\")\n",
    "except Exception as e:\n",
    "    print(f\"An error occurred while processing the dataset: {e}\")"
   ]
  },
  {
   "cell_type": "code",
   "execution_count": 3,
   "metadata": {},
   "outputs": [
    {
     "name": "stdout",
     "output_type": "stream",
     "text": [
      "Error: The file 'your_dataset.csv' was not found. Please check the file path.\n"
     ]
    }
   ],
   "source": [
    "import pandas as pd\n",
    "import matplotlib.pyplot as plt\n",
    "import seaborn as sns\n",
    "\n",
    "# Specify the path to your CSV file\n",
    "csv_file_path = 'your_dataset.csv'  # Replace 'your_dataset.csv' with the actual path\n",
    "\n",
    "try:\n",
    "    # Load the CSV file into a Pandas DataFrame\n",
    "    df = pd.read_csv(csv_file_path)\n",
    "\n",
    "    # Create a heatmap of missing values\n",
    "    plt.figure(figsize=(10, 6))  # Adjust figure size as needed\n",
    "    sns.heatmap(df.isnull(), cbar=False, cmap='viridis')\n",
    "    plt.title('Heatmap of Missing Values')\n",
    "    plt.xlabel('Columns')\n",
    "    plt.ylabel('Rows')\n",
    "    plt.yticks([])  # Remove y-axis ticks for better readability\n",
    "    plt.show()\n",
    "\n",
    "except FileNotFoundError:\n",
    "    print(f\"Error: The file '{csv_file_path}' was not found. Please check the file path.\")\n",
    "except ImportError as e:\n",
    "    print(f\"Error: Could not import necessary library: {e}. Please make sure you have matplotlib and seaborn installed (pip install matplotlib seaborn).\")\n",
    "except Exception as e:\n",
    "    print(f\"An error occurred while visualizing the missing data: {e}\")"
   ]
  },
  {
   "cell_type": "code",
   "execution_count": null,
   "metadata": {},
   "outputs": [],
   "source": [
    "# Task 4: Remove Columns with Many Missing Values\n",
    "# Description: Drop columns that have more than 50% missing values.\n",
    "\n",
    "\n"
   ]
  },
  {
   "cell_type": "code",
   "execution_count": null,
   "metadata": {},
   "outputs": [],
   "source": [
    "# Task 5: Identify Duplicate Rows\n",
    "# Description: Check for and display any duplicate rows in the dataset.\n",
    "\n",
    "\n"
   ]
  },
  {
   "cell_type": "code",
   "execution_count": null,
   "metadata": {},
   "outputs": [],
   "source": [
    "# Task 6: Remove Duplicate Rows\n",
    "# Description: Remove duplicate rows from the dataset and verify that they have been removed.\n",
    "\n",
    "\n"
   ]
  },
  {
   "cell_type": "code",
   "execution_count": null,
   "metadata": {},
   "outputs": [],
   "source": [
    "# Task 7: Check Data Inconsistencies\n",
    "# Description: Identify inconsistencies in categorical columns, such as differing text cases or trailing spaces.\n",
    "\n",
    "\n"
   ]
  },
  {
   "cell_type": "code",
   "execution_count": null,
   "metadata": {},
   "outputs": [],
   "source": [
    "# Task 8: Get Summary of Data Quality\n",
    "# Description: Generate a summary of data quality including total records, number of duplicate rows, and columns with missing values.\n",
    "\n",
    "\n"
   ]
  },
  {
   "cell_type": "code",
   "execution_count": null,
   "metadata": {},
   "outputs": [],
   "source": [
    "# Task 9: Generate a Data Quality Report\n",
    "# Description: Create a comprehensive data quality report that includes not only missing values but also basic statistics for numerical columns and the distribution of categorical columns.\n",
    "\n",
    "\n"
   ]
  },
  {
   "cell_type": "code",
   "execution_count": null,
   "metadata": {},
   "outputs": [],
   "source": [
    "# Task 10: Advanced Data Imputation\n",
    "# Description: Perform advanced data imputation by replacing missing values in numerical columns with the mean and categorical columns with the mode.\n",
    "\n",
    "\n",
    "\n"
   ]
  }
 ],
 "metadata": {
  "kernelspec": {
   "display_name": "Python 3",
   "language": "python",
   "name": "python3"
  },
  "language_info": {
   "codemirror_mode": {
    "name": "ipython",
    "version": 3
   },
   "file_extension": ".py",
   "mimetype": "text/x-python",
   "name": "python",
   "nbconvert_exporter": "python",
   "pygments_lexer": "ipython3",
   "version": "3.10.12"
  }
 },
 "nbformat": 4,
 "nbformat_minor": 2
}
