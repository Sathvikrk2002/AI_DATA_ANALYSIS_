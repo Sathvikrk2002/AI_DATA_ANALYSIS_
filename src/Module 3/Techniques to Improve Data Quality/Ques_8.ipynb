{
 "cells": [
  {
   "cell_type": "code",
   "execution_count": null,
   "metadata": {},
   "outputs": [],
   "source": [
    "import pandas as pd\n",
    "import great_expectations as gx\n",
    "\n",
    "# Sample Pandas DataFrame\n",
    "data = {'id': [1, 2, 3, 4, 5],\n",
    "        'numeric_column': [10.5, 20.0, None, 35.2, None],\n",
    "        'category_column': ['A', 'B', 'A', 'C', 'B']}\n",
    "df = pd.DataFrame(data)\n",
    "\n",
    "# Create a Great Expectations DataContext\n",
    "context = gx.get_context()\n",
    "\n",
    "# Create a Pandas Datasource\n",
    "datasource_name = \"pandas_example\"\n",
    "pandas_datasource = context.sources.add_pandas(name=datasource_name)\n",
    "\n",
    "# Create a DataAsset (table-like view of your data)\n",
    "data_asset_name = \"my_numeric_data\"\n",
    "data_asset = pandas_datasource.add_dataframe_asset(\n",
    "    name=data_asset_name,\n",
    "    dataframe=df\n",
    ")\n",
    "\n",
    "# Build a BatchRequest to specify the data you want to validate\n",
    "batch_request = data_asset.build_batch_request()"
   ]
  }
 ],
 "metadata": {
  "kernelspec": {
   "display_name": "Python 3",
   "language": "python",
   "name": "python3"
  },
  "language_info": {
   "codemirror_mode": {
    "name": "ipython",
    "version": 3
   },
   "file_extension": ".py",
   "mimetype": "text/x-python",
   "name": "python",
   "nbconvert_exporter": "python",
   "pygments_lexer": "ipython3",
   "version": "3.10.12"
  }
 },
 "nbformat": 4,
 "nbformat_minor": 2
}
