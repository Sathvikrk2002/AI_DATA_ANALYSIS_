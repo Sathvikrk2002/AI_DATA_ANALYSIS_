{
 "cells": [
  {
   "cell_type": "markdown",
   "metadata": {},
   "source": [
    "gfhfh"
   ]
  },
  {
   "cell_type": "code",
   "execution_count": 1,
   "metadata": {},
   "outputs": [
    {
     "name": "stdout",
     "output_type": "stream",
     "text": [
      "Original DataFrame:\n",
      "   ID     Name Department  Age  Salary\n",
      "0   1    Alice         HR   25   50000\n",
      "1   2      Bob      Sales   30   60000\n",
      "2   3  Charlie  Marketing   35   55000\n",
      "3   4    David         HR   28   52000\n",
      "4   2      Bob      Sales   30   60000\n",
      "5   5      Eve  Marketing   32   62000\n",
      "6   6    Frank      Sales   40   70000\n",
      "7   3  Charlie  Marketing   35   55000\n",
      "8   7    Grace         HR   31   58000\n",
      "9   8    Henry      Sales   27   51000\n",
      "\n",
      "Complete Duplicate Rows:\n",
      "   ID     Name Department  Age  Salary\n",
      "4   2      Bob      Sales   30   60000\n",
      "7   3  Charlie  Marketing   35   55000\n",
      "\n",
      "Duplicate Rows based on columns: ['Name', 'Department'] (keeping all duplicates):\n",
      "   ID     Name Department  Age  Salary\n",
      "1   2      Bob      Sales   30   60000\n",
      "2   3  Charlie  Marketing   35   55000\n",
      "4   2      Bob      Sales   30   60000\n",
      "7   3  Charlie  Marketing   35   55000\n",
      "\n",
      "Number of Complete Duplicate Rows: 2\n",
      "Number of Duplicate Rows based on columns '['Name', 'Department']': 2\n"
     ]
    }
   ],
   "source": [
    "import pandas as pd\n",
    "import numpy as np\n",
    "\n",
    "# Sample DataFrame (you would replace this with your data loading)\n",
    "data_duplicates = {\n",
    "    'ID': [1, 2, 3, 4, 2, 5, 6, 3, 7, 8],\n",
    "    'Name': ['Alice', 'Bob', 'Charlie', 'David', 'Bob', 'Eve', 'Frank', 'Charlie', 'Grace', 'Henry'],\n",
    "    'Department': ['HR', 'Sales', 'Marketing', 'HR', 'Sales', 'Marketing', 'Sales', 'Marketing', 'HR', 'Sales'],\n",
    "    'Age': [25, 30, 35, 28, 30, 32, 40, 35, 31, 27],\n",
    "    'Salary': [50000, 60000, 55000, 52000, 60000, 62000, 70000, 55000, 58000, 51000]\n",
    "}\n",
    "df_duplicates = pd.DataFrame(data_duplicates)\n",
    "\n",
    "print(\"Original DataFrame:\")\n",
    "print(df_duplicates)\n",
    "\n",
    "# --- 7. Identify Complete Duplicates ---\n",
    "duplicate_rows_complete = df_duplicates[df_duplicates.duplicated()]\n",
    "print(\"\\nComplete Duplicate Rows:\")\n",
    "print(duplicate_rows_complete)\n",
    "\n",
    "# --- 8. Identify Duplicates based on Specific Columns ---\n",
    "columns_to_check = ['Name', 'Department']\n",
    "duplicate_rows_subset = df_duplicates[df_duplicates.duplicated(subset=columns_to_check, keep=False)]\n",
    "print(f\"\\nDuplicate Rows based on columns: {columns_to_check} (keeping all duplicates):\")\n",
    "print(duplicate_rows_subset)\n",
    "# Note: `keep=False` marks all occurrences of the duplicates as True.\n",
    "# If you want to keep the first occurrence as False, use `keep='first'` (default).\n",
    "# If you want to keep the last occurrence as False, use `keep='last'`.\n",
    "\n",
    "# --- 9. Count Duplicate Rows ---\n",
    "num_duplicate_rows = df_duplicates.duplicated().sum()\n",
    "print(f\"\\nNumber of Complete Duplicate Rows: {num_duplicate_rows}\")\n",
    "\n",
    "num_duplicate_rows_subset = df_duplicates.duplicated(subset=columns_to_check).sum()\n",
    "print(f\"Number of Duplicate Rows based on columns '{columns_to_check}': {num_duplicate_rows_subset}\")"
   ]
  },
  {
   "cell_type": "code",
   "execution_count": null,
   "metadata": {},
   "outputs": [],
   "source": [
    "# Task B: Deduplication Techniques\n",
    "\n",
    "# 10. Remove Complete Duplicates:\n",
    "# - Drop duplicate rows and keep only the first occurrence.\n",
    "\n",
    "\n",
    "\n",
    "\n",
    "\n",
    "\n",
    "# 11. Subset Deduplication:\n",
    "# - Remove duplicates based on a subset of columns.\n",
    "\n",
    "\n",
    "\n",
    "\n",
    "\n",
    "\n",
    "# 12. Keep Last Occurrence:\n",
    "# - Drop duplicates but keep the last occurrence in the dataset.\n",
    "\n",
    "\n",
    "\n",
    "\n",
    "\n"
   ]
  }
 ],
 "metadata": {
  "kernelspec": {
   "display_name": "Python 3",
   "language": "python",
   "name": "python3"
  },
  "language_info": {
   "codemirror_mode": {
    "name": "ipython",
    "version": 3
   },
   "file_extension": ".py",
   "mimetype": "text/x-python",
   "name": "python",
   "nbconvert_exporter": "python",
   "pygments_lexer": "ipython3",
   "version": "3.10.12"
  }
 },
 "nbformat": 4,
 "nbformat_minor": 2
}
