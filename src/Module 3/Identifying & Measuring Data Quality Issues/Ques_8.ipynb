{
 "cells": [
  {
   "cell_type": "code",
   "execution_count": 2,
   "metadata": {},
   "outputs": [],
   "source": [
    "# Question: Detecting Data Drift\n",
    "# Description: Identify potential data drift between two time periods for a numeric attribute.\n",
    "from scipy.stats import ks_2samp\n",
    "import pandas as pd\n",
    "\n",
    "def detect_data_drift(data1, data2, alpha=0.05):\n",
    "    \"\"\"\n",
    "    Detect data drift between two numeric datasets using the KS test.\n",
    "\n",
    "    Parameters:\n",
    "    - data1: pd.Series – baseline data\n",
    "    - data2: pd.Series – current data\n",
    "    - alpha: significance level (default: 0.05)\n",
    "\n",
    "    Returns:\n",
    "    - drift_detected: bool – True if drift is detected\n",
    "    - p_value: float – p-value of the test\n",
    "    - statistic: float – KS statistic\n",
    "    \"\"\"\n",
    "\n",
    "    # Drop NaNs for accurate comparison\n",
    "    data1 = data1.dropna()\n",
    "    data2 = data2.dropna()\n",
    "\n",
    "    statistic, p_value = ks_2samp(data1, data2)\n",
    "\n",
    "    drift_detected = p_value < alpha\n",
    "\n",
    "    return drift_detected, round(p_value, 4), round(statistic, 4)\n"
   ]
  }
 ],
 "metadata": {
  "kernelspec": {
   "display_name": "Python 3",
   "language": "python",
   "name": "python3"
  },
  "language_info": {
   "codemirror_mode": {
    "name": "ipython",
    "version": 3
   },
   "file_extension": ".py",
   "mimetype": "text/x-python",
   "name": "python",
   "nbconvert_exporter": "python",
   "pygments_lexer": "ipython3",
   "version": "3.10.12"
  }
 },
 "nbformat": 4,
 "nbformat_minor": 2
}
