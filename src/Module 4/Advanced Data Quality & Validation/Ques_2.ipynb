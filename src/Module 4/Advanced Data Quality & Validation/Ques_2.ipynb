{
 "cells": [
  {
   "cell_type": "code",
   "execution_count": 1,
   "metadata": {},
   "outputs": [
    {
     "name": "stdout",
     "output_type": "stream",
     "text": [
      "Combined DataFrame with Historical and Recent Data:\n",
      "    feature     target data_source\n",
      "0  3.745401  13.410298  historical\n",
      "1  9.507143  29.923414  historical\n",
      "2  7.319939  24.143340  historical\n",
      "3  5.986585  15.984617  historical\n",
      "4  1.560186   6.241215  historical\n"
     ]
    }
   ],
   "source": [
    "import numpy as np\n",
    "import pandas as pd\n",
    "import matplotlib.pyplot as plt\n",
    "import seaborn as sns\n",
    "from scipy.stats import ks_2samp\n",
    "\n",
    "# Set a seed for reproducibility\n",
    "np.random.seed(42)\n",
    "\n",
    "# 1. Generate Historical Training Data\n",
    "n_samples = 100\n",
    "X_historical = np.random.rand(n_samples, 1) * 10\n",
    "y_historical = 2 + 3 * X_historical + np.random.randn(n_samples, 1) * 2\n",
    "\n",
    "historical_df = pd.DataFrame({'feature': X_historical.flatten(), 'target': y_historical.flatten()})\n",
    "\n",
    "# 2. Generate Recent Unseen Data with Drift\n",
    "# Introduce drift in the feature distribution (shifted mean)\n",
    "X_recent_drift_feature = np.random.rand(n_samples, 1) * 10 + 2\n",
    "y_recent_drift_feature = 2 + 3 * X_recent_drift_feature + np.random.randn(n_samples, 1) * 2\n",
    "\n",
    "recent_df_drift_feature = pd.DataFrame({'feature': X_recent_drift_feature.flatten(), 'target': y_recent_drift_feature.flatten(), 'data_source': 'recent_feature_drift'})\n",
    "\n",
    "# Introduce drift in the relationship (different coefficient and intercept)\n",
    "X_recent_drift_relation = np.random.rand(n_samples, 1) * 10\n",
    "y_recent_drift_relation = 5 + 1.5 * X_recent_drift_relation + np.random.randn(n_samples, 1) * 3\n",
    "\n",
    "recent_df_drift_relation = pd.DataFrame({'feature': X_recent_drift_relation.flatten(), 'target': y_recent_drift_relation.flatten(), 'data_source': 'recent_relation_drift'})\n",
    "\n",
    "# Combine historical and recent data for comparison\n",
    "historical_df['data_source'] = 'historical'\n",
    "combined_df = pd.concat([historical_df, recent_df_drift_feature, recent_df_drift_relation], ignore_index=True)\n",
    "\n",
    "print(\"Combined DataFrame with Historical and Recent Data:\")\n",
    "print(combined_df.head())"
   ]
  },
  {
   "cell_type": "code",
   "execution_count": 2,
   "metadata": {},
   "outputs": [
    {
     "name": "stdout",
     "output_type": "stream",
     "text": [
      "Validation Passed: All required columns are present.\n",
      "Validation Error: Incorrect data types -\n",
      "  - Column 'id': Expected Int64, got float64\n",
      "  - Column 'value': Expected float64, got object\n",
      "Validation Error: Null values found -\n",
      "  - Column 'id': Null values found\n"
     ]
    },
    {
     "data": {
      "text/plain": [
       "False"
      ]
     },
     "execution_count": 2,
     "metadata": {},
     "output_type": "execute_result"
    }
   ],
   "source": [
    "import pandas as pd\n",
    "\n",
    "def check_column_presence(df, columns):\n",
    "    \"\"\"Checks if specified columns exist in the DataFrame.\"\"\"\n",
    "    missing_columns = [col for col in columns if col not in df.columns]\n",
    "    if missing_columns:\n",
    "        print(f\"Validation Error: Missing columns - {missing_columns}\")\n",
    "        return False\n",
    "    else:\n",
    "        print(\"Validation Passed: All required columns are present.\")\n",
    "        return True\n",
    "\n",
    "def check_column_dtype(df, column_dtype_map):\n",
    "    \"\"\"Checks if columns have the expected data types.\"\"\"\n",
    "    dtype_errors = {}\n",
    "    for col, expected_dtype in column_dtype_map.items():\n",
    "        if col in df.columns:\n",
    "            actual_dtype = df[col].dtype\n",
    "            if not pd.api.types.is_dtype_equal(actual_dtype, expected_dtype):\n",
    "                dtype_errors[col] = f\"Expected {expected_dtype}, got {actual_dtype}\"\n",
    "        else:\n",
    "            dtype_errors[col] = \"Column not found\"\n",
    "\n",
    "    if dtype_errors:\n",
    "        print(\"Validation Error: Incorrect data types -\")\n",
    "        for col, error in dtype_errors.items():\n",
    "            print(f\"  - Column '{col}': {error}\")\n",
    "        return False\n",
    "    else:\n",
    "        print(\"Validation Passed: All columns have the expected data types.\")\n",
    "        return True\n",
    "\n",
    "def check_column_values_non_null(df, columns):\n",
    "    \"\"\"Checks if specified columns have any null values.\"\"\"\n",
    "    null_errors = {}\n",
    "    for col in columns:\n",
    "        if col in df.columns:\n",
    "            if df[col].isnull().any():\n",
    "                null_errors[col] = f\"Null values found\"\n",
    "        else:\n",
    "            null_errors[col] = \"Column not found\"\n",
    "\n",
    "    if null_errors:\n",
    "        print(\"Validation Error: Null values found -\")\n",
    "        for col, error in null_errors.items():\n",
    "            print(f\"  - Column '{col}': {error}\")\n",
    "        return False\n",
    "    else:\n",
    "        print(\"Validation Passed: No null values found in the specified columns.\")\n",
    "        return True\n",
    "\n",
    "# Sample Data\n",
    "data = {'id': [1, 2, 3, None], 'name': ['A', 'B', 'C', 'D'], 'value': [10.5, 20.0, 30.0, 'error']}\n",
    "df = pd.DataFrame(data)\n",
    "\n",
    "# Define validation rules\n",
    "required_columns = ['id', 'name', 'value']\n",
    "expected_dtypes = {'id': 'Int64', 'name': 'object', 'value': 'float64'}\n",
    "not_null_columns = ['id', 'name']\n",
    "\n",
    "# Run validations\n",
    "check_column_presence(df, required_columns)\n",
    "check_column_dtype(df, expected_dtypes)\n",
    "check_column_values_non_null(df, not_null_columns)"
   ]
  }
 ],
 "metadata": {
  "kernelspec": {
   "display_name": "Python 3",
   "language": "python",
   "name": "python3"
  },
  "language_info": {
   "codemirror_mode": {
    "name": "ipython",
    "version": 3
   },
   "file_extension": ".py",
   "mimetype": "text/x-python",
   "name": "python",
   "nbconvert_exporter": "python",
   "pygments_lexer": "ipython3",
   "version": "3.10.12"
  }
 },
 "nbformat": 4,
 "nbformat_minor": 2
}
