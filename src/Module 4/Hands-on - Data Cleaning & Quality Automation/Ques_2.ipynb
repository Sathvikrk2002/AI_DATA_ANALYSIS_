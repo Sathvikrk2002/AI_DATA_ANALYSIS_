{
 "cells": [
  {
   "cell_type": "code",
   "execution_count": 1,
   "metadata": {},
   "outputs": [
    {
     "name": "stdout",
     "output_type": "stream",
     "text": [
      "Original Column Names: ['CustomerID', 'Product Name', 'Order Date', 'Shipping Address']\n",
      "Standardized Column Names: ['customerid', 'product_name', 'order_date', 'shipping_address']\n",
      "\n",
      "Original Column Names (with extra spaces): ['  User ID  ', 'Item  Category', '  Last Activity ']\n",
      "Standardized Column Names: ['__user_id__', 'item__category', '__last_activity_']\n"
     ]
    }
   ],
   "source": [
    "def standardize_column_names(column_names):\n",
    "  \"\"\"Standardizes a list of column names to lowercase and replaces spaces with underscores.\n",
    "\n",
    "  Args:\n",
    "    column_names: A list of strings representing the column names.\n",
    "\n",
    "  Returns:\n",
    "    A list of strings where each column name is transformed to lowercase,\n",
    "    and spaces are replaced with underscores.\n",
    "  \"\"\"\n",
    "  standardized_names = []\n",
    "  for name in column_names:\n",
    "    standardized_name = name.lower().replace(\" \", \"_\")\n",
    "    standardized_names.append(standardized_name)\n",
    "  return standardized_names\n",
    "\n",
    "# Example Usage\n",
    "column_names = [\"CustomerID\", \"Product Name\", \"Order Date\", \"Shipping Address\"]\n",
    "standardized_names = standardize_column_names(column_names)\n",
    "print(f\"Original Column Names: {column_names}\")\n",
    "print(f\"Standardized Column Names: {standardized_names}\")\n",
    "\n",
    "column_names_with_extra_spaces = [\"  User ID  \", \"Item  Category\", \"  Last Activity \"]\n",
    "standardized_names_extra_spaces = standardize_column_names(column_names_with_extra_spaces)\n",
    "print(f\"\\nOriginal Column Names (with extra spaces): {column_names_with_extra_spaces}\")\n",
    "print(f\"Standardized Column Names: {standardized_names_extra_spaces}\")"
   ]
  },
  {
   "cell_type": "code",
   "execution_count": null,
   "metadata": {},
   "outputs": [],
   "source": [
    "# Part 2: Apply Standardization & Formatting Rules\n",
    "\n",
    "#     Step-by-Step Guidelines:\n",
    "# 1. Standardize Text Data\n",
    "#     1. Convert All Names to Lowercase:\n",
    "# 2. Format Numerical Data\n",
    "#     1. Round Age Column to the Nearest Integer:\n",
    "# 3. Combined Practice on Another Dataset\n",
    "#     1. New Sample Data:\n",
    "#     2. Standardize Product Names:\n",
    "#     3. Format Prices to Two Decimal Places:\n",
    "        \n",
    "        \n",
    "        \n",
    "        \n",
    "        "
   ]
  }
 ],
 "metadata": {
  "kernelspec": {
   "display_name": "Python 3",
   "language": "python",
   "name": "python3"
  },
  "language_info": {
   "codemirror_mode": {
    "name": "ipython",
    "version": 3
   },
   "file_extension": ".py",
   "mimetype": "text/x-python",
   "name": "python",
   "nbconvert_exporter": "python",
   "pygments_lexer": "ipython3",
   "version": "3.10.12"
  }
 },
 "nbformat": 4,
 "nbformat_minor": 2
}
