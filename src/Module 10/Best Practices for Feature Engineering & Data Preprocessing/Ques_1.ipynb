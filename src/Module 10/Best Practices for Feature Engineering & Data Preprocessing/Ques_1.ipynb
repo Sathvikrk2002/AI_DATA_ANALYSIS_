{
 "cells": [
  {
   "cell_type": "markdown",
   "metadata": {},
   "source": [
    "### Task 1: Handling Missing Values - Simple Imputation\n",
    "**Description**: Given a dataset with missing values, impute the missing values using the mean for numerical features and the mode for categorical features."
   ]
  },
  {
   "cell_type": "code",
   "execution_count": 1,
   "metadata": {},
   "outputs": [
    {
     "name": "stdout",
     "output_type": "stream",
     "text": [
      "Original Data:\n",
      "    Age   Income  Gender  City\n",
      "0  25.0  50000.0    Male    NY\n",
      "1  30.0      NaN  Female  None\n",
      "2   NaN  62000.0    None    LA\n",
      "3  22.0  58000.0  Female    LA\n",
      "4  28.0      NaN    Male    NY\n",
      "5   NaN  54000.0    None    NY\n",
      "\n",
      "Data after Imputation:\n",
      "     Age   Income  Gender City\n",
      "0  25.00  50000.0    Male   NY\n",
      "1  30.00  56000.0  Female   NY\n",
      "2  26.25  62000.0  Female   LA\n",
      "3  22.00  58000.0  Female   LA\n",
      "4  28.00  56000.0    Male   NY\n",
      "5  26.25  54000.0  Female   NY\n",
      "\n",
      "Unit test passed!\n"
     ]
    }
   ],
   "source": [
    "import pandas as pd\n",
    "\n",
    "def impute_missing_values(df):\n",
    "    if df.empty:\n",
    "        raise ValueError(\"Input dataframe is empty\")\n",
    "\n",
    "    numerical_cols = df.select_dtypes(include=[\"number\"]).columns\n",
    "    categorical_cols = df.select_dtypes(include=[\"object\"]).columns\n",
    "\n",
    "    for col in numerical_cols:\n",
    "        if df[col].dropna().empty:\n",
    "            raise ValueError(f\"Numerical column '{col}' contains only missing values\")\n",
    "        mean_value = df[col].mean()\n",
    "        df[col].fillna(mean_value, inplace=True)\n",
    "\n",
    "    for col in categorical_cols:\n",
    "        if df[col].dropna().empty:\n",
    "            raise ValueError(f\"Categorical column '{col}' contains only missing values\")\n",
    "        mode_value = df[col].mode()[0]\n",
    "        df[col].fillna(mode_value, inplace=True)\n",
    "\n",
    "    return df\n",
    "\n",
    "# Example usage\n",
    "data = {\n",
    "    \"Age\": [25, 30, None, 22, 28, None],\n",
    "    \"Income\": [50000, None, 62000, 58000, None, 54000],\n",
    "    \"Gender\": [\"Male\", \"Female\", None, \"Female\", \"Male\", None],\n",
    "    \"City\": [\"NY\", None, \"LA\", \"LA\", \"NY\", \"NY\"]\n",
    "}\n",
    "\n",
    "df = pd.DataFrame(data)\n",
    "print(\"Original Data:\")\n",
    "print(df)\n",
    "\n",
    "df_imputed = impute_missing_values(df)\n",
    "print(\"\\nData after Imputation:\")\n",
    "print(df_imputed)\n",
    "\n",
    "# Unit test\n",
    "def test_impute_missing_values():\n",
    "    test_data = {'num': [1, None, 3], 'cat': ['a', None, 'b']}\n",
    "    test_df = pd.DataFrame(test_data)\n",
    "    result = impute_missing_values(test_df)\n",
    "    assert not result.isnull().values.any()\n",
    "\n",
    "if __name__ == \"__main__\":\n",
    "    test_impute_missing_values()\n",
    "    print(\"\\nUnit test passed!\")"
   ]
  },
  {
   "cell_type": "markdown",
   "metadata": {},
   "source": [
    "### Task 2: Feature Scaling - Min-Max Normalization\n",
    "**Description**: Normalize a numerical feature using Min-Max scaling to a range [0, 1]."
   ]
  },
  {
   "cell_type": "code",
   "execution_count": 2,
   "metadata": {},
   "outputs": [
    {
     "name": "stdout",
     "output_type": "stream",
     "text": [
      "Original Data:\n",
      "   Age\n",
      "0   25\n",
      "1   30\n",
      "2   22\n",
      "3   28\n",
      "4   35\n",
      "5   40\n",
      "\n",
      "Data after Min-Max Normalization:\n",
      "   Age  Age_normalized\n",
      "0   25        0.166667\n",
      "1   30        0.444444\n",
      "2   22        0.000000\n",
      "3   28        0.333333\n",
      "4   35        0.722222\n",
      "5   40        1.000000\n"
     ]
    }
   ],
   "source": [
    "import pandas as pd\n",
    "\n",
    "# Sample data\n",
    "data = {\n",
    "    \"Age\": [25, 30, 22, 28, 35, 40]\n",
    "}\n",
    "\n",
    "df = pd.DataFrame(data)\n",
    "\n",
    "print(\"Original Data:\")\n",
    "print(df)\n",
    "\n",
    "# Min-Max Normalization formula: (x - min) / (max - min)\n",
    "df['Age_normalized'] = (df['Age'] - df['Age'].min()) / (df['Age'].max() - df['Age'].min())\n",
    "\n",
    "print(\"\\nData after Min-Max Normalization:\")\n",
    "print(df)"
   ]
  },
  {
   "cell_type": "markdown",
   "metadata": {},
   "source": [
    "### Task 3: Handling Missing Values - Drop Missing Values\n",
    "**Description**: Remove rows with missing values from a dataset."
   ]
  },
  {
   "cell_type": "code",
   "execution_count": 3,
   "metadata": {},
   "outputs": [
    {
     "name": "stdout",
     "output_type": "stream",
     "text": [
      "Original Data:\n",
      "    Age   Income  Gender  City\n",
      "0  25.0  50000.0    Male    NY\n",
      "1  30.0      NaN  Female  None\n",
      "2   NaN  62000.0    None    LA\n",
      "3  22.0  58000.0  Female    LA\n",
      "4  28.0      NaN    Male    NY\n",
      "5   NaN  54000.0    None    NY\n",
      "\n",
      "Data after dropping rows with missing values:\n",
      "    Age   Income  Gender City\n",
      "0  25.0  50000.0    Male   NY\n",
      "3  22.0  58000.0  Female   LA\n"
     ]
    }
   ],
   "source": [
    "import pandas as pd\n",
    "\n",
    "# Sample data with missing values\n",
    "data = {\n",
    "    \"Age\": [25, 30, None, 22, 28, None],\n",
    "    \"Income\": [50000, None, 62000, 58000, None, 54000],\n",
    "    \"Gender\": [\"Male\", \"Female\", None, \"Female\", \"Male\", None],\n",
    "    \"City\": [\"NY\", None, \"LA\", \"LA\", \"NY\", \"NY\"]\n",
    "}\n",
    "\n",
    "df = pd.DataFrame(data)\n",
    "\n",
    "print(\"Original Data:\")\n",
    "print(df)\n",
    "\n",
    "# Drop rows with any missing values\n",
    "df_cleaned = df.dropna()\n",
    "\n",
    "print(\"\\nData after dropping rows with missing values:\")\n",
    "print(df_cleaned)"
   ]
  },
  {
   "cell_type": "markdown",
   "metadata": {},
   "source": [
    "### Task 4: Feature Scaling - Standardization\n",
    "**Description**: Standardize a numerical feature to have zero mean and unit variance."
   ]
  },
  {
   "cell_type": "code",
   "execution_count": 4,
   "metadata": {},
   "outputs": [
    {
     "name": "stdout",
     "output_type": "stream",
     "text": [
      "Original Data:\n",
      "   Income\n",
      "0   50000\n",
      "1   55000\n",
      "2   62000\n",
      "3   58000\n",
      "4   60000\n",
      "\n",
      "Data after Standardization:\n",
      "   Income  Income_standardized\n",
      "0   50000            -1.492405\n",
      "1   55000            -0.426401\n",
      "2   62000             1.066004\n",
      "3   58000             0.213201\n",
      "4   60000             0.639602\n"
     ]
    },
    {
     "ename": "ModuleNotFoundError",
     "evalue": "No module named 'pytest'",
     "output_type": "error",
     "traceback": [
      "\u001b[0;31m---------------------------------------------------------------------------\u001b[0m",
      "\u001b[0;31mModuleNotFoundError\u001b[0m                       Traceback (most recent call last)",
      "Cell \u001b[0;32mIn[4], line 37\u001b[0m\n\u001b[1;32m     34\u001b[0m         standardize(pd\u001b[38;5;241m.\u001b[39mSeries([\u001b[38;5;241m5\u001b[39m, \u001b[38;5;241m5\u001b[39m, \u001b[38;5;241m5\u001b[39m]))\n\u001b[1;32m     36\u001b[0m \u001b[38;5;28;01mif\u001b[39;00m \u001b[38;5;18m__name__\u001b[39m \u001b[38;5;241m==\u001b[39m \u001b[38;5;124m\"\u001b[39m\u001b[38;5;124m__main__\u001b[39m\u001b[38;5;124m\"\u001b[39m:\n\u001b[0;32m---> 37\u001b[0m     \u001b[43mtest_standardize\u001b[49m\u001b[43m(\u001b[49m\u001b[43m)\u001b[49m\n\u001b[1;32m     38\u001b[0m     \u001b[38;5;28mprint\u001b[39m(\u001b[38;5;124m\"\u001b[39m\u001b[38;5;130;01m\\n\u001b[39;00m\u001b[38;5;124mUnit test passed!\u001b[39m\u001b[38;5;124m\"\u001b[39m)\n",
      "Cell \u001b[0;32mIn[4], line 27\u001b[0m, in \u001b[0;36mtest_standardize\u001b[0;34m()\u001b[0m\n\u001b[1;32m     26\u001b[0m \u001b[38;5;28;01mdef\u001b[39;00m\u001b[38;5;250m \u001b[39m\u001b[38;5;21mtest_standardize\u001b[39m():\n\u001b[0;32m---> 27\u001b[0m     \u001b[38;5;28;01mimport\u001b[39;00m\u001b[38;5;250m \u001b[39m\u001b[38;5;21;01mpytest\u001b[39;00m\n\u001b[1;32m     28\u001b[0m     series \u001b[38;5;241m=\u001b[39m pd\u001b[38;5;241m.\u001b[39mSeries([\u001b[38;5;241m10\u001b[39m, \u001b[38;5;241m20\u001b[39m, \u001b[38;5;241m30\u001b[39m])\n\u001b[1;32m     29\u001b[0m     standardized \u001b[38;5;241m=\u001b[39m standardize(series)\n",
      "\u001b[0;31mModuleNotFoundError\u001b[0m: No module named 'pytest'"
     ]
    }
   ],
   "source": [
    "import pandas as pd\n",
    "\n",
    "# Task 4: Feature Scaling - Standardization\n",
    "def standardize(series):\n",
    "    if series.empty:\n",
    "        raise ValueError(\"Input series is empty\")\n",
    "    mean_val = series.mean()\n",
    "    std_val = series.std()\n",
    "    if std_val == 0:\n",
    "        raise ValueError(\"Cannot standardize: standard deviation is zero\")\n",
    "    return (series - mean_val) / std_val\n",
    "\n",
    "# Example usage\n",
    "data = {'Income': [50000, 55000, 62000, 58000, 60000]}\n",
    "df = pd.DataFrame(data)\n",
    "\n",
    "print(\"Original Data:\")\n",
    "print(df)\n",
    "\n",
    "df['Income_standardized'] = standardize(df['Income'])\n",
    "\n",
    "print(\"\\nData after Standardization:\")\n",
    "print(df)\n",
    "\n",
    "# Unit test\n",
    "def test_standardize():\n",
    "    import pytest\n",
    "    series = pd.Series([10, 20, 30])\n",
    "    standardized = standardize(series)\n",
    "    assert abs(standardized.mean()) < 1e-6  # mean approximately 0\n",
    "    assert abs(standardized.std() - 1) < 1e-6  # std approximately 1\n",
    "\n",
    "    with pytest.raises(ValueError):\n",
    "        standardize(pd.Series([5, 5, 5]))\n",
    "\n",
    "if __name__ == \"__main__\":\n",
    "    test_standardize()\n",
    "    print(\"\\nUnit test passed!\")"
   ]
  }
 ],
 "metadata": {
  "kernelspec": {
   "display_name": "Python 3",
   "language": "python",
   "name": "python3"
  },
  "language_info": {
   "codemirror_mode": {
    "name": "ipython",
    "version": 3
   },
   "file_extension": ".py",
   "mimetype": "text/x-python",
   "name": "python",
   "nbconvert_exporter": "python",
   "pygments_lexer": "ipython3",
   "version": "3.10.12"
  }
 },
 "nbformat": 4,
 "nbformat_minor": 2
}
