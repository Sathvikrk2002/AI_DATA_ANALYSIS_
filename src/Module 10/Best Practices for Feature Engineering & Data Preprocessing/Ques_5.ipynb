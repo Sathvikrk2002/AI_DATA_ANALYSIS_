{
 "cells": [
  {
   "cell_type": "markdown",
   "metadata": {},
   "source": [
    "### Scaling & Feature Selection in a Pipeline\n",
    "**Description**: Create a pipeline that includes feature scaling, variance threshold selection, and a classification model."
   ]
  },
  {
   "cell_type": "code",
   "execution_count": 1,
   "metadata": {},
   "outputs": [
    {
     "name": "stdout",
     "output_type": "stream",
     "text": [
      "Model Accuracy: 0.96\n",
      "✅ All unit tests passed!\n"
     ]
    }
   ],
   "source": [
    "import pandas as pd\n",
    "import numpy as np\n",
    "from sklearn.datasets import load_breast_cancer\n",
    "from sklearn.model_selection import train_test_split\n",
    "from sklearn.preprocessing import StandardScaler\n",
    "from sklearn.feature_selection import VarianceThreshold\n",
    "from sklearn.ensemble import RandomForestClassifier\n",
    "from sklearn.pipeline import Pipeline\n",
    "from sklearn.metrics import accuracy_score\n",
    "\n",
    "# Load dataset\n",
    "data = load_breast_cancer()\n",
    "X = pd.DataFrame(data.data, columns=data.feature_names)\n",
    "y = pd.Series(data.target)\n",
    "\n",
    "# Train-test split\n",
    "X_train, X_test, y_train, y_test = train_test_split(X, y, test_size=0.2, random_state=42)\n",
    "\n",
    "# ---------------------------------------\n",
    "# Step 1: Data Integrity and Error Handling\n",
    "# ---------------------------------------\n",
    "\n",
    "def validate_data(X, y):\n",
    "    if not isinstance(X, pd.DataFrame):\n",
    "        raise ValueError(\"X must be a pandas DataFrame.\")\n",
    "    if not isinstance(y, pd.Series):\n",
    "        raise ValueError(\"y must be a pandas Series.\")\n",
    "    if X.empty or y.empty:\n",
    "        raise ValueError(\"Input data is empty.\")\n",
    "    if X.isnull().sum().sum() > 0:\n",
    "        raise ValueError(\"Input data contains missing values.\")\n",
    "    if y.nunique() < 2:\n",
    "        raise ValueError(\"Target variable must have at least two classes.\")\n",
    "\n",
    "# Validate before training\n",
    "validate_data(X_train, y_train)\n",
    "\n",
    "# ---------------------------------------\n",
    "# Step 2: Pipeline Definition\n",
    "# ---------------------------------------\n",
    "\n",
    "pipeline = Pipeline(steps=[\n",
    "    (\"scaler\", StandardScaler()),\n",
    "    (\"feature_selector\", VarianceThreshold(threshold=0.01)),\n",
    "    (\"classifier\", RandomForestClassifier(random_state=42))\n",
    "])\n",
    "\n",
    "# ---------------------------------------\n",
    "# Step 3: Train and Predict\n",
    "# ---------------------------------------\n",
    "\n",
    "try:\n",
    "    pipeline.fit(X_train, y_train)\n",
    "    y_pred = pipeline.predict(X_test)\n",
    "    acc = accuracy_score(y_test, y_pred)\n",
    "    print(f\"Model Accuracy: {acc:.2f}\")\n",
    "except Exception as e:\n",
    "    print(f\"Pipeline training or prediction failed: {e}\")\n",
    "\n",
    "# ---------------------------------------\n",
    "# Step 4: Unit Tests for Robustness\n",
    "# ---------------------------------------\n",
    "\n",
    "def test_pipeline_components():\n",
    "    # Test 1: Check if scaled output has same shape\n",
    "    X_scaled = pipeline.named_steps['scaler'].transform(X_test)\n",
    "    assert X_scaled.shape == X_test.shape, \"Scaler output shape mismatch\"\n",
    "\n",
    "    # Test 2: Feature selection reduces features\n",
    "    X_selected = pipeline.named_steps['feature_selector'].transform(X_scaled)\n",
    "    assert X_selected.shape[1] <= X_scaled.shape[1], \"Feature selector did not reduce features\"\n",
    "\n",
    "    # Test 3: Predict length matches test labels\n",
    "    preds = pipeline.predict(X_test)\n",
    "    assert len(preds) == len(y_test), \"Prediction length mismatch\"\n",
    "\n",
    "    print(\"✅ All unit tests passed!\")\n",
    "\n",
    "# Run unit tests\n",
    "test_pipeline_components()"
   ]
  }
 ],
 "metadata": {
  "kernelspec": {
   "display_name": "Python 3",
   "language": "python",
   "name": "python3"
  },
  "language_info": {
   "codemirror_mode": {
    "name": "ipython",
    "version": 3
   },
   "file_extension": ".py",
   "mimetype": "text/x-python",
   "name": "python",
   "nbconvert_exporter": "python",
   "pygments_lexer": "ipython3",
   "version": "3.10.12"
  }
 },
 "nbformat": 4,
 "nbformat_minor": 2
}
