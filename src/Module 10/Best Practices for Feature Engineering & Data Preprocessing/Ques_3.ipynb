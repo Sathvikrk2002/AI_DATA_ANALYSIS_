{
 "cells": [
  {
   "cell_type": "markdown",
   "metadata": {},
   "source": [
    "### Feature Selection - Variance Threshold\n",
    "**Description**: Remove features with low variance."
   ]
  },
  {
   "cell_type": "code",
   "execution_count": 1,
   "metadata": {},
   "outputs": [
    {
     "name": "stdout",
     "output_type": "stream",
     "text": [
      "Original Data:\n",
      "   Feature1  Feature2  Feature3  Feature4\n",
      "0         1         2        10         1\n",
      "1         1         3        10         0\n",
      "2         1         2        10         1\n",
      "3         1         3        10         0\n",
      "4         1         2        10         1\n",
      "\n",
      "Selected features after Variance Threshold:\n",
      "Index(['Feature2', 'Feature4'], dtype='object')\n",
      "\n",
      "Data after removing low variance features:\n",
      "   Feature2  Feature4\n",
      "0         2         1\n",
      "1         3         0\n",
      "2         2         1\n",
      "3         3         0\n",
      "4         2         1\n"
     ]
    }
   ],
   "source": [
    "import pandas as pd\n",
    "from sklearn.feature_selection import VarianceThreshold\n",
    "\n",
    "# Sample data with some low variance features\n",
    "data = {\n",
    "    'Feature1': [1, 1, 1, 1, 1],     # zero variance (all same)\n",
    "    'Feature2': [2, 3, 2, 3, 2],     # some variance\n",
    "    'Feature3': [10, 10, 10, 10, 10], # zero variance\n",
    "    'Feature4': [1, 0, 1, 0, 1]      # some variance\n",
    "}\n",
    "\n",
    "df = pd.DataFrame(data)\n",
    "print(\"Original Data:\")\n",
    "print(df)\n",
    "\n",
    "# VarianceThreshold with threshold=0 removes all features with zero variance\n",
    "selector = VarianceThreshold(threshold=0)\n",
    "\n",
    "# Fit and transform the data\n",
    "df_reduced = selector.fit_transform(df)\n",
    "\n",
    "# Get selected feature names\n",
    "selected_features = df.columns[selector.get_support()]\n",
    "\n",
    "print(\"\\nSelected features after Variance Threshold:\")\n",
    "print(selected_features)\n",
    "\n",
    "# Convert back to DataFrame\n",
    "df_reduced = pd.DataFrame(df_reduced, columns=selected_features)\n",
    "print(\"\\nData after removing low variance features:\")\n",
    "print(df_reduced)\n"
   ]
  }
 ],
 "metadata": {
  "kernelspec": {
   "display_name": "Python 3",
   "language": "python",
   "name": "python3"
  },
  "language_info": {
   "codemirror_mode": {
    "name": "ipython",
    "version": 3
   },
   "file_extension": ".py",
   "mimetype": "text/x-python",
   "name": "python",
   "nbconvert_exporter": "python",
   "pygments_lexer": "ipython3",
   "version": "3.10.12"
  }
 },
 "nbformat": 4,
 "nbformat_minor": 2
}
