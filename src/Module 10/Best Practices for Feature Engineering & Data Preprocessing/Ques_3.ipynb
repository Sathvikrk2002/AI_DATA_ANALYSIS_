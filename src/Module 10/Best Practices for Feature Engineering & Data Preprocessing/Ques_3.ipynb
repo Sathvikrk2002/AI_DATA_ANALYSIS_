{
 "cells": [
  {
   "cell_type": "markdown",
   "metadata": {},
   "source": [
    "### Feature Selection - Variance Threshold\n",
    "**Description**: Remove features with low variance."
   ]
  },
  {
   "cell_type": "code",
   "execution_count": null,
   "metadata": {},
   "outputs": [],
   "source": [
    "import pandas as pd\n",
    "from sklearn.feature_selection import VarianceThreshold\n",
    "\n",
    "# Sample data with some low variance features\n",
    "data = {\n",
    "    'Feature1': [1, 1, 1, 1, 1],     # zero variance (all same)\n",
    "    'Feature2': [2, 3, 2, 3, 2],     # some variance\n",
    "    'Feature3': [10, 10, 10, 10, 10], # zero variance\n",
    "    'Feature4': [1, 0, 1, 0, 1]      # some variance\n",
    "}\n",
    "\n",
    "df = pd.DataFrame(data)\n",
    "print(\"Original Data:\")\n",
    "print(df)\n",
    "\n",
    "# VarianceThreshold with threshold=0 removes all features with zero variance\n",
    "selector = VarianceThreshold(threshold=0)\n",
    "\n",
    "# Fit and transform the data\n",
    "df_reduced = selector.fit_transform(df)\n",
    "\n",
    "# Get selected feature names\n",
    "selected_features = df.columns[selector.get_support()]\n",
    "\n",
    "print(\"\\nSelected features after Variance Threshold:\")\n",
    "print(selected_features)\n",
    "\n",
    "# Convert back to DataFrame\n",
    "df_reduced = pd.DataFrame(df_reduced, columns=selected_features)\n",
    "print(\"\\nData after removing low variance features:\")\n",
    "print(df_reduced)\n"
   ]
  }
 ],
 "metadata": {
  "kernelspec": {
   "display_name": "base",
   "language": "python",
   "name": "python3"
  },
  "language_info": {
   "name": "python",
   "version": "3.12.7"
  }
 },
 "nbformat": 4,
 "nbformat_minor": 2
}
