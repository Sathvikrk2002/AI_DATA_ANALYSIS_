{
 "cells": [
  {
   "cell_type": "markdown",
   "metadata": {},
   "source": [
    "## Real-World Case Studies\n",
    "\n",
    "### Finance - Fraud Detection Models:\n",
    "**Description**: Analyze a financial dataset, define SLAs for data accuracy and\n",
    "completeness, and ensure high data quality for fraud detection models."
   ]
  },
  {
   "cell_type": "code",
   "execution_count": 1,
   "metadata": {},
   "outputs": [
    {
     "name": "stdout",
     "output_type": "stream",
     "text": [
      "✅ Accuracy Score (valid transaction amounts): 60.0 %\n",
      "✅ Completeness Score (non-missing critical fields): 80.0 %\n",
      "✅ All checks passed.\n"
     ]
    }
   ],
   "source": [
    "import pandas as pd\n",
    "import numpy as np\n",
    "\n",
    "# -----------------------------\n",
    "# Step 1: Create a sample financial transactions dataset\n",
    "# -----------------------------\n",
    "def create_transaction_data():\n",
    "    data = {\n",
    "        'transaction_amount': [100, 250, np.nan, 75, -20],  # -20 is invalid\n",
    "        'timestamp': pd.to_datetime([\n",
    "            '2025-05-20 12:00:00',\n",
    "            '2025-05-20 12:05:00',\n",
    "            '2025-05-20 12:10:00',\n",
    "            '2025-05-20 12:15:00',\n",
    "            '2025-05-20 12:20:00'\n",
    "        ]),\n",
    "        'ingestion_time': pd.to_datetime([\n",
    "            '2025-05-20 12:10:00',\n",
    "            '2025-05-20 12:10:00',\n",
    "            '2025-05-20 12:15:00',\n",
    "            '2025-05-20 12:30:00',\n",
    "            '2025-05-20 12:40:00'\n",
    "        ]),\n",
    "        'customer_id': ['C1', 'C2', 'C1', None, 'C4'],\n",
    "        'merchant_id': ['M1', 'M2', 'M1', 'M2', 'M3']\n",
    "    }\n",
    "    return pd.DataFrame(data)\n",
    "\n",
    "# -----------------------------\n",
    "# Step 2: Data Quality Checks\n",
    "# -----------------------------\n",
    "def check_data_quality(df):\n",
    "    # Check 1: Accuracy - transaction_amount should be numeric and >= 0\n",
    "    accuracy_check = df['transaction_amount'].apply(lambda x: isinstance(x, (int, float)) and x >= 0)\n",
    "    accuracy_score = accuracy_check.mean()\n",
    "\n",
    "    # Check 2: Completeness - no missing values in critical fields\n",
    "    completeness_score = df[['transaction_amount', 'customer_id']].notnull().mean().mean()\n",
    "\n",
    "    print(\"✅ Accuracy Score (valid transaction amounts):\", round(accuracy_score * 100, 2), \"%\")\n",
    "    print(\"✅ Completeness Score (non-missing critical fields):\", round(completeness_score * 100, 2), \"%\")\n",
    "\n",
    "    return accuracy_score, completeness_score\n",
    "\n",
    "# -----------------------------\n",
    "# Step 3: Error Handling\n",
    "# -----------------------------\n",
    "def safe_run():\n",
    "    try:\n",
    "        df = create_transaction_data()\n",
    "\n",
    "        # Check if required columns exist\n",
    "        required_columns = ['transaction_amount', 'customer_id', 'timestamp', 'ingestion_time']\n",
    "        for col in required_columns:\n",
    "            if col not in df.columns:\n",
    "                raise ValueError(f\"Missing required column: {col}\")\n",
    "\n",
    "        accuracy_score, completeness_score = check_data_quality(df)\n",
    "\n",
    "        # Optional: Basic Unit Tests\n",
    "        assert accuracy_score >= 0.6, \"Accuracy too low\"\n",
    "        assert completeness_score >= 0.8, \"Completeness too low\"\n",
    "\n",
    "        print(\"✅ All checks passed.\")\n",
    "\n",
    "    except Exception as e:\n",
    "        print(\"❌ Error during data quality validation:\", str(e))\n",
    "\n",
    "# -----------------------------\n",
    "# Execute\n",
    "# -----------------------------\n",
    "safe_run()\n"
   ]
  }
 ],
 "metadata": {
  "kernelspec": {
   "display_name": "Python 3",
   "language": "python",
   "name": "python3"
  },
  "language_info": {
   "codemirror_mode": {
    "name": "ipython",
    "version": 3
   },
   "file_extension": ".py",
   "mimetype": "text/x-python",
   "name": "python",
   "nbconvert_exporter": "python",
   "pygments_lexer": "ipython3",
   "version": "3.10.12"
  }
 },
 "nbformat": 4,
 "nbformat_minor": 2
}
