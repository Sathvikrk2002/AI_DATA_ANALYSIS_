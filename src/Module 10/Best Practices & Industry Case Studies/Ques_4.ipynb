{
 "cells": [
  {
   "cell_type": "markdown",
   "metadata": {},
   "source": [
    "## Real-World Case Studies\n",
    "\n",
    "### Healthcare - Medical Prediction Errors:\n",
    "**Description**: Implement validation rules using a healthcare dataset to reduce errors in\n",
    "predictive models by automating data quality checks."
   ]
  },
  {
   "cell_type": "code",
   "execution_count": 2,
   "metadata": {},
   "outputs": [
    {
     "ename": "ModuleNotFoundError",
     "evalue": "No module named 'great_expectations.dataset'",
     "output_type": "error",
     "traceback": [
      "\u001b[0;31m---------------------------------------------------------------------------\u001b[0m",
      "\u001b[0;31mModuleNotFoundError\u001b[0m                       Traceback (most recent call last)",
      "Cell \u001b[0;32mIn[2], line 2\u001b[0m\n\u001b[1;32m      1\u001b[0m \u001b[38;5;28;01mimport\u001b[39;00m\u001b[38;5;250m \u001b[39m\u001b[38;5;21;01mpandas\u001b[39;00m\u001b[38;5;250m \u001b[39m\u001b[38;5;28;01mas\u001b[39;00m\u001b[38;5;250m \u001b[39m\u001b[38;5;21;01mpd\u001b[39;00m\n\u001b[0;32m----> 2\u001b[0m \u001b[38;5;28;01mfrom\u001b[39;00m\u001b[38;5;250m \u001b[39m\u001b[38;5;21;01mgreat_expectations\u001b[39;00m\u001b[38;5;21;01m.\u001b[39;00m\u001b[38;5;21;01mdataset\u001b[39;00m\u001b[38;5;250m \u001b[39m\u001b[38;5;28;01mimport\u001b[39;00m PandasDataset\n\u001b[1;32m      4\u001b[0m \u001b[38;5;66;03m# STEP 1: Create healthcare dataset\u001b[39;00m\n\u001b[1;32m      5\u001b[0m \u001b[38;5;28;01mdef\u001b[39;00m\u001b[38;5;250m \u001b[39m\u001b[38;5;21mcreate_healthcare_data\u001b[39m():\n",
      "\u001b[0;31mModuleNotFoundError\u001b[0m: No module named 'great_expectations.dataset'"
     ]
    }
   ],
   "source": [
    "import pandas as pd\n",
    "from great_expectations.dataset import PandasDataset\n",
    "\n",
    "# STEP 1: Create healthcare dataset\n",
    "def create_healthcare_data():\n",
    "    data = {\n",
    "        \"patient_id\": [1, 2, 3, 4],\n",
    "        \"age\": [25, 140, 35, 50],\n",
    "        \"heart_rate\": [72, 80, None, 88],\n",
    "        \"blood_pressure\": [120, 130, 115, 140],\n",
    "        \"glucose_level\": [90, 110, 85, None],\n",
    "        \"birth_date\": [\"1998-03-12\", \"1880-01-01\", \"1989-07-22\", \"1975-10-02\"],\n",
    "        \"diagnosis_date\": [\"2022-05-10\", \"2021-11-03\", \"2020-08-15\", \"1970-01-01\"],\n",
    "    }\n",
    "    df = pd.DataFrame(data)\n",
    "    df[\"birth_date\"] = pd.to_datetime(df[\"birth_date\"], errors='coerce')\n",
    "    df[\"diagnosis_date\"] = pd.to_datetime(df[\"diagnosis_date\"], errors='coerce')\n",
    "    return df\n",
    "\n",
    "# STEP 2: Extend PandasDataset with expectations\n",
    "class HealthcareDataset(PandasDataset):\n",
    "    def run_validations(self):\n",
    "        self.expect_column_values_to_be_between(\"age\", min_value=0, max_value=120)\n",
    "        self.expect_column_values_to_not_be_null(\"heart_rate\")\n",
    "        self.expect_column_values_to_not_be_null(\"blood_pressure\")\n",
    "        self.expect_column_values_to_not_be_null(\"glucose_level\")\n",
    "        self.expect_column_pair_values_A_to_be_less_than_B(\"birth_date\", \"diagnosis_date\")\n",
    "\n",
    "# STEP 3: Run validation with error handling\n",
    "def run_validation():\n",
    "    df = create_healthcare_data()\n",
    "    ge_df = HealthcareDataset(df)\n",
    "\n",
    "    try:\n",
    "        ge_df.run_validations()\n",
    "        results = ge_df.validate()\n",
    "        print(\"✅ Validation Success:\", results[\"success\"])\n",
    "        for r in results[\"results\"]:\n",
    "            print(f\"{r['expectation_config']['expectation_type']}: {r['success']}\")\n",
    "        return results\n",
    "    except Exception as e:\n",
    "        print(\"❌ Error during validation:\", e)\n",
    "        return None\n",
    "\n",
    "# STEP 4: Basic unit test\n",
    "def test_validation():\n",
    "    results = run_validation()\n",
    "    assert results is not None, \"Validation failed to run.\"\n",
    "    assert results[\"success\"] is False, \"Expected validation to fail due to invalid data.\"\n",
    "    failed_tests = [r for r in results[\"results\"] if not r[\"success\"]]\n",
    "    assert len(failed_tests) >= 1, \"At least one validation rule should fail.\"\n",
    "\n",
    "\n",
    "if __name__ == \"__main__\":\n",
    "    test_validation()\n",
    "    print(\"✅ All unit tests passed.\")"
   ]
  }
 ],
 "metadata": {
  "kernelspec": {
   "display_name": "Python 3",
   "language": "python",
   "name": "python3"
  },
  "language_info": {
   "codemirror_mode": {
    "name": "ipython",
    "version": 3
   },
   "file_extension": ".py",
   "mimetype": "text/x-python",
   "name": "python",
   "nbconvert_exporter": "python",
   "pygments_lexer": "ipython3",
   "version": "3.10.12"
  }
 },
 "nbformat": 4,
 "nbformat_minor": 2
}
