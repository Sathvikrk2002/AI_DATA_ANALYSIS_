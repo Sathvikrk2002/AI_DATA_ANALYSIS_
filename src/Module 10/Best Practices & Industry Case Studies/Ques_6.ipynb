{
 "cells": [
  {
   "cell_type": "markdown",
   "metadata": {},
   "source": [
    "### Basic ML Model Monitoring with MLFlow\n",
    "**Description**: Set up a basic ML model monitoring pipeline using MLFlow to track experiment parameters and results.\n",
    "\n",
    "**Steps**:\n",
    "1. Installation\n",
    "2. Set Up MLFlow Tracking\n",
    "3. Training a Simple Model\n",
    "4. Logging Model and Metrics\n",
    "5. View Logged Data\n",
    "    - Access the MLFlow UI to view your logged parameters, metrics, and models."
   ]
  },
  {
   "cell_type": "code",
   "execution_count": 1,
   "metadata": {},
   "outputs": [
    {
     "ename": "ModuleNotFoundError",
     "evalue": "No module named 'mlflow'",
     "output_type": "error",
     "traceback": [
      "\u001b[0;31m---------------------------------------------------------------------------\u001b[0m",
      "\u001b[0;31mModuleNotFoundError\u001b[0m                       Traceback (most recent call last)",
      "Cell \u001b[0;32mIn[1], line 1\u001b[0m\n\u001b[0;32m----> 1\u001b[0m \u001b[38;5;28;01mimport\u001b[39;00m\u001b[38;5;250m \u001b[39m\u001b[38;5;21;01mmlflow\u001b[39;00m\n\u001b[1;32m      2\u001b[0m \u001b[38;5;28;01mimport\u001b[39;00m\u001b[38;5;250m \u001b[39m\u001b[38;5;21;01mmlflow\u001b[39;00m\u001b[38;5;21;01m.\u001b[39;00m\u001b[38;5;21;01msklearn\u001b[39;00m\n\u001b[1;32m      3\u001b[0m \u001b[38;5;28;01mfrom\u001b[39;00m\u001b[38;5;250m \u001b[39m\u001b[38;5;21;01msklearn\u001b[39;00m\u001b[38;5;21;01m.\u001b[39;00m\u001b[38;5;21;01mlinear_model\u001b[39;00m\u001b[38;5;250m \u001b[39m\u001b[38;5;28;01mimport\u001b[39;00m LinearRegression\n",
      "\u001b[0;31mModuleNotFoundError\u001b[0m: No module named 'mlflow'"
     ]
    }
   ],
   "source": [
    "import mlflow\n",
    "import mlflow.sklearn\n",
    "from sklearn.linear_model import LinearRegression\n",
    "from sklearn.model_selection import train_test_split\n",
    "from sklearn.metrics import mean_squared_error, r2_score\n",
    "import pandas as pd\n",
    "import numpy as np\n",
    "\n",
    "# --------- Step 1: Generate and prepare data ---------\n",
    "def generate_data():\n",
    "    np.random.seed(42)\n",
    "    X = 2 * np.random.rand(100, 1)\n",
    "    y = 4 + 3 * X.flatten() + np.random.randn(100)\n",
    "    return train_test_split(X, y, test_size=0.2, random_state=42)\n",
    "\n",
    "# --------- Step 2: Train and Evaluate Model ---------\n",
    "def train_model(X_train, y_train):\n",
    "    try:\n",
    "        model = LinearRegression()\n",
    "        model.fit(X_train, y_train)\n",
    "        return model\n",
    "    except Exception as e:\n",
    "        print(f\"❌ Model training failed: {e}\")\n",
    "        return None\n",
    "\n",
    "def evaluate_model(model, X_test, y_test):\n",
    "    try:\n",
    "        y_pred = model.predict(X_test)\n",
    "        mse = mean_squared_error(y_test, y_pred)\n",
    "        r2 = r2_score(y_test, y_pred)\n",
    "        return mse, r2, y_pred\n",
    "    except Exception as e:\n",
    "        print(f\"❌ Evaluation failed: {e}\")\n",
    "        return None, None, None\n",
    "\n",
    "# --------- Step 3: Log to MLFlow ---------\n",
    "def log_experiment(model, mse, r2):\n",
    "    try:\n",
    "        mlflow.set_experiment(\"Enhanced_Regression_Experiment\")\n",
    "        with mlflow.start_run():\n",
    "            mlflow.log_param(\"model_type\", \"LinearRegression\")\n",
    "            mlflow.log_metric(\"mse\", mse)\n",
    "            mlflow.log_metric(\"r2_score\", r2)\n",
    "            mlflow.sklearn.log_model(model, \"model\")\n",
    "            print(f\"✅ Run logged. MSE: {mse:.2f}, R2: {r2:.2f}\")\n",
    "    except Exception as e:\n",
    "        print(f\"❌ MLFlow logging failed: {e}\")\n",
    "\n",
    "# --------- Step 4: Test Functions ---------\n",
    "def test_model_training():\n",
    "    X_train, X_test, y_train, y_test = generate_data()\n",
    "    model = train_model(X_train, y_train)\n",
    "    assert model is not None, \"Model training failed\"\n",
    "    print(\"✅ Test: Model training successful\")\n",
    "\n",
    "def test_model_prediction():\n",
    "    X_train, X_test, y_train, y_test = generate_data()\n",
    "    model = train_model(X_train, y_train)\n",
    "    _, _, y_pred = evaluate_model(model, X_test, y_test)\n",
    "    assert y_pred is not None and len(y_pred) == len(y_test), \"Prediction failed\"\n",
    "    print(\"✅ Test: Model prediction successful\")\n",
    "\n",
    "# --------- Step 5: Run Everything ---------\n",
    "if __name__ == \"__main__\":\n",
    "    try:\n",
    "        # Run tests first\n",
    "        test_model_training()\n",
    "        test_model_prediction()\n",
    "\n",
    "        # Full pipeline\n",
    "        X_train, X_test, y_train, y_test = generate_data()\n",
    "        model = train_model(X_train, y_train)\n",
    "        mse, r2, _ = evaluate_model(model, X_test, y_test)\n",
    "        log_experiment(model, mse, r2)\n",
    "\n",
    "        print(\"👉 To view MLflow dashboard: Run 'mlflow ui' and go to http://localhost:5000\")\n",
    "    except Exception as e:\n",
    "        print(f\"❌ Pipeline failed: {e}\")"
   ]
  }
 ],
 "metadata": {
  "kernelspec": {
   "display_name": "Python 3",
   "language": "python",
   "name": "python3"
  },
  "language_info": {
   "codemirror_mode": {
    "name": "ipython",
    "version": 3
   },
   "file_extension": ".py",
   "mimetype": "text/x-python",
   "name": "python",
   "nbconvert_exporter": "python",
   "pygments_lexer": "ipython3",
   "version": "3.10.12"
  }
 },
 "nbformat": 4,
 "nbformat_minor": 2
}
